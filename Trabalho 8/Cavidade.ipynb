{
 "cells": [
  {
   "cell_type": "code",
   "execution_count": 1,
   "metadata": {
    "collapsed": true
   },
   "outputs": [],
   "source": [
    "import numpy as np\n",
    "from scipy.linalg import *\n",
    "import matplotlib.pyplot as plt\n",
    "import pandas as pd\n",
    "from pandas import DataFrame,Series\n",
    "import math\n",
    "import time\n",
    "import matplotlib.pylab as pltt\n",
    "import scipy.sparse as sps"
   ]
  },
  {
   "cell_type": "code",
   "execution_count": 2,
   "metadata": {
    "collapsed": false
   },
   "outputs": [],
   "source": [
    "Re = 400\n",
    "rho = 1\n",
    "L = 0.1\n",
    "V = 1\n",
    "mu = rho*V*L/Re\n",
    "w = 1"
   ]
  },
  {
   "cell_type": "code",
   "execution_count": 3,
   "metadata": {
    "collapsed": true
   },
   "outputs": [],
   "source": [
    "meshx = 4\n",
    "deltax = L/meshx\n",
    "\n",
    "meshy = 4\n",
    "deltay = L/meshy\n",
    "\n",
    "mesht = 2 #para o primeiro tempo as velocidades e a pressão são zero\n",
    "deltat = 1e10"
   ]
  },
  {
   "cell_type": "code",
   "execution_count": 4,
   "metadata": {
    "collapsed": false
   },
   "outputs": [],
   "source": [
    "P = np.zeros(((mesht,meshx,meshy)))\n",
    "u = np.zeros(((mesht,meshx,meshy)))\n",
    "v = np.zeros(((mesht,meshx,meshy)))"
   ]
  },
  {
   "cell_type": "code",
   "execution_count": 5,
   "metadata": {
    "collapsed": false
   },
   "outputs": [],
   "source": [
    "# Massa do Volume de Controle\n",
    "Mp=rho*deltax*deltay*w\n",
    "# Termos Difusivos\n",
    "De_u=mu*deltay*w/deltax\n",
    "De_v=mu*deltay*w/deltax\n",
    "Dw_u=mu*deltay*w/deltax\n",
    "Dw_v=mu*deltay*w/deltax\n",
    "Dn_u=mu*deltax*w/deltay\n",
    "Dn_v=mu*deltax*w/deltay\n",
    "Ds_u=mu*deltax*w/deltay\n",
    "Ds_v=mu*deltax*w/deltay\n",
    "\n",
    "#a_p_o_u=(M_p/deltat)*ones(NTx,NTy)\n",
    "#a_p_o_v=(M_p/deltat)*ones(NTx,NTy)\n",
    "\n"
   ]
  },
  {
   "cell_type": "code",
   "execution_count": 6,
   "metadata": {
    "collapsed": true
   },
   "outputs": [],
   "source": [
    "#posição em relação a manlha da pressão\n",
    "x_plot = np.zeros(meshx)\n",
    "y_plot = np.zeros(meshy)\n",
    "t_plot = np.zeros(mesht)\n",
    "\n",
    "x_plot = np.linspace(deltax/2,L-deltax/2,meshx)\n",
    "y_plot = np.linspace(deltay/2,L-deltay/2,meshy)"
   ]
  },
  {
   "cell_type": "code",
   "execution_count": null,
   "metadata": {
    "collapsed": false
   },
   "outputs": [],
   "source": [
    "#CDS\n",
    "Me_u = np.zeros((meshx,meshy))\n",
    "Mw_u = np.zeros((meshx,meshy))\n",
    "Mn_u = np.zeros((meshx,meshy))\n",
    "Ms_u = np.zeros((meshx,meshy))\n",
    "\n",
    "Me_v = np.zeros((meshx,meshy))\n",
    "Mw_v = np.zeros((meshx,meshy))\n",
    "Mn_v = np.zeros((meshx,meshy))\n",
    "Ms_v = np.zeros((meshx,meshy))\n",
    "\n",
    "ae_u = np.zeros((meshx,meshy))\n",
    "aw_u = np.zeros((meshx,meshy))\n",
    "an_u = np.zeros((meshx,meshy))\n",
    "as_u = np.zeros((meshx,meshy))\n",
    "ap0_u = np.zeros((meshx,meshy))\n",
    "b_u = np.zeros((meshx,meshy))\n",
    "ap_u = np.zeros((meshx,meshy))\n",
    "ae_v = np.zeros((meshx,meshy))\n",
    "aw_v = np.zeros((meshx,meshy))\n",
    "an_v = np.zeros((meshx,meshy))\n",
    "as_v = np.zeros((meshx,meshy))\n",
    "ap0_v = np.zeros((meshx,meshy))\n",
    "b_v = np.zeros((meshx,meshy))\n",
    "ap_v = np.zeros((meshx,meshy))\n",
    "\n",
    "u_antigo = np.zeros((meshx,meshy))\n",
    "v_antigo = np.zeros((meshx,meshy))\n",
    "P_antigo = np.zeros((meshx,meshy))\n",
    "\n",
    "eps = 1e-6\n",
    "erro = 1\n",
    "for t in range(1,mesht):\n",
    "    iteraracoes = 0\n",
    "    while (erro > eps): #arrumar dps\n",
    "        u_antigo[:,:] = u[t,:,:]\n",
    "        v_antigo[:,:] = v[t,:,:]\n",
    "        P_antigo[:,:] = P[t,:,:]\n",
    "        \n",
    "        for y in range(1,meshy-1):\n",
    "            for x in range(1,meshx-1):            \n",
    "                Me_u[x,y] = rho*(u[t,x,y]+u[t,x+1,y])/2*deltay*w\n",
    "                Mw_u[x,y] = rho*(u[t,x,y]+u[t,x-1,y])/2*deltay*w\n",
    "                Mn_u[x,y] = rho*(v[t,x,y]+v[t,x+1,y])/2*deltax*w\n",
    "                Ms_u[x,y] = rho*(v[t,x,y-1]+v[t,x+1,y-1])/2*deltax*w\n",
    "                \n",
    "                Me_v[x,y] = rho*(u[t,x,y]+u[t,x,y+1])/2*deltay*w\n",
    "                Mw_v[x,y] = rho*(u[t,x-1,y+1]+u[t,x-1,y])/2*deltay*w\n",
    "                Mn_v[x,y] = rho*(v[t,x,y]+v[t,x,y+1])/2*deltax*w\n",
    "                Ms_v[x,y] = rho*(v[t,x,y]+v[t,x,y-1])/2*deltax*w\n",
    "\n",
    "                ae_u[x,y] = De_u - Me_u[x,y]/2\n",
    "                aw_u[x,y] = Dw_u + Mw_u[x,y]/2\n",
    "                an_u[x,y] = Dn_u - Mn_u[x,y]/2\n",
    "                as_u[x,y] = Ds_u + Ms_u[x,y]/2\n",
    "                ap0_u[x,y] = Mp/deltat\n",
    "                b_u[x,y] =ap0_u[x,y]*u[t-1,x,y]\n",
    "                ap_u[x,y] = ae_u[x,y] + aw_u[x,y] + an_u[x,y] + as_u[x,y] + ap0_u[x,y]\n",
    "                \n",
    "                ae_v[x,y] = De_v - Me_v[x,y]/2\n",
    "                aw_v[x,y] = Dw_v + Mw_v[x,y]/2\n",
    "                an_v[x,y] = Dn_v - Mn_v[x,y]/2\n",
    "                as_v[x,y] = Ds_v + Ms_v[x,y]/2\n",
    "                ap0_v[x,y] = Mp/deltat\n",
    "                b_v[x,y] =ap0_v[x,y]*v[t-1,x,y]\n",
    "                ap_v[x,y] = ae_v[x,y] + aw_v[x,y] + an_v[x,y] + as_v[x,y] + ap0_v[x,y]\n",
    "        ##Condições de contorno para C.Q.M em x:\n",
    "        #face esquerda        \n",
    "        for y in range(meshy):\n",
    "            ap_u[0,y] = 1\n",
    "            b_u[0,y] = 0\n",
    "            \n",
    "        #face direita\n",
    "        for y in range(meshy):\n",
    "            ap_u[meshx-1,y] = 1\n",
    "            b_u[meshx-1,y] = 0\n",
    "            \n",
    "        #face norte\n",
    "        for x in range(1,meshx-1):\n",
    "            ae_u[x,meshy-1] = De_u - Me_u[x,meshy-1]/2\n",
    "            aw_u[x,meshy-1] = Dw_u + Mw_u[x,meshy-1]/2\n",
    "            an_u[x,meshy-1] = 0\n",
    "            as_u[x,meshy-1] = Ds_u +Ms_u[x,meshy-1]/2\n",
    "            ap0_u[x,meshy-1] = Mp/deltat\n",
    "            b_u[x,meshy-1] = ap0_u[x,meshy-1]*u[t-1,x,meshy-1] + 2*Dn_u*V\n",
    "            ap_u[x,meshy-1] = ae_u[x,meshy-1] + aw_u[x,meshy-1] + an_u[x,meshy-1] + as_u[x,meshy-1] + ap0_u[x,meshy-1] +2*Ds_u\n",
    "            \n",
    "        #face sul ficticia -> não importa os valores de u\n",
    "        for x in range(meshx):\n",
    "            ap_u[x,0] = 1\n",
    "            b_u[x,0] = 0\n",
    "            \n",
    "        #face sul real\n",
    "        for x in range(1,meshx-1):\n",
    "            ae_u[x,1] = De_u - Me_u[x,1]/2\n",
    "            aw_u[x,1] = Dw_u + Mw_u[x,1]/2\n",
    "            an_u[x,1] = Dn_u - Mn_u[x,1]/2\n",
    "            as_u[x,1] = 0\n",
    "            ap0_u[x,1] = Mp/deltat\n",
    "            b_u[x,1] = ap0_u[x,1]*u[t-1,x,1]\n",
    "            ap_u[x,1] = ae_u[x,1] + aw_u[x,1] + an_u[x,1] + as_u[x,1] + ap0_u[x,1] +2*Ds_u\n",
    "        ##Fim CC para C.Q.M. em x\n",
    "        \n",
    "        ##Condições de contorno para C.Q.M em y:\n",
    "        #face norte\n",
    "        for x in range(meshx):\n",
    "            ap_v[x,meshy-1] = 1\n",
    "            b_v[x,meshy-1] = 0\n",
    "           \n",
    "        #face sul\n",
    "        for x in range(meshx):\n",
    "            ap_v[x,0] = 1\n",
    "            b_v[x,0] = 0\n",
    "            \n",
    "        #face esquerda ficticia -> não importa valores de v nesses pontos\n",
    "        for y in range(meshy):\n",
    "            ap_v[0,y] = 1\n",
    "            b_v[0,y] = 0\n",
    "            \n",
    "        #face esquerda real\n",
    "        for y in range(1,meshy-1):\n",
    "            ae_v[1,y] = De_v - Me_v[1,y]/2 \n",
    "            aw_v[1,y] = 0\n",
    "            an_v[1,y] = Dn_v - Mn_v[1,y]/2\n",
    "            as_v[1,y] = Ds_v + Ms_v[1,y]/2\n",
    "            ap0_v[1,y] = Mp/deltat\n",
    "            b_v[1,y] = ap0_v[1,y]*v[t-1,1,y]\n",
    "            ap_v[1,y] = ae_v[1,y] + aw_v[1,y] + an_v[1,y] + as_v[1,y] + ap0_v[1,y] + 2*Dw_v\n",
    "            \n",
    "        #face direita\n",
    "        for y in range(1,meshy-1):\n",
    "            ae_v[meshx-1,y] = 0\n",
    "            aw_v[meshx-1,y] = Dw_v + Mw_v[meshx-1,y]/2\n",
    "            an_v[meshx-1,y] = Dn_v - Mn_v[meshx-1,y]/2\n",
    "            as_v[meshx-1,y] = Ds_v + Ms_v[meshx-1,y]/2\n",
    "            ap0_v[meshx-1,y] = Mp/deltat\n",
    "            b_v[meshx-1,y] = ap0_v[1,y]*v[t-1,meshx-1,y]\n",
    "            ap_v[meshx-1,y] = ae_v[meshx-1,y] + aw_v[meshx-1,y] + an_v[meshx-1,y] + as_v[meshx-1,y] + ap0_v[meshx-1,y] + 2*De_v\n",
    "        ##Fim CC para C.Q.M. em y\n",
    "        \n",
    "        #Montando a matriz de coef\n",
    "        Matrix_coef_A = np.zeros((3*meshx*meshy,3*meshx*meshy))\n",
    "        Matrix_coef_B = np.zeros((3*meshx*meshy,1))\n",
    "        cont = 0\n",
    "        \n",
    "        #1º quadrante\n",
    "        for y in range(meshy):\n",
    "            for x in range(meshx):\n",
    "                Matrix_coef_A[cont,cont] = ap_u[x,y]\n",
    "                if (cont < meshx*meshy-1):\n",
    "                    Matrix_coef_A[cont,cont+1] = -ae_u[x,y]\n",
    "                if (cont > 0):\n",
    "                    Matrix_coef_A[cont,cont-1] = -aw_u[x,y]\n",
    "                if (cont < meshx*meshy - meshx):\n",
    "                    Matrix_coef_A[cont,cont+meshx] = -an_u[x,y]\n",
    "                if (cont > meshx-1):\n",
    "                    Matrix_coef_A[cont,cont-meshx] = -as_u[x,y]\n",
    "                Matrix_coef_B[cont,0] = b_u[x,y]\n",
    "                #3º quadrante\n",
    "                Matrix_coef_A[cont, cont + 2*meshx*meshy] = -w*deltay\n",
    "                if (cont < meshx*meshy-1):\n",
    "                    Matrix_coef_A[cont, cont + 2*meshx*meshy+1] = w*deltay\n",
    "                cont += 1\n",
    "                \n",
    "        #5º quadrante\n",
    "        cont = meshx*meshy\n",
    "        for y in range(meshy):\n",
    "            for x in range(meshx):\n",
    "                Matrix_coef_A[cont,cont] = ap_v[x,y]\n",
    "                if (cont < 2*meshx*meshy-1):\n",
    "                    Matrix_coef_A[cont,cont+1] = -ae_v[x,y]\n",
    "                if (cont >meshx*meshy):\n",
    "                    Matrix_coef_A[cont,cont-1] = -aw_v[x,y]\n",
    "                if (cont < 2*meshx*meshy - meshx):\n",
    "                    Matrix_coef_A[cont,cont+meshx] = -an_v[x,y]\n",
    "                if (cont > meshx*meshy + meshx-1):\n",
    "                    Matrix_coef_A[cont,cont-meshx] = as_v[x,y]\n",
    "                Matrix_coef_B[cont,0] = b_v[x,y]\n",
    "                #6º quadrante\n",
    "                Matrix_coef_A[cont, cont + meshx*meshy] = w*deltax\n",
    "                if (cont < 2*meshx*meshy-meshx):\n",
    "                    Matrix_coef_A[cont, cont + meshx*meshy+meshx] = -w*deltax\n",
    "                cont += 1\n",
    "                \n",
    "        #7º quadrante\n",
    "        cont = 2*meshx*meshy\n",
    "        for i in range(meshx*meshy):\n",
    "            Matrix_coef_A[cont,i] = deltay*w\n",
    "            Matrix_coef_A[cont,i-1] = -deltax*w\n",
    "            \n",
    "            #8º quadrante\n",
    "            Matrix_coef_A[cont,i+meshx*meshy] = deltax*w\n",
    "            Matrix_coef_A[cont,i+meshx*meshy-meshx] = -deltax*w\n",
    "            cont += 1\n",
    "            \n",
    "        cont = 2*meshx*meshy\n",
    "        #9º quadrante\n",
    "        for y in range(meshy):\n",
    "            for x in range(meshx):\n",
    "                #para os volumes ficticios, pressão = 0\n",
    "                if (x==0) or (y == 0):\n",
    "                    Matrix_coef_A[cont,cont] = 1\n",
    "                cont += 1\n",
    "        #determinando pressão de referência = 0 no último volume\n",
    "        Matrix_coef_A[meshx*meshy*3-1,meshx*meshy*3-1] = 1\n",
    "        \n",
    "        Resultado = solve(Matrix_coef_A,Matrix_coef_B)\n",
    "        cont = 0\n",
    "        for y in range(meshy):\n",
    "            for x in range(meshx):\n",
    "                u[t,x,y] = Resultado[cont,0]\n",
    "        cont = meshx*meshy\n",
    "        for y in range(meshy):\n",
    "            for x in range(meshx):\n",
    "                v[t,x,y] = Resultado[cont,0]\n",
    "        cont = meshx*meshy*2\n",
    "        for y in range(meshy):\n",
    "            for x in range(meshx):\n",
    "                P[t,x,y] = Resultado[cont,0]\n",
    "                \n",
    "        erro_u = (u[t,:,:] - u_antigo[:,:])\n",
    "        erro_v = (v[t,:,:] - v_antigo[:,:])\n",
    "        erro_P = (P[t,:,:] - v_antigo[:,:])\n",
    "        erro = max(erro_u.max(),erro_v.max(),erro_P.max())\n",
    "        iteracoes += 1\n",
    "                "
   ]
  },
  {
   "cell_type": "code",
   "execution_count": null,
   "metadata": {
    "collapsed": false
   },
   "outputs": [],
   "source": [
    "erro_P"
   ]
  },
  {
   "cell_type": "code",
   "execution_count": 23,
   "metadata": {
    "collapsed": false
   },
   "outputs": [
    {
     "data": {
      "text/plain": [
       "<matplotlib.lines.Line2D at 0xb062240>"
      ]
     },
     "execution_count": 23,
     "metadata": {},
     "output_type": "execute_result"
    },
    {
     "data": {
      "image/png": "[encoded data removed]",
      "text/plain": [
       "<matplotlib.figure.Figure at 0x96f5e48>"
      ]
     },
     "metadata": {},
     "output_type": "display_data"
    }
   ],
   "source": [
    "%matplotlib inline\n",
    "M = sps.csr_matrix(Matrix_coef_A)\n",
    "fig, ax = pltt.subplots(figsize=(11,11))\n",
    "ax.spy(M)\n"
   ]
  },
  {
   "cell_type": "code",
   "execution_count": 17,
   "metadata": {
    "collapsed": false
   },
   "outputs": [
    {
     "data": {
      "text/plain": [
       "array([[ 1.     ,  1.     ,  1.     ,  1.     ],\n",
       "       [ 1.     ,  0.00125,  0.00125,  1.     ],\n",
       "       [ 1.     ,  0.001  ,  0.001  ,  1.     ],\n",
       "       [ 1.     ,  0.00125,  0.00125,  1.     ]])"
      ]
     },
     "execution_count": 17,
     "metadata": {},
     "output_type": "execute_result"
    }
   ],
   "source": [
    "ap_v"
   ]
  },
  {
   "cell_type": "code",
   "execution_count": 18,
   "metadata": {
    "collapsed": false
   },
   "outputs": [
    {
     "data": {
      "text/plain": [
       "array([[ 1.     ,  1.     ,  1.     ,  1.     ],\n",
       "       [ 1.     ,  0.00125,  0.001  ,  0.00125],\n",
       "       [ 1.     ,  0.00125,  0.001  ,  0.00125],\n",
       "       [ 1.     ,  1.     ,  1.     ,  1.     ]])"
      ]
     },
     "execution_count": 18,
     "metadata": {},
     "output_type": "execute_result"
    }
   ],
   "source": [
    "ap_u"
   ]
  },
  {
   "cell_type": "code",
   "execution_count": null,
   "metadata": {
    "collapsed": true
   },
   "outputs": [],
   "source": []
  }
 ],
 "metadata": {
  "kernelspec": {
   "display_name": "Python [default]",
   "language": "python",
   "name": "python3"
  },
  "language_info": {
   "codemirror_mode": {
    "name": "ipython",
    "version": 3
   },
   "file_extension": ".py",
   "mimetype": "text/x-python",
   "name": "python",
   "nbconvert_exporter": "python",
   "pygments_lexer": "ipython3",
   "version": "3.5.2"
  }
 },
 "nbformat": 4,
 "nbformat_minor": 2
}
