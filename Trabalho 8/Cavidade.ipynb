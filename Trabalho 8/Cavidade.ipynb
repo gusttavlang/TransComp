{
 "cells": [
  {
   "cell_type": "code",
   "execution_count": 1,
   "metadata": {
    "collapsed": true
   },
   "outputs": [],
   "source": [
    "import numpy as np\n",
    "from scipy.linalg import *\n",
    "import matplotlib.pyplot as plt\n",
    "import pandas as pd\n",
    "from pandas import DataFrame,Series\n",
    "import math\n",
    "import time\n",
    "import matplotlib.pylab as pltt\n",
    "import scipy.sparse as sps"
   ]
  },
  {
   "cell_type": "code",
   "execution_count": 2,
   "metadata": {
    "collapsed": false
   },
   "outputs": [],
   "source": [
    "Re = 400\n",
    "rho = 1\n",
    "L = 1\n",
    "V = 1\n",
    "mu = rho*V*L/Re\n",
    "w = 1"
   ]
  },
  {
   "cell_type": "code",
   "execution_count": 80,
   "metadata": {
    "collapsed": true
   },
   "outputs": [],
   "source": [
    "meshx = 11\n",
    "deltax = L/(meshx-1)\n",
    "\n",
    "meshy = meshx\n",
    "deltay = L/(meshy-1)\n",
    "\n",
    "mesht = 2 #para o primeiro tempo as velocidades e a pressão são zero\n",
    "deltat = 1e50"
   ]
  },
  {
   "cell_type": "code",
   "execution_count": 81,
   "metadata": {
    "collapsed": false
   },
   "outputs": [
    {
     "data": {
      "text/plain": [
       "' coloquei dps\\nP = np.zeros(((mesht,meshx,meshy)))\\nu = np.zeros(((mesht,meshx,meshy)))\\nv = np.zeros(((mesht,meshx,meshy)))\\n'"
      ]
     },
     "execution_count": 81,
     "metadata": {},
     "output_type": "execute_result"
    }
   ],
   "source": [
    "''' coloquei dps\n",
    "P = np.zeros(((mesht,meshx,meshy)))\n",
    "u = np.zeros(((mesht,meshx,meshy)))\n",
    "v = np.zeros(((mesht,meshx,meshy)))\n",
    "'''"
   ]
  },
  {
   "cell_type": "code",
   "execution_count": 82,
   "metadata": {
    "collapsed": false
   },
   "outputs": [],
   "source": [
    "# Massa do Volume de Controle\n",
    "Mp=rho*deltax*deltay*w\n",
    "# Termos Difusivos\n",
    "De_u=mu*deltay*w/deltax\n",
    "De_v=mu*deltay*w/deltax\n",
    "Dw_u=mu*deltay*w/deltax\n",
    "Dw_v=mu*deltay*w/deltax\n",
    "Dn_u=mu*deltax*w/deltay\n",
    "Dn_v=mu*deltax*w/deltay\n",
    "Ds_u=mu*deltax*w/deltay\n",
    "Ds_v=mu*deltax*w/deltay\n"
   ]
  },
  {
   "cell_type": "code",
   "execution_count": 83,
   "metadata": {
    "collapsed": true
   },
   "outputs": [],
   "source": [
    "#posição em relação a manlha da pressão\n",
    "x_plot = np.zeros(meshx)\n",
    "y_plot = np.zeros(meshy)\n",
    "t_plot = np.zeros(mesht)\n",
    "\n",
    "x_plot = np.linspace(-deltax/2,L-deltax/2,meshx)\n",
    "y_plot = np.linspace(-deltay/2,L-deltay/2,meshy)"
   ]
  },
  {
   "cell_type": "code",
   "execution_count": 94,
   "metadata": {
    "collapsed": false
   },
   "outputs": [
    {
     "name": "stdout",
     "output_type": "stream",
     "text": [
      "1 - 0.702947802531\n",
      "2 - 0.205544134167\n",
      "3 - 0.0622828992777\n",
      "4 - 0.0265556997983\n",
      "5 - 0.0116016130743\n",
      "6 - 0.00418121978617\n",
      "7 - 0.00185400231401\n",
      "8 - 0.000765858947878\n",
      "9 - 0.000324820474333\n",
      "10 - 0.000130736495567\n",
      "11 - 5.28423939366e-05\n",
      "12 - 2.12753228514e-05\n",
      "13 - 8.52490850442e-06\n",
      "14 - 3.4387046314e-06\n",
      "15 - 1.37952250595e-06\n",
      "16 - 5.56141532493e-07\n",
      "17 - 2.23540856208e-07\n",
      "18 - 9.00084109606e-08\n",
      "19 - 3.62090963879e-08\n",
      "20 - 1.45669303217e-08\n",
      "21 - 5.86023901628e-09\n"
     ]
    }
   ],
   "source": [
    "#CDS\n",
    "P = np.zeros(((mesht,meshx,meshy)))\n",
    "u = np.zeros(((mesht,meshx,meshy)))\n",
    "v = np.zeros(((mesht,meshx,meshy)))\n",
    "\n",
    "Me_u = np.zeros((meshx,meshy))\n",
    "Mw_u = np.zeros((meshx,meshy))\n",
    "Mn_u = np.zeros((meshx,meshy))\n",
    "Ms_u = np.zeros((meshx,meshy))\n",
    "\n",
    "Me_v = np.zeros((meshx,meshy))\n",
    "Mw_v = np.zeros((meshx,meshy))\n",
    "Mn_v = np.zeros((meshx,meshy))\n",
    "Ms_v = np.zeros((meshx,meshy))\n",
    "\n",
    "ae_u = np.zeros((meshx,meshy))\n",
    "aw_u = np.zeros((meshx,meshy))\n",
    "an_u = np.zeros((meshx,meshy))\n",
    "as_u = np.zeros((meshx,meshy))\n",
    "ap0_u = np.zeros((meshx,meshy))\n",
    "b_u = np.zeros((meshx,meshy))\n",
    "ap_u = np.zeros((meshx,meshy))\n",
    "ae_v = np.zeros((meshx,meshy))\n",
    "aw_v = np.zeros((meshx,meshy))\n",
    "an_v = np.zeros((meshx,meshy))\n",
    "as_v = np.zeros((meshx,meshy))\n",
    "ap0_v = np.zeros((meshx,meshy))\n",
    "b_v = np.zeros((meshx,meshy))\n",
    "ap_v = np.zeros((meshx,meshy))\n",
    "\n",
    "u_antigo = np.zeros((meshx,meshy))\n",
    "v_antigo = np.zeros((meshx,meshy))\n",
    "P_antigo = np.zeros((meshx,meshy))\n",
    "\n",
    "eps = 1e-8\n",
    "erro = 1\n",
    "for t in range(1,mesht):\n",
    "    iteracoes = 0\n",
    "    while (erro > eps): \n",
    "        u_antigo[:,:] = u[t,:,:]\n",
    "        v_antigo[:,:] = v[t,:,:]\n",
    "        P_antigo[:,:] = P[t,:,:]\n",
    "        \n",
    "        for y in range(1,meshy):\n",
    "            for x in range(1,meshx-1):\n",
    "                Me_u[x,y] = rho*(u[t,x,y]+u[t,x+1,y])/2*deltay*w\n",
    "                Mw_u[x,y] = rho*(u[t,x,y]+u[t,x-1,y])/2*deltay*w\n",
    "                Mn_u[x,y] = rho*(v[t,x,y]+v[t,x+1,y])/2*deltax*w\n",
    "                Ms_u[x,y] = rho*(v[t,x,y-1]+v[t,x+1,y-1])/2*deltax*w\n",
    "                \n",
    "        for y in range(1,meshy-1):\n",
    "            for x in range(1,meshx): \n",
    "                Me_v[x,y] = rho*(u[t,x,y]+u[t,x,y+1])/2*deltay*w\n",
    "                Mw_v[x,y] = rho*(u[t,x-1,y+1]+u[t,x-1,y])/2*deltay*w\n",
    "                Mn_v[x,y] = rho*(v[t,x,y]+v[t,x,y+1])/2*deltax*w\n",
    "                Ms_v[x,y] = rho*(v[t,x,y]+v[t,x,y-1])/2*deltax*w\n",
    "        \n",
    "        for y in range(1,meshy-1):\n",
    "            for x in range(1,meshx-1):     \n",
    "                ae_u[x,y] = De_u - Me_u[x,y]/2\n",
    "                aw_u[x,y] = Dw_u + Mw_u[x,y]/2\n",
    "                an_u[x,y] = Dn_u - Mn_u[x,y]/2\n",
    "                as_u[x,y] = Ds_u + Ms_u[x,y]/2\n",
    "                ap0_u[x,y] = Mp/deltat\n",
    "                b_u[x,y] =ap0_u[x,y]*u[t-1,x,y]\n",
    "                ap_u[x,y] = ae_u[x,y] + aw_u[x,y] + an_u[x,y] + as_u[x,y] + ap0_u[x,y]\n",
    "                \n",
    "                ae_v[x,y] = De_v - Me_v[x,y]/2\n",
    "                aw_v[x,y] = Dw_v + Mw_v[x,y]/2\n",
    "                an_v[x,y] = Dn_v - Mn_v[x,y]/2\n",
    "                as_v[x,y] = Ds_v + Ms_v[x,y]/2\n",
    "                ap0_v[x,y] = Mp/deltat\n",
    "                b_v[x,y] =ap0_v[x,y]*v[t-1,x,y]\n",
    "                ap_v[x,y] = ae_v[x,y] + aw_v[x,y] + an_v[x,y] + as_v[x,y] + ap0_v[x,y]\n",
    "        ##Condições de contorno para C.Q.M em x:\n",
    "        #face esquerda        \n",
    "        for y in range(meshy):\n",
    "            ap_u[0,y] = 1\n",
    "            b_u[0,y] = 0\n",
    "            \n",
    "        #face direita\n",
    "        for y in range(meshy):\n",
    "            ap_u[meshx-1,y] = 1\n",
    "            b_u[meshx-1,y] = 0\n",
    "            \n",
    "        #face norte\n",
    "        for x in range(1,meshx-1):\n",
    "            ae_u[x,meshy-1] = De_u - Me_u[x,meshy-1]/2\n",
    "            aw_u[x,meshy-1] = Dw_u + Mw_u[x,meshy-1]/2\n",
    "            an_u[x,meshy-1] = 0\n",
    "            as_u[x,meshy-1] = Ds_u +Ms_u[x,meshy-1]/2\n",
    "            ap0_u[x,meshy-1] = Mp/deltat\n",
    "            b_u[x,meshy-1] = ap0_u[x,meshy-1]*u[t-1,x,meshy-1] + 2*Dn_u*V\n",
    "            ap_u[x,meshy-1] = ae_u[x,meshy-1] + aw_u[x,meshy-1] + as_u[x,meshy-1] + ap0_u[x,meshy-1] +2*Dn_u\n",
    "            \n",
    "        #face sul ficticia -> não importa os valores de u\n",
    "        for x in range(meshx):\n",
    "            ap_u[x,0] = 1\n",
    "            b_u[x,0] = 0\n",
    "            \n",
    "        #face sul real\n",
    "        for x in range(1,meshx-1):\n",
    "            ae_u[x,1] = De_u - Me_u[x,1]/2\n",
    "            aw_u[x,1] = Dw_u + Mw_u[x,1]/2\n",
    "            an_u[x,1] = Dn_u - Mn_u[x,1]/2\n",
    "            as_u[x,1] = 0\n",
    "            ap0_u[x,1] = Mp/deltat\n",
    "            b_u[x,1] = ap0_u[x,1]*u[t-1,x,1]\n",
    "            ap_u[x,1] = ae_u[x,1] + aw_u[x,1] + an_u[x,1] + as_u[x,1] + ap0_u[x,1] +2*Ds_u\n",
    "        ##Fim CC para C.Q.M. em x\n",
    "        \n",
    "        ##Condições de contorno para C.Q.M em y:\n",
    "        #face norte\n",
    "        for x in range(meshx):\n",
    "            ap_v[x,meshy-1] = 1\n",
    "            b_v[x,meshy-1] = 0\n",
    "           \n",
    "        #face sul\n",
    "        for x in range(meshx):\n",
    "            ap_v[x,0] = 1\n",
    "            b_v[x,0] = 0\n",
    "            \n",
    "        #face esquerda ficticia -> não importa valores de v nesses pontos\n",
    "        for y in range(meshy):\n",
    "            ap_v[0,y] = 1\n",
    "            b_v[0,y] = 0\n",
    "            \n",
    "        #face esquerda real\n",
    "        for y in range(1,meshy-1):\n",
    "            ae_v[1,y] = De_v - Me_v[1,y]/2 \n",
    "            aw_v[1,y] = 0\n",
    "            an_v[1,y] = Dn_v - Mn_v[1,y]/2\n",
    "            as_v[1,y] = Ds_v + Ms_v[1,y]/2\n",
    "            ap0_v[1,y] = Mp/deltat\n",
    "            b_v[1,y] = ap0_v[1,y]*v[t-1,1,y]\n",
    "            ap_v[1,y] = ae_v[1,y] + aw_v[1,y] + an_v[1,y] + as_v[1,y] + ap0_v[1,y] + 2*Dw_v\n",
    "            \n",
    "        #face direita\n",
    "        for y in range(1,meshy-1):\n",
    "            ae_v[meshx-1,y] = 0\n",
    "            aw_v[meshx-1,y] = Dw_v + Mw_v[meshx-1,y]/2\n",
    "            an_v[meshx-1,y] = Dn_v - Mn_v[meshx-1,y]/2\n",
    "            as_v[meshx-1,y] = Ds_v + Ms_v[meshx-1,y]/2\n",
    "            ap0_v[meshx-1,y] = Mp/deltat\n",
    "            b_v[meshx-1,y] = ap0_v[1,y]*v[t-1,meshx-1,y]\n",
    "            ap_v[meshx-1,y] = aw_v[meshx-1,y] + an_v[meshx-1,y] + as_v[meshx-1,y] + ap0_v[meshx-1,y] + 2*De_v\n",
    "        ##Fim CC para C.Q.M. em y\n",
    "        \n",
    "        #Montando a matriz de coef\n",
    "        Matrix_coef_A = np.zeros((3*meshx*meshy,3*meshx*meshy))\n",
    "        Matrix_coef_B = np.zeros((3*meshx*meshy,1))\n",
    "        cont = 0\n",
    "        \n",
    "        #1º quadrante\n",
    "        for y in range(meshy):\n",
    "            for x in range(meshx):\n",
    "                Matrix_coef_A[cont,cont] = ap_u[x,y]\n",
    "                if (cont < meshx*meshy-1):\n",
    "                    Matrix_coef_A[cont,cont+1] = -ae_u[x,y]\n",
    "                if (cont > 0):\n",
    "                    Matrix_coef_A[cont,cont-1] = -aw_u[x,y]\n",
    "                if (cont < meshx*meshy - meshx):\n",
    "                    Matrix_coef_A[cont,cont+meshx] = -an_u[x,y]\n",
    "                if (cont > meshx-1):\n",
    "                    Matrix_coef_A[cont,cont-meshx] = -as_u[x,y]\n",
    "                Matrix_coef_B[cont,0] = b_u[x,y]\n",
    "                #3º quadrante\n",
    "                if (x != 0) and (y != 0) and (x != meshx-1):\n",
    "                    Matrix_coef_A[cont, cont + 2*meshx*meshy] = -w*deltay\n",
    "                    if (cont < meshx*meshy-1):\n",
    "                        Matrix_coef_A[cont, cont + 2*meshx*meshy+1] = w*deltay\n",
    "                cont += 1\n",
    "                \n",
    "        #5º quadrante\n",
    "        cont = meshx*meshy\n",
    "        for y in range(meshy):\n",
    "            for x in range(meshx):\n",
    "                Matrix_coef_A[cont,cont] = ap_v[x,y]\n",
    "                if (cont < 2*meshx*meshy-1):\n",
    "                    Matrix_coef_A[cont,cont+1] = -ae_v[x,y]\n",
    "                if (cont >meshx*meshy):\n",
    "                    Matrix_coef_A[cont,cont-1] = -aw_v[x,y]\n",
    "                if (cont < 2*meshx*meshy - meshx):\n",
    "                    Matrix_coef_A[cont,cont+meshx] = -an_v[x,y]\n",
    "                if (cont > meshx*meshy + meshx-1):\n",
    "                    Matrix_coef_A[cont,cont-meshx] = -as_v[x,y]\n",
    "                Matrix_coef_B[cont,0] = b_v[x,y]\n",
    "                #6º quadrante\n",
    "                if (x != 0) and (y != 0) and (y != meshy-1):\n",
    "                    Matrix_coef_A[cont, cont + meshx*meshy] = -w*deltax\n",
    "                    if (cont < 2*meshx*meshy-meshx):\n",
    "                        Matrix_coef_A[cont, cont + meshx*meshy+meshx] = w*deltax\n",
    "                cont += 1\n",
    "                \n",
    "        #7º quadrante\n",
    "        cont = 2*meshx*meshy\n",
    "        i = 0\n",
    "        for y in range(meshy):\n",
    "            for x in range(meshx):\n",
    "                if (x != 0) and (y != 0):\n",
    "                    Matrix_coef_A[cont,i] = deltay*w\n",
    "                    Matrix_coef_A[cont,i-1] = -deltax*w\n",
    "\n",
    "                    #8º quadrante\n",
    "                    Matrix_coef_A[cont,i+meshx*meshy] = deltax*w\n",
    "                    Matrix_coef_A[cont,i+meshx*meshy-meshx] = -deltax*w\n",
    "                cont += 1\n",
    "                i += 1\n",
    "            \n",
    "        cont = 2*meshx*meshy\n",
    "        #9º quadrante\n",
    "        for y in range(meshy):\n",
    "            for x in range(meshx):\n",
    "                #para os volumes ficticios, pressão = 0\n",
    "                if (x==0) or (y == 0):\n",
    "                    Matrix_coef_A[cont,cont] = 1\n",
    "                cont += 1\n",
    "        #determinando pressão de referência = 0 no último volume\n",
    "        Matrix_coef_A[meshx*meshy*3-1,:] = 0 #rever dps\n",
    "        Matrix_coef_A[meshx*meshy*3-1,meshx*meshy*3-1] = 1\n",
    "        \n",
    "        Resultado = solve(Matrix_coef_A,Matrix_coef_B)\n",
    "        cont = 0\n",
    "        for y in range(meshy):\n",
    "            for x in range(meshx):\n",
    "                u[t,x,y] = Resultado[cont,0]\n",
    "                cont += 1\n",
    "        #cont = meshx*meshy        \n",
    "        for y in range(meshy):\n",
    "            for x in range(meshx):\n",
    "                v[t,x,y] = Resultado[cont,0]\n",
    "                cont += 1\n",
    "        #cont = meshx*meshy*2        \n",
    "        for y in range(meshy):\n",
    "            for x in range(meshx):\n",
    "                P[t,x,y] = Resultado[cont,0]\n",
    "                cont += 1\n",
    "        erro_u = (u[t,:,:] - u_antigo[:,:])\n",
    "        erro_v = (v[t,:,:] - v_antigo[:,:])\n",
    "        erro_P = (P[t,:,:] - P_antigo[:,:])\n",
    "        erro = max(abs(erro_u.max()),abs(erro_v.max()),abs(erro_P.max()))\n",
    "        iteracoes += 1\n",
    "        print(str(iteracoes) +' - '+ str(erro))\n",
    "        if (iteracoes ==1000):\n",
    "            erro = 0 #mudar dps\n",
    "                "
   ]
  },
  {
   "cell_type": "code",
   "execution_count": 85,
   "metadata": {
    "collapsed": false
   },
   "outputs": [
    {
     "data": {
      "text/plain": [
       "<matplotlib.lines.Line2D at 0xb6508d0>"
      ]
     },
     "execution_count": 85,
     "metadata": {},
     "output_type": "execute_result"
    },
    {
     "data": {
      "image/png": "[encoded data removed]",
      "text/plain": [
       "<matplotlib.figure.Figure at 0xb2f7048>"
      ]
     },
     "metadata": {},
     "output_type": "display_data"
    }
   ],
   "source": [
    "%matplotlib inline\n",
    "M = sps.csr_matrix(Matrix_coef_A)\n",
    "fig, ax = pltt.subplots(figsize=(11,11))\n",
    "ax.spy(M)\n"
   ]
  },
  {
   "cell_type": "code",
   "execution_count": 86,
   "metadata": {
    "collapsed": false,
    "scrolled": false
   },
   "outputs": [
    {
     "name": "stderr",
     "output_type": "stream",
     "text": [
      "C:\\Users\\Gusttav\\Anaconda3\\lib\\site-packages\\ipykernel\\__main__.py:5: VisibleDeprecationWarning: using a non-integer number instead of an integer will result in an error in the future\n"
     ]
    },
    {
     "data": {
      "text/plain": [
       "(0, 1)"
      ]
     },
     "execution_count": 86,
     "metadata": {},
     "output_type": "execute_result"
    },
    {
     "data": {
      "image/png": "[encoded data removed]",
      "text/plain": [
       "<matplotlib.figure.Figure at 0xb251828>"
      ]
     },
     "metadata": {},
     "output_type": "display_data"
    }
   ],
   "source": [
    "%matplotlib inline\n",
    "fig = plt.figure(figsize=(8,6))\n",
    "axis = fig.add_subplot(111)   \n",
    "\n",
    "axis.plot(x_plot,v[1,:,(meshy-1)/2],marker='o')\n",
    "\n",
    "axis.set_ylabel('Velocidade v [m/s]')\n",
    "axis.set_xlabel('x [m]')\n",
    "axis.set_title('')\n",
    "#axis.legend(bbox_to_anchor=(1.05, 1), loc=2, borderaxespad=0.)\n",
    "#axis.set_ylim(30,100)\n",
    "axis.set_xlim(0,1)\n"
   ]
  },
  {
   "cell_type": "code",
   "execution_count": 87,
   "metadata": {
    "collapsed": false
   },
   "outputs": [
    {
     "name": "stderr",
     "output_type": "stream",
     "text": [
      "C:\\Users\\Gusttav\\Anaconda3\\lib\\site-packages\\ipykernel\\__main__.py:5: VisibleDeprecationWarning: using a non-integer number instead of an integer will result in an error in the future\n"
     ]
    },
    {
     "data": {
      "text/plain": [
       "(0, 1)"
      ]
     },
     "execution_count": 87,
     "metadata": {},
     "output_type": "execute_result"
    },
    {
     "data": {
      "image/png": "[encoded data removed]",
      "text/plain": [
       "<matplotlib.figure.Figure at 0xb5ddc18>"
      ]
     },
     "metadata": {},
     "output_type": "display_data"
    }
   ],
   "source": [
    "%matplotlib inline\n",
    "fig = plt.figure(figsize=(8,6))\n",
    "axis = fig.add_subplot(111)   \n",
    "\n",
    "axis.plot(u[1,(meshx-1)/2,:],y_plot,marker='o')\n",
    "\n",
    "axis.set_xlabel('Velocidade u [m/s]')\n",
    "axis.set_ylabel('y [m]')\n",
    "axis.set_title('')\n",
    "#axis.legend(bbox_to_anchor=(1.05, 1), loc=2, borderaxespad=0.)\n",
    "axis.set_ylim(0,1)\n",
    "#axis.set_xlim(0,1)\n"
   ]
  },
  {
   "cell_type": "code",
   "execution_count": 88,
   "metadata": {
    "collapsed": false
   },
   "outputs": [
    {
     "data": {
      "text/plain": [
       "array([-0.05,  0.05,  0.15,  0.25,  0.35,  0.45,  0.55,  0.65,  0.75,\n",
       "        0.85,  0.95])"
      ]
     },
     "execution_count": 88,
     "metadata": {},
     "output_type": "execute_result"
    }
   ],
   "source": [
    "x_plot\n"
   ]
  },
  {
   "cell_type": "code",
   "execution_count": 89,
   "metadata": {
    "collapsed": false
   },
   "outputs": [
    {
     "data": {
      "text/plain": [
       "array([[[ 0.        ,  0.        ,  0.        ,  0.        ,  0.        ,\n",
       "          0.        ,  0.        ,  0.        ,  0.        ,  0.        ,\n",
       "          0.        ],\n",
       "        [ 0.        ,  0.        ,  0.        ,  0.        ,  0.        ,\n",
       "          0.        ,  0.        ,  0.        ,  0.        ,  0.        ,\n",
       "          0.        ],\n",
       "        [ 0.        ,  0.        ,  0.        ,  0.        ,  0.        ,\n",
       "          0.        ,  0.        ,  0.        ,  0.        ,  0.        ,\n",
       "          0.        ],\n",
       "        [ 0.        ,  0.        ,  0.        ,  0.        ,  0.        ,\n",
       "          0.        ,  0.        ,  0.        ,  0.        ,  0.        ,\n",
       "          0.        ],\n",
       "        [ 0.        ,  0.        ,  0.        ,  0.        ,  0.        ,\n",
       "          0.        ,  0.        ,  0.        ,  0.        ,  0.        ,\n",
       "          0.        ],\n",
       "        [ 0.        ,  0.        ,  0.        ,  0.        ,  0.        ,\n",
       "          0.        ,  0.        ,  0.        ,  0.        ,  0.        ,\n",
       "          0.        ],\n",
       "        [ 0.        ,  0.        ,  0.        ,  0.        ,  0.        ,\n",
       "          0.        ,  0.        ,  0.        ,  0.        ,  0.        ,\n",
       "          0.        ],\n",
       "        [ 0.        ,  0.        ,  0.        ,  0.        ,  0.        ,\n",
       "          0.        ,  0.        ,  0.        ,  0.        ,  0.        ,\n",
       "          0.        ],\n",
       "        [ 0.        ,  0.        ,  0.        ,  0.        ,  0.        ,\n",
       "          0.        ,  0.        ,  0.        ,  0.        ,  0.        ,\n",
       "          0.        ],\n",
       "        [ 0.        ,  0.        ,  0.        ,  0.        ,  0.        ,\n",
       "          0.        ,  0.        ,  0.        ,  0.        ,  0.        ,\n",
       "          0.        ],\n",
       "        [ 0.        ,  0.        ,  0.        ,  0.        ,  0.        ,\n",
       "          0.        ,  0.        ,  0.        ,  0.        ,  0.        ,\n",
       "          0.        ]],\n",
       "\n",
       "       [[ 0.        ,  0.        ,  0.        ,  0.        ,  0.        ,\n",
       "          0.        ,  0.        ,  0.        ,  0.        ,  0.        ,\n",
       "          0.        ],\n",
       "        [ 0.        , -0.00062376,  0.01624976,  0.04901703,  0.08166217,\n",
       "          0.10293717,  0.1036128 ,  0.09353336,  0.06780182,  0.11864356,\n",
       "          0.        ],\n",
       "        [ 0.        ,  0.00831416,  0.0438429 ,  0.09378814,  0.1405423 ,\n",
       "          0.17291181,  0.18298907,  0.17469984,  0.14926117,  0.10077322,\n",
       "          0.        ],\n",
       "        [ 0.        ,  0.02037024,  0.06971457,  0.1234267 ,  0.16849904,\n",
       "          0.19548429,  0.20334249,  0.19009453,  0.15737251,  0.08767862,\n",
       "          0.        ],\n",
       "        [ 0.        ,  0.03248155,  0.08253722,  0.12830862,  0.16280711,\n",
       "          0.18024642,  0.18337617,  0.16887388,  0.13817642,  0.07766234,\n",
       "          0.        ],\n",
       "        [ 0.        ,  0.03382217,  0.06777921,  0.09569858,  0.11572112,\n",
       "          0.12491126,  0.12674928,  0.11873951,  0.10101956,  0.05782849,\n",
       "          0.        ],\n",
       "        [ 0.        ,  0.01681343,  0.02425221,  0.03141353,  0.03905038,\n",
       "          0.04445762,  0.04938434,  0.05307546,  0.05789329,  0.04130943,\n",
       "          0.        ],\n",
       "        [ 0.        , -0.01219294, -0.03469895, -0.04922138, -0.05237116,\n",
       "         -0.04660461, -0.03387992, -0.01591768,  0.00707303,  0.01040476,\n",
       "          0.        ],\n",
       "        [ 0.        , -0.04002331, -0.09222892, -0.13325419, -0.15340366,\n",
       "         -0.15082768, -0.1285732 , -0.09011149, -0.0427167 , -0.01873168,\n",
       "          0.        ],\n",
       "        [ 0.        , -0.04776249, -0.11950396, -0.19377717, -0.25145474,\n",
       "         -0.28014346, -0.27838154, -0.24871428, -0.19571132, -0.12566694,\n",
       "          0.        ],\n",
       "        [ 0.        , -0.01119906, -0.05794404, -0.14539987, -0.25105255,\n",
       "         -0.34337284, -0.40861948, -0.44427314, -0.44016978, -0.34990179,\n",
       "          0.        ]]])"
      ]
     },
     "execution_count": 89,
     "metadata": {},
     "output_type": "execute_result"
    }
   ],
   "source": [
    "v"
   ]
  },
  {
   "cell_type": "code",
   "execution_count": 17,
   "metadata": {
    "collapsed": false
   },
   "outputs": [
    {
     "data": {
      "text/plain": [
       "array([[[ 0.   ,  0.   ,  0.   ,  0.   ],\n",
       "        [ 0.   ,  0.   ,  0.   ,  0.   ],\n",
       "        [ 0.   ,  0.   ,  0.   ,  0.   ],\n",
       "        [ 0.   ,  0.   ,  0.   ,  0.   ]],\n",
       "\n",
       "       [[ 0.   ,  0.   ,  0.   ,  0.   ],\n",
       "        [ 0.   , -0.075, -0.1  ,  0.175],\n",
       "        [ 0.   , -0.075, -0.1  ,  0.175],\n",
       "        [ 0.   ,  0.   ,  0.   ,  0.   ]]])"
      ]
     },
     "execution_count": 17,
     "metadata": {},
     "output_type": "execute_result"
    }
   ],
   "source": [
    "u"
   ]
  },
  {
   "cell_type": "code",
   "execution_count": 18,
   "metadata": {
    "collapsed": false
   },
   "outputs": [
    {
     "data": {
      "text/plain": [
       "array([ 0.        ,  0.        ,  0.        ,  0.        ,  0.        ,\n",
       "       -0.0025    ,  0.        ,  0.        , -0.0025    ,  0.01      ,\n",
       "       -0.0025    ,  0.        ,  0.        , -0.0025    ,  0.        ,\n",
       "        0.        ,  0.        ,  0.        ,  0.        ,  0.        ,\n",
       "        0.        ,  0.        ,  0.        ,  0.        ,  0.        ,\n",
       "        0.        ,  0.        ,  0.        ,  0.        ,  0.        ,\n",
       "        0.        ,  0.        ,  0.        ,  0.        ,  0.        ,\n",
       "        0.        ,  0.        ,  0.        ,  0.        ,  0.        ,\n",
       "        0.        , -0.33333333,  0.33333333,  0.        ,  0.        ,\n",
       "        0.        ,  0.        ,  0.        ])"
      ]
     },
     "execution_count": 18,
     "metadata": {},
     "output_type": "execute_result"
    }
   ],
   "source": [
    "Matrix_coef_A[9,:]"
   ]
  },
  {
   "cell_type": "code",
   "execution_count": 23,
   "metadata": {
    "collapsed": false
   },
   "outputs": [],
   "source": [
    "arq = open('teste.txt', 'w')\n",
    "texto = []\n",
    "for y in range(48):\n",
    "    for x in range(48):        \n",
    "        texto.append(str(Matrix_coef_A[y,x]) + '\\t')\n",
    "        if (x == 47):\n",
    "            texto.append('\\n')\n",
    "    \n",
    "arq.writelines(texto)\n",
    "arq.close()            "
   ]
  },
  {
   "cell_type": "code",
   "execution_count": null,
   "metadata": {
    "collapsed": true
   },
   "outputs": [],
   "source": []
  }
 ],
 "metadata": {
  "kernelspec": {
   "display_name": "Python [default]",
   "language": "python",
   "name": "python3"
  },
  "language_info": {
   "codemirror_mode": {
    "name": "ipython",
    "version": 3
   },
   "file_extension": ".py",
   "mimetype": "text/x-python",
   "name": "python",
   "nbconvert_exporter": "python",
   "pygments_lexer": "ipython3",
   "version": "3.5.2"
  }
 },
 "nbformat": 4,
 "nbformat_minor": 2
}
