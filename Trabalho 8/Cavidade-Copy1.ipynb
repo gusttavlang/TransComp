{
 "cells": [
  {
   "cell_type": "code",
   "execution_count": 1,
   "metadata": {
    "collapsed": true
   },
   "outputs": [],
   "source": [
    "import numpy as np\n",
    "from scipy.linalg import *\n",
    "import matplotlib.pyplot as plt\n",
    "import pandas as pd\n",
    "from pandas import DataFrame,Series\n",
    "import math\n",
    "import time\n",
    "import matplotlib.pylab as pltt\n",
    "import scipy.sparse as sps"
   ]
  },
  {
   "cell_type": "code",
   "execution_count": 2,
   "metadata": {
    "collapsed": false
   },
   "outputs": [],
   "source": [
    "Re = 400\n",
    "rho = 1\n",
    "L = 1\n",
    "V = 1\n",
    "mu = rho*V*L/Re\n",
    "w = 1"
   ]
  },
  {
   "cell_type": "code",
   "execution_count": 3,
   "metadata": {
    "collapsed": true
   },
   "outputs": [],
   "source": [
    "meshx = 4\n",
    "deltax = L/meshx\n",
    "\n",
    "meshy = meshx\n",
    "deltay = L/meshy\n",
    "\n",
    "mesht = 2 #para o primeiro tempo as velocidades e a pressão são zero\n",
    "deltat = 1e50"
   ]
  },
  {
   "cell_type": "code",
   "execution_count": 4,
   "metadata": {
    "collapsed": false
   },
   "outputs": [
    {
     "data": {
      "text/plain": [
       "' coloquei dps\\nP = np.zeros(((mesht,meshx,meshy)))\\nu = np.zeros(((mesht,meshx,meshy)))\\nv = np.zeros(((mesht,meshx,meshy)))\\n'"
      ]
     },
     "execution_count": 4,
     "metadata": {},
     "output_type": "execute_result"
    }
   ],
   "source": [
    "''' coloquei dps\n",
    "P = np.zeros(((mesht,meshx,meshy)))\n",
    "u = np.zeros(((mesht,meshx,meshy)))\n",
    "v = np.zeros(((mesht,meshx,meshy)))\n",
    "'''"
   ]
  },
  {
   "cell_type": "code",
   "execution_count": 5,
   "metadata": {
    "collapsed": false
   },
   "outputs": [],
   "source": [
    "# Massa do Volume de Controle\n",
    "Mp=rho*deltax*deltay*w\n",
    "# Termos Difusivos\n",
    "De_u=mu*deltay*w/deltax\n",
    "De_v=mu*deltay*w/deltax\n",
    "Dw_u=mu*deltay*w/deltax\n",
    "Dw_v=mu*deltay*w/deltax\n",
    "Dn_u=mu*deltax*w/deltay\n",
    "Dn_v=mu*deltax*w/deltay\n",
    "Ds_u=mu*deltax*w/deltay\n",
    "Ds_v=mu*deltax*w/deltay\n"
   ]
  },
  {
   "cell_type": "code",
   "execution_count": 6,
   "metadata": {
    "collapsed": true
   },
   "outputs": [],
   "source": [
    "#posição em relação a manlha da pressão\n",
    "x_plot = np.zeros(meshx)\n",
    "y_plot = np.zeros(meshy)\n",
    "t_plot = np.zeros(mesht)\n",
    "\n",
    "x_plot = np.linspace(-deltax/2,L-deltax/2,meshx)\n",
    "y_plot = np.linspace(-deltay/2,L-deltay/2,meshy)"
   ]
  },
  {
   "cell_type": "code",
   "execution_count": 25,
   "metadata": {
    "collapsed": false
   },
   "outputs": [
    {
     "ename": "IndexError",
     "evalue": "index 4 is out of bounds for axis 2 with size 4",
     "output_type": "error",
     "traceback": [
      "\u001b[0;31m---------------------------------------------------------------------------\u001b[0m",
      "\u001b[0;31mIndexError\u001b[0m                                Traceback (most recent call last)",
      "\u001b[0;32m<ipython-input-25-472c38df2feb>\u001b[0m in \u001b[0;36m<module>\u001b[0;34m()\u001b[0m\n\u001b[1;32m     51\u001b[0m         \u001b[1;32mfor\u001b[0m \u001b[0my\u001b[0m \u001b[1;32min\u001b[0m \u001b[0mrange\u001b[0m\u001b[1;33m(\u001b[0m\u001b[1;36m1\u001b[0m\u001b[1;33m,\u001b[0m\u001b[0mmeshx\u001b[0m\u001b[1;33m-\u001b[0m\u001b[1;36m1\u001b[0m\u001b[1;33m)\u001b[0m\u001b[1;33m:\u001b[0m\u001b[1;33m\u001b[0m\u001b[0m\n\u001b[1;32m     52\u001b[0m             \u001b[1;32mfor\u001b[0m \u001b[0mx\u001b[0m \u001b[1;32min\u001b[0m \u001b[0mrange\u001b[0m\u001b[1;33m(\u001b[0m\u001b[1;36m1\u001b[0m\u001b[1;33m,\u001b[0m\u001b[0mmeshy\u001b[0m\u001b[1;33m)\u001b[0m\u001b[1;33m:\u001b[0m\u001b[1;33m\u001b[0m\u001b[0m\n\u001b[0;32m---> 53\u001b[0;31m                 \u001b[0mMe_v\u001b[0m\u001b[1;33m[\u001b[0m\u001b[0my\u001b[0m\u001b[1;33m,\u001b[0m\u001b[0mx\u001b[0m\u001b[1;33m]\u001b[0m \u001b[1;33m=\u001b[0m \u001b[0mrho\u001b[0m\u001b[1;33m*\u001b[0m\u001b[1;33m(\u001b[0m\u001b[0mu\u001b[0m\u001b[1;33m[\u001b[0m\u001b[0mt\u001b[0m\u001b[1;33m,\u001b[0m\u001b[0my\u001b[0m\u001b[1;33m,\u001b[0m\u001b[0mx\u001b[0m\u001b[1;33m]\u001b[0m\u001b[1;33m+\u001b[0m\u001b[0mu\u001b[0m\u001b[1;33m[\u001b[0m\u001b[0mt\u001b[0m\u001b[1;33m,\u001b[0m\u001b[0my\u001b[0m\u001b[1;33m,\u001b[0m\u001b[0mx\u001b[0m\u001b[1;33m+\u001b[0m\u001b[1;36m1\u001b[0m\u001b[1;33m]\u001b[0m\u001b[1;33m)\u001b[0m\u001b[1;33m/\u001b[0m\u001b[1;36m2\u001b[0m\u001b[1;33m*\u001b[0m\u001b[0mdeltax\u001b[0m\u001b[1;33m*\u001b[0m\u001b[0mw\u001b[0m\u001b[1;33m\u001b[0m\u001b[0m\n\u001b[0m\u001b[1;32m     54\u001b[0m                 \u001b[0mMw_v\u001b[0m\u001b[1;33m[\u001b[0m\u001b[0my\u001b[0m\u001b[1;33m,\u001b[0m\u001b[0mx\u001b[0m\u001b[1;33m]\u001b[0m \u001b[1;33m=\u001b[0m \u001b[0mrho\u001b[0m\u001b[1;33m*\u001b[0m\u001b[1;33m(\u001b[0m\u001b[0mu\u001b[0m\u001b[1;33m[\u001b[0m\u001b[0mt\u001b[0m\u001b[1;33m,\u001b[0m\u001b[0my\u001b[0m\u001b[1;33m-\u001b[0m\u001b[1;36m1\u001b[0m\u001b[1;33m,\u001b[0m\u001b[0mx\u001b[0m\u001b[1;33m+\u001b[0m\u001b[1;36m1\u001b[0m\u001b[1;33m]\u001b[0m\u001b[1;33m+\u001b[0m\u001b[0mu\u001b[0m\u001b[1;33m[\u001b[0m\u001b[0mt\u001b[0m\u001b[1;33m,\u001b[0m\u001b[0my\u001b[0m\u001b[1;33m-\u001b[0m\u001b[1;36m1\u001b[0m\u001b[1;33m,\u001b[0m\u001b[0mx\u001b[0m\u001b[1;33m]\u001b[0m\u001b[1;33m)\u001b[0m\u001b[1;33m/\u001b[0m\u001b[1;36m2\u001b[0m\u001b[1;33m*\u001b[0m\u001b[0mdeltax\u001b[0m\u001b[1;33m*\u001b[0m\u001b[0mw\u001b[0m\u001b[1;33m\u001b[0m\u001b[0m\n\u001b[1;32m     55\u001b[0m                 \u001b[0mMn_v\u001b[0m\u001b[1;33m[\u001b[0m\u001b[0my\u001b[0m\u001b[1;33m,\u001b[0m\u001b[0mx\u001b[0m\u001b[1;33m]\u001b[0m \u001b[1;33m=\u001b[0m \u001b[0mrho\u001b[0m\u001b[1;33m*\u001b[0m\u001b[1;33m(\u001b[0m\u001b[0mv\u001b[0m\u001b[1;33m[\u001b[0m\u001b[0mt\u001b[0m\u001b[1;33m,\u001b[0m\u001b[0my\u001b[0m\u001b[1;33m,\u001b[0m\u001b[0mx\u001b[0m\u001b[1;33m]\u001b[0m\u001b[1;33m+\u001b[0m\u001b[0mv\u001b[0m\u001b[1;33m[\u001b[0m\u001b[0mt\u001b[0m\u001b[1;33m,\u001b[0m\u001b[0my\u001b[0m\u001b[1;33m,\u001b[0m\u001b[0mx\u001b[0m\u001b[1;33m+\u001b[0m\u001b[1;36m1\u001b[0m\u001b[1;33m]\u001b[0m\u001b[1;33m)\u001b[0m\u001b[1;33m/\u001b[0m\u001b[1;36m2\u001b[0m\u001b[1;33m*\u001b[0m\u001b[0mdeltay\u001b[0m\u001b[1;33m*\u001b[0m\u001b[0mw\u001b[0m\u001b[1;33m\u001b[0m\u001b[0m\n",
      "\u001b[0;31mIndexError\u001b[0m: index 4 is out of bounds for axis 2 with size 4"
     ]
    }
   ],
   "source": [
    "#CDS\n",
    "P = np.zeros(((mesht,meshy,meshx)))\n",
    "u = np.zeros(((mesht,meshy,meshx)))\n",
    "v = np.zeros(((mesht,meshy,meshx)))\n",
    "\n",
    "Me_u = np.zeros((meshy,meshx))\n",
    "Mw_u = np.zeros((meshy,meshx))\n",
    "Mn_u = np.zeros((meshy,meshx))\n",
    "Ms_u = np.zeros((meshy,meshx))\n",
    "\n",
    "Me_v = np.zeros((meshy,meshx))\n",
    "Mw_v = np.zeros((meshy,meshx))\n",
    "Mn_v = np.zeros((meshy,meshx))\n",
    "Ms_v = np.zeros((meshy,meshx))\n",
    "\n",
    "ae_u = np.zeros((meshy,meshx))\n",
    "aw_u = np.zeros((meshy,meshx))\n",
    "an_u = np.zeros((meshy,meshx))\n",
    "as_u = np.zeros((meshy,meshx))\n",
    "ap0_u = np.zeros((meshy,meshx))\n",
    "b_u = np.zeros((meshy,meshx))\n",
    "ap_u = np.zeros((meshy,meshx))\n",
    "ae_v = np.zeros((meshy,meshx))\n",
    "aw_v = np.zeros((meshy,meshx))\n",
    "an_v = np.zeros((meshy,meshx))\n",
    "as_v = np.zeros((meshy,meshx))\n",
    "ap0_v = np.zeros((meshy,meshx))\n",
    "b_v = np.zeros((meshy,meshx))\n",
    "ap_v = np.zeros((meshy,meshx))\n",
    "\n",
    "u_antigo = np.zeros((meshy,meshx))\n",
    "v_antigo = np.zeros((meshy,meshx))\n",
    "P_antigo = np.zeros((meshy,meshx))\n",
    "\n",
    "eps = 1e-4\n",
    "erro = 1\n",
    "for t in range(1,mesht):\n",
    "    iteracoes = 0\n",
    "    while (erro > eps): \n",
    "        u_antigo[:,:] = u[t,:,:]\n",
    "        v_antigo[:,:] = v[t,:,:]\n",
    "        P_antigo[:,:] = P[t,:,:]\n",
    "        \n",
    "        for y in range(1,meshx):\n",
    "            for y in range(1,meshy-1):\n",
    "                Me_u[y,x] = rho*(u[t,y,x]+u[t,y+1,x])/2*deltax*w\n",
    "                Mw_u[y,x] = rho*(u[t,y,x]+u[t,y-1,x])/2*deltax*w\n",
    "                Mn_u[y,x] = rho*(v[t,y,x]+v[t,y+1,x])/2*deltay*w\n",
    "                Ms_u[y,x] = rho*(v[t,y,x-1]+v[t,y+1,x-1])/2*deltay*w\n",
    "                \n",
    "        for y in range(1,meshx-1):\n",
    "            for x in range(1,meshy): \n",
    "                Me_v[y,x] = rho*(u[t,y,x]+u[t,y,x+1])/2*deltax*w\n",
    "                Mw_v[y,x] = rho*(u[t,y-1,x+1]+u[t,y-1,x])/2*deltax*w\n",
    "                Mn_v[y,x] = rho*(v[t,y,x]+v[t,y,x+1])/2*deltay*w\n",
    "                Ms_v[y,x] = rho*(v[t,y,x]+v[t,y,x-1])/2*deltay*w\n",
    "        \n",
    "        for y in range(1,meshx-1):\n",
    "            for x in range(1,meshy-1):     \n",
    "                ae_u[y,x] = De_u - Me_u[y,x]/2\n",
    "                aw_u[y,x] = Dw_u + Mw_u[y,x]/2\n",
    "                an_u[y,x] = Dn_u - Mn_u[y,x]/2\n",
    "                as_u[y,x] = Ds_u + Ms_u[y,x]/2\n",
    "                ap0_u[y,x] = Mp/deltat\n",
    "                b_u[y,x] =ap0_u[y,x]*u[t-1,y,x]\n",
    "                ap_u[y,x] = ae_u[y,x] + aw_u[y,x] + an_u[y,x] + as_u[y,x] + ap0_u[y,x]\n",
    "                \n",
    "                ae_v[y,x] = De_v - Me_v[y,x]/2\n",
    "                aw_v[y,x] = Dw_v + Mw_v[y,x]/2\n",
    "                an_v[y,x] = Dn_v - Mn_v[y,x]/2\n",
    "                as_v[y,x] = Ds_v + Ms_v[y,x]/2\n",
    "                ap0_v[y,x] = Mp/deltat\n",
    "                b_v[y,x] =ap0_v[y,x]*v[t-1,y,x]\n",
    "                ap_v[y,x] = ae_v[y,x] + aw_v[y,x] + an_v[y,x] + as_v[y,x] + ap0_v[y,x]\n",
    "        ##Condições de contorno para C.Q.M em y:\n",
    "        #face esquerda        \n",
    "        for x in range(meshx):\n",
    "            ap_u[0,x] = 1\n",
    "            b_u[0,x] = 0\n",
    "            \n",
    "        #face direita\n",
    "        for x in range(meshx):\n",
    "            ap_u[meshy-1,x] = 1\n",
    "            b_u[meshy-1,x] = 0\n",
    "            \n",
    "        #face norte\n",
    "        for y in range(1,meshy-1):\n",
    "            ae_u[y,meshx-1] = De_u - Me_u[y,meshx-1]/2\n",
    "            aw_u[y,meshx-1] = Dw_u + Mw_u[y,meshx-1]/2\n",
    "            an_u[y,meshx-1] = 0\n",
    "            as_u[y,meshx-1] = Ds_u +Ms_u[y,meshx-1]/2\n",
    "            ap0_u[y,meshx-1] = Mp/deltat\n",
    "            b_u[y,meshx-1] = ap0_u[y,meshx-1]*u[t-1,y,meshx-1] + 2*Dn_u*V\n",
    "            ap_u[y,meshx-1] = ae_u[y,meshx-1] + aw_u[y,meshx-1] + as_u[y,meshx-1] + ap0_u[y,meshx-1] +2*Dn_u\n",
    "            \n",
    "        #face sul ficticia -> não importa os valores de u\n",
    "        for y in range(meshy):\n",
    "            ap_u[y,0] = 1\n",
    "            b_u[y,0] = 0\n",
    "            \n",
    "        #face sul real\n",
    "        for y in range(1,meshy-1):\n",
    "            ae_u[y,1] = De_u - Me_u[y,1]/2\n",
    "            aw_u[y,1] = Dw_u + Mw_u[y,1]/2\n",
    "            an_u[y,1] = Dn_u - Mn_u[y,1]/2\n",
    "            as_u[y,1] = 0\n",
    "            ap0_u[y,1] = Mp/deltat\n",
    "            b_u[y,1] = ap0_u[y,1]*u[t-1,y,1]\n",
    "            ap_u[y,1] = ae_u[y,1] + aw_u[y,1] + an_u[y,1] + as_u[y,1] + ap0_u[y,1] +2*Ds_u\n",
    "        ##Fim CC para C.Q.M. em y\n",
    "        \n",
    "        ##Condições de contorno para C.Q.M em x:\n",
    "        #face norte\n",
    "        for y in range(meshy):\n",
    "            ap_v[y,meshx-1] = 1\n",
    "            b_v[y,meshx-1] = 0\n",
    "           \n",
    "        #face sul\n",
    "        for y in range(meshy):\n",
    "            ap_v[y,0] = 1\n",
    "            b_v[y,0] = 0\n",
    "            \n",
    "        #face esquerda ficticia -> não importa valores de v nesses pontos\n",
    "        for x in range(meshx):\n",
    "            ap_v[0,x] = 1\n",
    "            b_v[0,x] = 0\n",
    "            \n",
    "        #face esquerda real\n",
    "        for x in range(1,meshx-1):\n",
    "            ae_v[1,x] = De_v - Me_v[1,x]/2 \n",
    "            aw_v[1,x] = 0\n",
    "            an_v[1,x] = Dn_v - Mn_v[1,x]/2\n",
    "            as_v[1,x] = Ds_v + Ms_v[1,x]/2\n",
    "            ap0_v[1,x] = Mp/deltat\n",
    "            b_v[1,x] = ap0_v[1,x]*v[t-1,1,x]\n",
    "            ap_v[1,x] = ae_v[1,x] + aw_v[1,x] + an_v[1,x] + as_v[1,x] + ap0_v[1,x] + 2*Dw_v\n",
    "            \n",
    "        #face direita\n",
    "        for x in range(1,meshx-1):\n",
    "            ae_v[meshy-1,x] = 0\n",
    "            aw_v[meshy-1,x] = Dw_v + Mw_v[meshy-1,x]/2\n",
    "            an_v[meshy-1,x] = Dn_v - Mn_v[meshy-1,x]/2\n",
    "            as_v[meshy-1,x] = Ds_v + Ms_v[meshy-1,x]/2\n",
    "            ap0_v[meshy-1,x] = Mp/deltat\n",
    "            b_v[meshy-1,x] = ap0_v[1,x]*v[t-1,meshy-1,x]\n",
    "            ap_v[meshy-1,x] = aw_v[meshy-1,x] + an_v[meshy-1,x] + as_v[meshy-1,x] + ap0_v[meshy-1,x] + 2*De_v\n",
    "        ##Fim CC para C.Q.M. em x\n",
    "        \n",
    "        #Montando a matriz de coef\n",
    "        Matriy_coef_A = np.zeros((3*meshy*meshx,3*meshy*meshx))\n",
    "        Matriy_coef_B = np.zeros((3*meshy*meshx,1))\n",
    "        cont = 0\n",
    "        \n",
    "        #1º quadrante\n",
    "        for y in range(meshx):\n",
    "            for x in range(meshy):\n",
    "                Matriy_coef_A[cont,cont] = ap_u[y,x]\n",
    "                if (cont < meshy*meshx-1):\n",
    "                    Matriy_coef_A[cont,cont+1] = -ae_u[y,x]\n",
    "                if (cont > 0):\n",
    "                    Matriy_coef_A[cont,cont-1] = -aw_u[y,x]\n",
    "                if (cont < meshy*meshx - meshy):\n",
    "                    Matriy_coef_A[cont,cont+meshy] = -an_u[y,x]\n",
    "                if (cont > meshy-1):\n",
    "                    Matriy_coef_A[cont,cont-meshy] = -as_u[y,x]\n",
    "                Matriy_coef_B[cont,0] = b_u[y,x]\n",
    "                #3º quadrante\n",
    "                if (y != 0) and (x != 0) and (y != meshy-1):\n",
    "                    Matriy_coef_A[cont, cont + 2*meshy*meshx] = -w*deltax\n",
    "                    if (cont < meshy*meshx-1):\n",
    "                        Matriy_coef_A[cont, cont + 2*meshy*meshx+1] = w*deltax\n",
    "                cont += 1\n",
    "                \n",
    "        #5º quadrante\n",
    "        cont = meshy*meshx\n",
    "        for y in range(meshx):\n",
    "            for x in range(meshy):\n",
    "                Matriy_coef_A[cont,cont] = ap_v[y,x]\n",
    "                if (cont < 2*meshy*meshx-1):\n",
    "                    Matriy_coef_A[cont,cont+1] = -ae_v[y,x]\n",
    "                if (cont >meshy*meshx):\n",
    "                    Matriy_coef_A[cont,cont-1] = -aw_v[y,x]\n",
    "                if (cont < 2*meshy*meshx - meshy):\n",
    "                    Matriy_coef_A[cont,cont+meshy] = -an_v[y,x]\n",
    "                if (cont > meshy*meshx + meshy-1):\n",
    "                    Matriy_coef_A[cont,cont-meshy] = as_v[y,x]\n",
    "                Matriy_coef_B[cont,0] = b_v[y,x]\n",
    "                #6º quadrante\n",
    "                if (y != 0) and (x != 0) and (x != meshx-1):\n",
    "                    Matriy_coef_A[cont, cont + meshy*meshx] = w*deltay\n",
    "                    if (cont < 2*meshy*meshx-meshy):\n",
    "                        Matriy_coef_A[cont, cont + meshy*meshx+meshy] = -w*deltay\n",
    "                cont += 1\n",
    "                \n",
    "        #7º quadrante\n",
    "        cont = 2*meshy*meshx\n",
    "        i = 0\n",
    "        for y in range(meshx):\n",
    "            for x in range(meshy):\n",
    "                if (y != 0) and (x != 0):\n",
    "                    Matriy_coef_A[cont,i] = deltax*w\n",
    "                    Matriy_coef_A[cont,i-1] = -deltay*w\n",
    "\n",
    "                    #8º quadrante\n",
    "                    Matriy_coef_A[cont,i+meshy*meshx] = deltay*w\n",
    "                    Matriy_coef_A[cont,i+meshy*meshx-meshy] = -deltay*w\n",
    "                cont += 1\n",
    "                i += 1\n",
    "            \n",
    "        cont = 2*meshy*meshx\n",
    "        #9º quadrante\n",
    "        for x in range(meshx):\n",
    "            for y in range(meshy):\n",
    "                #para os volumes ficticios, pressão = 0\n",
    "                if (y==0) or (x == 0):\n",
    "                    Matriy_coef_A[cont,cont] = 1\n",
    "                cont += 1\n",
    "        #determinando pressão de referência = 0 no último volume\n",
    "        Matriy_coef_A[meshy*meshx*3-1,:] = 0 #rever dps\n",
    "        Matriy_coef_A[meshy*meshx*3-1,meshy*meshx*3-1] = 1\n",
    "        \n",
    "        Resultado = solve(Matriy_coef_A,Matriy_coef_B)\n",
    "        cont = 0\n",
    "        for y in range(meshx):\n",
    "            for x in range(meshy):\n",
    "                u[t,y,x] = Resultado[cont,0]\n",
    "                cont += 1\n",
    "        #cont = meshy*meshx        \n",
    "        for y in range(meshx):\n",
    "            for x in range(meshy):\n",
    "                v[t,y,x] = Resultado[cont,0]\n",
    "                cont += 1\n",
    "        #cont = meshy*meshx*2        \n",
    "        for y in range(meshx):\n",
    "            for x in range(meshy):\n",
    "                P[t,y,x] = Resultado[cont,0]\n",
    "                cont += 1\n",
    "        erro_u = (u[t,:,:] - u_antigo[:,:])\n",
    "        erro_v = (v[t,:,:] - v_antigo[:,:])\n",
    "        erro_P = (P[t,:,:] - P_antigo[:,:])\n",
    "        erro = max(abs(erro_u.max()),abs(erro_v.max()),abs(erro_P.max()))\n",
    "        iteracoes += 1\n",
    "        print(iteracoes)\n",
    "        if (iteracoes == 500):\n",
    "            erro = 0 #mudar dps\n",
    "                \n"
   ]
  },
  {
   "cell_type": "code",
   "execution_count": 26,
   "metadata": {
    "collapsed": false,
    "scrolled": true
   },
   "outputs": [
    {
     "data": {
      "text/plain": [
       "array([[ 0.,  0.,  0.,  0.],\n",
       "       [ 0.,  0.,  0.,  0.],\n",
       "       [ 0.,  0.,  0.,  0.],\n",
       "       [ 0.,  0.,  0.,  0.]])"
      ]
     },
     "execution_count": 26,
     "metadata": {},
     "output_type": "execute_result"
    }
   ],
   "source": [
    "Me_u"
   ]
  },
  {
   "cell_type": "code",
   "execution_count": 27,
   "metadata": {
    "collapsed": false
   },
   "outputs": [
    {
     "data": {
      "text/plain": [
       "array([[ 0.        ,  0.        ,  0.        ,  0.        ],\n",
       "       [ 0.        , -0.81087279, -0.17101815,  0.        ],\n",
       "       [ 0.        ,  0.91515266,  0.10947858,  0.        ],\n",
       "       [ 0.        , -0.10427988,  0.06153957,  0.        ]])"
      ]
     },
     "execution_count": 27,
     "metadata": {},
     "output_type": "execute_result"
    }
   ],
   "source": [
    "erro_v"
   ]
  },
  {
   "cell_type": "code",
   "execution_count": 28,
   "metadata": {
    "collapsed": false
   },
   "outputs": [
    {
     "data": {
      "text/plain": [
       "array([[ 0.        ,  0.        ,  0.        ,  0.        ],\n",
       "       [ 0.        ,  0.00521632, -0.02509327, -0.01292832],\n",
       "       [ 0.        , -0.03689906, -0.00226182, -0.01400381],\n",
       "       [ 0.        ,  0.02380726,  0.0145003 ,  0.        ]])"
      ]
     },
     "execution_count": 28,
     "metadata": {},
     "output_type": "execute_result"
    }
   ],
   "source": [
    "erro_P"
   ]
  },
  {
   "cell_type": "code",
   "execution_count": 31,
   "metadata": {
    "collapsed": false
   },
   "outputs": [
    {
     "data": {
      "text/plain": [
       "<matplotlib.lines.Line2D at 0xb8fb4e0>"
      ]
     },
     "execution_count": 31,
     "metadata": {},
     "output_type": "execute_result"
    },
    {
     "data": {
      "image/png": "[encoded data removed]",
      "text/plain": [
       "<matplotlib.figure.Figure at 0xb623f98>"
      ]
     },
     "metadata": {},
     "output_type": "display_data"
    }
   ],
   "source": [
    "%matplotlib inline\n",
    "M = sps.csr_matrix(Matriy_coef_A)\n",
    "fig, ax = pltt.subplots(figsize=(11,11))\n",
    "ax.spy(M)\n"
   ]
  },
  {
   "cell_type": "code",
   "execution_count": 30,
   "metadata": {
    "collapsed": false
   },
   "outputs": [
    {
     "name": "stderr",
     "output_type": "stream",
     "text": [
      "C:\\Users\\Gusttav\\Anaconda3\\lib\\site-packages\\ipykernel\\__main__.py:5: VisibleDeprecationWarning: using a non-integer number instead of an integer will result in an error in the future\n",
      "C:\\Users\\Gusttav\\Anaconda3\\lib\\site-packages\\matplotlib\\axes\\_axes.py:545: UserWarning: No labelled objects found. Use label='...' kwarg on individual plots.\n",
      "  warnings.warn(\"No labelled objects found. \"\n"
     ]
    },
    {
     "data": {
      "image/png": "[encoded data removed]",
      "text/plain": [
       "<matplotlib.figure.Figure at 0xb63da58>"
      ]
     },
     "metadata": {},
     "output_type": "display_data"
    }
   ],
   "source": [
    "%matplotlib inline\n",
    "fig = plt.figure(figsize=(8,6))\n",
    "axis = fig.add_subplot(111)   \n",
    "\n",
    "axis.plot(x_plot+deltax/2,v[1,:,(meshx-1)/2],marker='o')\n",
    "\n",
    "axis.set_ylabel('Velocidade v [m/s]')\n",
    "axis.set_xlabel('x [m]')\n",
    "axis.set_title('')\n",
    "axis.legend(bbox_to_anchor=(1.05, 1), loc=2, borderaxespad=0.)\n",
    "#axis.set_ylim(30,100)\n",
    "#axis.set_xlim(-0.05,0.45)\n"
   ]
  },
  {
   "cell_type": "code",
   "execution_count": 23,
   "metadata": {
    "collapsed": false
   },
   "outputs": [
    {
     "data": {
      "text/plain": [
       "array([[ 0.        ,  0.        ,  0.        ,  0.        ],\n",
       "       [ 0.        ,  0.0172883 , -0.00074825,  0.        ],\n",
       "       [ 0.        ,  0.03153228,  0.00800147,  0.        ],\n",
       "       [ 0.        ,  0.        ,  0.        ,  0.        ]])"
      ]
     },
     "execution_count": 23,
     "metadata": {},
     "output_type": "execute_result"
    }
   ],
   "source": [
    "an_u"
   ]
  },
  {
   "cell_type": "code",
   "execution_count": 24,
   "metadata": {
    "collapsed": false
   },
   "outputs": [
    {
     "data": {
      "text/plain": [
       "array([[ 0.        ,  0.        ,  0.        ,  0.        ],\n",
       "       [ 0.        ,  0.00800147, -0.02653228,  0.        ],\n",
       "       [ 0.        ,  0.00574825,  0.0172883 ,  0.        ],\n",
       "       [ 0.        ,  0.        ,  0.        ,  0.        ]])"
      ]
     },
     "execution_count": 24,
     "metadata": {},
     "output_type": "execute_result"
    }
   ],
   "source": [
    "ae_v"
   ]
  },
  {
   "cell_type": "code",
   "execution_count": null,
   "metadata": {
    "collapsed": true
   },
   "outputs": [],
   "source": []
  }
 ],
 "metadata": {
  "kernelspec": {
   "display_name": "Python [default]",
   "language": "python",
   "name": "python3"
  },
  "language_info": {
   "codemirror_mode": {
    "name": "ipython",
    "version": 3
   },
   "file_extension": ".py",
   "mimetype": "text/x-python",
   "name": "python",
   "nbconvert_exporter": "python",
   "pygments_lexer": "ipython3",
   "version": "3.5.2"
  }
 },
 "nbformat": 4,
 "nbformat_minor": 2
}
