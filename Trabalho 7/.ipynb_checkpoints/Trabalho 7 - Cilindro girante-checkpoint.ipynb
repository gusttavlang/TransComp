{
 "cells": [
  {
   "cell_type": "code",
   "execution_count": 57,
   "metadata": {
    "collapsed": true
   },
   "outputs": [],
   "source": [
    "import numpy as np\n",
    "from scipy.linalg import *\n",
    "import matplotlib.pyplot as plt\n",
    "import pandas as pd\n",
    "from pandas import DataFrame,Series\n",
    "import math\n",
    "import time"
   ]
  },
  {
   "cell_type": "code",
   "execution_count": 58,
   "metadata": {
    "collapsed": true
   },
   "outputs": [],
   "source": [
    "k = 52 #W/m°C - Aço 1020\n",
    "ri = 0.01 #m\n",
    "re = 0.1 #m\n",
    "Ti = 250 #°C\n",
    "Te = 25 #°C\n",
    "H = 1 #m - Largura\n",
    "omega = 1 #rad/s\n",
    "rho = 7800 #kg/m³\n",
    "cp = 486 #j/kgK\n",
    "theta = np.pi/4 #rad\n"
   ]
  },
  {
   "cell_type": "code",
   "execution_count": 113,
   "metadata": {
    "collapsed": false
   },
   "outputs": [],
   "source": [
    "meshx = 5\n",
    "deltax = ((re-ri)*math.cos(theta))/(meshx-1)\n",
    "\n",
    "meshy = 5\n",
    "deltay = ((re-ri)*math.sin(theta))/(meshy-1)\n",
    "\n",
    "#Pe = rho*u*deltax/(k/cp)\n",
    "#deltax_max = 2 *(k/cp)/(rho*u)"
   ]
  },
  {
   "cell_type": "code",
   "execution_count": 114,
   "metadata": {
    "collapsed": true
   },
   "outputs": [],
   "source": [
    "def raio(x,y):\n",
    "    r = (x**2 + y**2)**0.5\n",
    "    return r"
   ]
  },
  {
   "cell_type": "code",
   "execution_count": 115,
   "metadata": {
    "collapsed": false
   },
   "outputs": [],
   "source": [
    "def vel_u(x,y):\n",
    "    r = raio(x,y)\n",
    "    V = omega*r\n",
    "    alpha = math.atan(y/x)\n",
    "    u = V*math.sin(alpha)\n",
    "    return u"
   ]
  },
  {
   "cell_type": "code",
   "execution_count": 116,
   "metadata": {
    "collapsed": true
   },
   "outputs": [],
   "source": [
    "def vel_v(x,y):\n",
    "    r = raio(x,y)\n",
    "    V = omega*r\n",
    "    alpha = math.atan(y/x)\n",
    "    v = V*math.cos(alpha)\n",
    "    return v"
   ]
  },
  {
   "cell_type": "code",
   "execution_count": 117,
   "metadata": {
    "collapsed": true
   },
   "outputs": [],
   "source": [
    "def T_exata(x,y):\n",
    "    r = raio(x,y)\n",
    "    T = (Te-Ti)*math.log(r/ri)/(math.log(re/ri)) + Ti\n",
    "    \n",
    "    return T"
   ]
  },
  {
   "cell_type": "code",
   "execution_count": 118,
   "metadata": {
    "collapsed": true
   },
   "outputs": [],
   "source": [
    "x_plot = np.zeros(meshx)\n",
    "y_plot = np.zeros(meshy)\n",
    "\n",
    "x_plot[0] = ri*math.cos(theta) #posição inicial x\n",
    "for x in range(1,meshx):\n",
    "    x_plot[x] = x_plot[x-1] + deltax\n",
    "    \n",
    "y_plot[0] = ri*math.sin(theta) #posição inicial y\n",
    "for y in range(1,meshy):\n",
    "    y_plot[y] = y_plot[y-1] + deltay"
   ]
  },
  {
   "cell_type": "code",
   "execution_count": 119,
   "metadata": {
    "collapsed": false
   },
   "outputs": [
    {
     "data": {
      "text/plain": [
       "0.07071067811865477"
      ]
     },
     "execution_count": 119,
     "metadata": {},
     "output_type": "execute_result"
    }
   ],
   "source": [
    "re*math.cos(theta)"
   ]
  },
  {
   "cell_type": "code",
   "execution_count": 120,
   "metadata": {
    "collapsed": false
   },
   "outputs": [
    {
     "data": {
      "text/plain": [
       "array([ 0.00707107,  0.02298097,  0.03889087,  0.05480078,  0.07071068])"
      ]
     },
     "execution_count": 120,
     "metadata": {},
     "output_type": "execute_result"
    }
   ],
   "source": [
    "x_plot"
   ]
  },
  {
   "cell_type": "code",
   "execution_count": 121,
   "metadata": {
    "collapsed": false
   },
   "outputs": [],
   "source": [
    "#Solução analítica\n",
    "\n",
    "num_pontos = meshx*meshy\n",
    "\n",
    "x_analitico = np.linspace(ri,re,num_pontos)\n",
    "T_analitico = np.zeros(num_pontos)\n",
    "T_analitico_2D = np.zeros((meshx,meshy))\n",
    "'''\n",
    "i = 0\n",
    "for r in x_analitico:\n",
    "    T_analitico[i] = (Te-Ti)*math.log(r/ri)/(math.log(re/ri)) + Ti\n",
    "    i += 1\n",
    "'''\n",
    "    \n",
    "#Construindo uma matriz 2D de Temperaturas exatas \n",
    "#para avaliar o erro\n",
    "for x in range(meshx):\n",
    "    for y in range(meshy):\n",
    "        T_analitico_2D[x,y] = T_exata(x_plot[x],y_plot[y])\n"
   ]
  },
  {
   "cell_type": "code",
   "execution_count": 122,
   "metadata": {
    "collapsed": false
   },
   "outputs": [],
   "source": [
    "#Solução numérica\n",
    "\n",
    "ap = np.zeros((meshx,meshy))\n",
    "ae = np.zeros((meshx,meshy))\n",
    "aw = np.zeros((meshx,meshy))\n",
    "an = np.zeros((meshx,meshy))\n",
    "aS = np.zeros((meshx,meshy))\n",
    "b = np.zeros((meshx,meshy))\n",
    "Matrix_coef_a = np.zeros((meshx*meshy,meshx*meshy))\n",
    "Matrix_coef_b = np.zeros((meshx*meshy,1))\n",
    "\n",
    "#Determinação das temperaturas prescritas\n",
    "for x in range(meshx):\n",
    "    for y in range(meshy):\n",
    "        if (x==0) or (y==0) or (x==meshx-1) or (y==meshy-1):\n",
    "            ap[x,y] = 1\n",
    "            b[x,y] = T_exata(x_plot[x],y_plot[y])\n",
    "            #b[x,y] = raio(x_plot[x],y_plot[y])\n",
    "            \n",
    "#Determinação dos campos de velocidades\n",
    "ue = np.zeros((meshx,meshy))\n",
    "uw = np.zeros((meshx,meshy))\n",
    "vn = np.zeros((meshx,meshy))\n",
    "vs = np.zeros((meshx,meshy))\n",
    "\n",
    "for x in range(1,meshx-1):\n",
    "    for y in range(1,meshy-1):\n",
    "        uw[x,y] = -vel_u(x_plot[x]-deltax/2, y_plot[y])\n",
    "        ue[x,y] = -vel_u(x_plot[x]+deltax/2, y_plot[y])\n",
    "        vn[x,y] = vel_v(x_plot[x], y_plot[y]+deltay/2)\n",
    "        vs[x,y] = vel_v(x_plot[x], y_plot[y]-deltay/2)\n",
    "        \n",
    "Me = ue*rho*H*deltay\n",
    "Mw = uw*rho*H*deltay\n",
    "Mn = vn*rho*H*deltax\n",
    "Ms = vs*rho*H*deltax\n",
    "\n"
   ]
  },
  {
   "cell_type": "code",
   "execution_count": 123,
   "metadata": {
    "collapsed": false
   },
   "outputs": [
    {
     "data": {
      "text/plain": [
       "array([[ 0.        ,  0.        ,  0.        ,  0.        ,  0.        ],\n",
       "       [ 0.        , -0.02298097, -0.03889087, -0.05480078,  0.        ],\n",
       "       [ 0.        , -0.02298097, -0.03889087, -0.05480078,  0.        ],\n",
       "       [ 0.        , -0.02298097, -0.03889087, -0.05480078,  0.        ],\n",
       "       [ 0.        ,  0.        ,  0.        ,  0.        ,  0.        ]])"
      ]
     },
     "execution_count": 123,
     "metadata": {},
     "output_type": "execute_result"
    }
   ],
   "source": [
    "ue"
   ]
  },
  {
   "cell_type": "code",
   "execution_count": 129,
   "metadata": {
    "collapsed": false
   },
   "outputs": [
    {
     "data": {
      "text/plain": [
       "array([[ 0.        ,  0.        ,  0.        ,  0.        ,  0.        ],\n",
       "       [ 0.        , -0.02298097, -0.03889087, -0.05480078,  0.        ],\n",
       "       [ 0.        , -0.02298097, -0.03889087, -0.05480078,  0.        ],\n",
       "       [ 0.        , -0.02298097, -0.03889087, -0.05480078,  0.        ],\n",
       "       [ 0.        ,  0.        ,  0.        ,  0.        ,  0.        ]])"
      ]
     },
     "execution_count": 129,
     "metadata": {},
     "output_type": "execute_result"
    }
   ],
   "source": [
    "uw"
   ]
  },
  {
   "cell_type": "code",
   "execution_count": 130,
   "metadata": {
    "collapsed": false
   },
   "outputs": [
    {
     "data": {
      "text/plain": [
       "array([[ 0.        ,  0.        ,  0.        ,  0.        ,  0.        ],\n",
       "       [ 0.        ,  0.02298097,  0.02298097,  0.02298097,  0.        ],\n",
       "       [ 0.        ,  0.03889087,  0.03889087,  0.03889087,  0.        ],\n",
       "       [ 0.        ,  0.05480078,  0.05480078,  0.05480078,  0.        ],\n",
       "       [ 0.        ,  0.        ,  0.        ,  0.        ,  0.        ]])"
      ]
     },
     "execution_count": 130,
     "metadata": {},
     "output_type": "execute_result"
    }
   ],
   "source": [
    "vn"
   ]
  },
  {
   "cell_type": "code",
   "execution_count": null,
   "metadata": {
    "collapsed": true
   },
   "outputs": [],
   "source": []
  },
  {
   "cell_type": "code",
   "execution_count": null,
   "metadata": {
    "collapsed": true
   },
   "outputs": [],
   "source": [
    "x_plot = np.zeros(meshx)\n",
    "y_plot = np.zeros(meshy)\n",
    "\n",
    "x_plot[0] = ri*math.cos(theta) #posição inicial x\n",
    "for x in range(1,meshx):\n",
    "    x_plot[x] = x_plot[x-1] + deltax\n",
    "    \n",
    "y_plot[0] = ri*math.sin(theta) #posição inicial y\n",
    "for y in range(1,meshy):\n",
    "    y_plot[y] = y_plot[y-1] + deltay"
   ]
  },
  {
   "cell_type": "code",
   "execution_count": 127,
   "metadata": {
    "collapsed": false
   },
   "outputs": [
    {
     "data": {
      "text/plain": [
       "array([[ 0.      ,  0.      ,  0.      ,  0.      ,  0.      ],\n",
       "       [ 0.      , -2.851875, -4.82625 , -6.800625,  0.      ],\n",
       "       [ 0.      , -2.851875, -4.82625 , -6.800625,  0.      ],\n",
       "       [ 0.      , -2.851875, -4.82625 , -6.800625,  0.      ],\n",
       "       [ 0.      ,  0.      ,  0.      ,  0.      ,  0.      ]])"
      ]
     },
     "execution_count": 127,
     "metadata": {},
     "output_type": "execute_result"
    }
   ],
   "source": [
    "Me"
   ]
  },
  {
   "cell_type": "code",
   "execution_count": 124,
   "metadata": {
    "collapsed": true
   },
   "outputs": [],
   "source": [
    "#CDS\n",
    "#atribuindo valor aos coeficientes dos volumes internos\n",
    "for x in range(1,meshx-1):\n",
    "    for y in range(1,meshy-1):\n",
    "        ae[x,y] = k*H*deltay/(cp*deltax) - Me[x,y]/2\n",
    "        aw[x,y] = k*H*deltay/(cp*deltax) + Mw[x,y]/2\n",
    "        an[x,y] = k*H*deltax/(cp*deltay) - Mn[x,y]/2\n",
    "        aS[x,y] = k*H*deltax/(cp*deltay) + Ms[x,y]/2\n",
    "        ap[x,y] = ae[x,y] + aw[x,y] + an[x,y] + aS[x,y]\n",
    "        \n",
    "#montando a matriz dos coeficientes\n",
    "cont = 0\n",
    "for x in range(meshx):\n",
    "    for y in range(meshy):\n",
    "        Matrix_coef_a[cont,cont] = ap[x,y]\n",
    "        Matrix_coef_a[cont,cont-1] = -aw[x,y]\n",
    "        \n",
    "        if cont < meshx*meshy-1:\n",
    "            Matrix_coef_a[cont,cont+1] = -ae[x,y]\n",
    "        if cont < meshx*meshy-meshy:   \n",
    "            Matrix_coef_a[cont,cont+meshy] = -an[x,y]\n",
    "        if cont >meshy-1:\n",
    "            Matrix_coef_a[cont,cont-meshy] = -aS[x,y]\n",
    "        \n",
    "        \n",
    "        Matrix_coef_b[cont,0] = b[x,y]\n",
    "        cont += 1\n",
    "        \n",
    "    \n",
    "TCDS = solve(Matrix_coef_a,Matrix_coef_b)\n",
    "\n",
    "#transformando o vetor Temperatura em Matriz\n",
    "TCDS_2D = np.zeros((meshx,meshy))\n",
    "cont = 0\n",
    "for x in range(meshx):\n",
    "    for y in range(meshy):\n",
    "        TCDS_2D[x,y] = TCDS[cont]\n",
    "        cont += 1\n",
    "\n",
    "erro = np.zeros((meshx,meshy))        \n",
    "erro = abs(TCDS_2D-T_analitico_2D)\n",
    "\n",
    "erromax = erro.max()"
   ]
  },
  {
   "cell_type": "code",
   "execution_count": 125,
   "metadata": {
    "collapsed": false
   },
   "outputs": [
    {
     "data": {
      "text/plain": [
       "array([[ 1.        , -0.        ,  0.        ,  0.        ,  0.        ,\n",
       "        -0.        ,  0.        ,  0.        ,  0.        ,  0.        ,\n",
       "         0.        ,  0.        ,  0.        ,  0.        ,  0.        ,\n",
       "         0.        ,  0.        ,  0.        ,  0.        ,  0.        ,\n",
       "         0.        ,  0.        ,  0.        ,  0.        , -0.        ],\n",
       "       [-0.        ,  1.        , -0.        ,  0.        ,  0.        ,\n",
       "         0.        , -0.        ,  0.        ,  0.        ,  0.        ,\n",
       "         0.        ,  0.        ,  0.        ,  0.        ,  0.        ,\n",
       "         0.        ,  0.        ,  0.        ,  0.        ,  0.        ,\n",
       "         0.        ,  0.        ,  0.        ,  0.        ,  0.        ],\n",
       "       [ 0.        , -0.        ,  1.        , -0.        ,  0.        ,\n",
       "         0.        ,  0.        , -0.        ,  0.        ,  0.        ,\n",
       "         0.        ,  0.        ,  0.        ,  0.        ,  0.        ,\n",
       "         0.        ,  0.        ,  0.        ,  0.        ,  0.        ,\n",
       "         0.        ,  0.        ,  0.        ,  0.        ,  0.        ],\n",
       "       [ 0.        ,  0.        , -0.        ,  1.        , -0.        ,\n",
       "         0.        ,  0.        ,  0.        , -0.        ,  0.        ,\n",
       "         0.        ,  0.        ,  0.        ,  0.        ,  0.        ,\n",
       "         0.        ,  0.        ,  0.        ,  0.        ,  0.        ,\n",
       "         0.        ,  0.        ,  0.        ,  0.        ,  0.        ],\n",
       "       [ 0.        ,  0.        ,  0.        , -0.        ,  1.        ,\n",
       "        -0.        ,  0.        ,  0.        ,  0.        , -0.        ,\n",
       "         0.        ,  0.        ,  0.        ,  0.        ,  0.        ,\n",
       "         0.        ,  0.        ,  0.        ,  0.        ,  0.        ,\n",
       "         0.        ,  0.        ,  0.        ,  0.        ,  0.        ],\n",
       "       [-0.        ,  0.        ,  0.        ,  0.        , -0.        ,\n",
       "         1.        , -0.        ,  0.        ,  0.        ,  0.        ,\n",
       "        -0.        ,  0.        ,  0.        ,  0.        ,  0.        ,\n",
       "         0.        ,  0.        ,  0.        ,  0.        ,  0.        ,\n",
       "         0.        ,  0.        ,  0.        ,  0.        ,  0.        ],\n",
       "       [ 0.        , -1.53293338,  0.        ,  0.        ,  0.        ,\n",
       "         1.31894162,  0.42798354, -1.53293338,  0.        ,  0.        ,\n",
       "         0.        ,  1.31894162,  0.        ,  0.        ,  0.        ,\n",
       "         0.        ,  0.        ,  0.        ,  0.        ,  0.        ,\n",
       "         0.        ,  0.        ,  0.        ,  0.        ,  0.        ],\n",
       "       [ 0.        ,  0.        , -1.53293338,  0.        ,  0.        ,\n",
       "         0.        ,  2.30612912,  0.42798354, -2.52012088,  0.        ,\n",
       "         0.        ,  0.        ,  1.31894162,  0.        ,  0.        ,\n",
       "         0.        ,  0.        ,  0.        ,  0.        ,  0.        ,\n",
       "         0.        ,  0.        ,  0.        ,  0.        ,  0.        ],\n",
       "       [ 0.        ,  0.        ,  0.        , -1.53293338,  0.        ,\n",
       "         0.        ,  0.        ,  3.29331662,  0.42798354, -3.50730838,\n",
       "         0.        ,  0.        ,  0.        ,  1.31894162,  0.        ,\n",
       "         0.        ,  0.        ,  0.        ,  0.        ,  0.        ,\n",
       "         0.        ,  0.        ,  0.        ,  0.        ,  0.        ],\n",
       "       [ 0.        ,  0.        ,  0.        ,  0.        , -0.        ,\n",
       "         0.        ,  0.        ,  0.        , -0.        ,  1.        ,\n",
       "        -0.        ,  0.        ,  0.        ,  0.        , -0.        ,\n",
       "         0.        ,  0.        ,  0.        ,  0.        ,  0.        ,\n",
       "         0.        ,  0.        ,  0.        ,  0.        ,  0.        ],\n",
       "       [ 0.        ,  0.        ,  0.        ,  0.        ,  0.        ,\n",
       "        -0.        ,  0.        ,  0.        ,  0.        , -0.        ,\n",
       "         1.        , -0.        ,  0.        ,  0.        ,  0.        ,\n",
       "        -0.        ,  0.        ,  0.        ,  0.        ,  0.        ,\n",
       "         0.        ,  0.        ,  0.        ,  0.        ,  0.        ],\n",
       "       [ 0.        ,  0.        ,  0.        ,  0.        ,  0.        ,\n",
       "         0.        , -2.52012088,  0.        ,  0.        ,  0.        ,\n",
       "         1.31894162,  0.42798354, -1.53293338,  0.        ,  0.        ,\n",
       "         0.        ,  2.30612912,  0.        ,  0.        ,  0.        ,\n",
       "         0.        ,  0.        ,  0.        ,  0.        ,  0.        ],\n",
       "       [ 0.        ,  0.        ,  0.        ,  0.        ,  0.        ,\n",
       "         0.        ,  0.        , -2.52012088,  0.        ,  0.        ,\n",
       "         0.        ,  2.30612912,  0.42798354, -2.52012088,  0.        ,\n",
       "         0.        ,  0.        ,  2.30612912,  0.        ,  0.        ,\n",
       "         0.        ,  0.        ,  0.        ,  0.        ,  0.        ],\n",
       "       [ 0.        ,  0.        ,  0.        ,  0.        ,  0.        ,\n",
       "         0.        ,  0.        ,  0.        , -2.52012088,  0.        ,\n",
       "         0.        ,  0.        ,  3.29331662,  0.42798354, -3.50730838,\n",
       "         0.        ,  0.        ,  0.        ,  2.30612912,  0.        ,\n",
       "         0.        ,  0.        ,  0.        ,  0.        ,  0.        ],\n",
       "       [ 0.        ,  0.        ,  0.        ,  0.        ,  0.        ,\n",
       "         0.        ,  0.        ,  0.        ,  0.        , -0.        ,\n",
       "         0.        ,  0.        ,  0.        , -0.        ,  1.        ,\n",
       "        -0.        ,  0.        ,  0.        ,  0.        , -0.        ,\n",
       "         0.        ,  0.        ,  0.        ,  0.        ,  0.        ],\n",
       "       [ 0.        ,  0.        ,  0.        ,  0.        ,  0.        ,\n",
       "         0.        ,  0.        ,  0.        ,  0.        ,  0.        ,\n",
       "        -0.        ,  0.        ,  0.        ,  0.        , -0.        ,\n",
       "         1.        , -0.        ,  0.        ,  0.        ,  0.        ,\n",
       "        -0.        ,  0.        ,  0.        ,  0.        ,  0.        ],\n",
       "       [ 0.        ,  0.        ,  0.        ,  0.        ,  0.        ,\n",
       "         0.        ,  0.        ,  0.        ,  0.        ,  0.        ,\n",
       "         0.        , -3.50730838,  0.        ,  0.        ,  0.        ,\n",
       "         1.31894162,  0.42798354, -1.53293338,  0.        ,  0.        ,\n",
       "         0.        ,  3.29331662,  0.        ,  0.        ,  0.        ],\n",
       "       [ 0.        ,  0.        ,  0.        ,  0.        ,  0.        ,\n",
       "         0.        ,  0.        ,  0.        ,  0.        ,  0.        ,\n",
       "         0.        ,  0.        , -3.50730838,  0.        ,  0.        ,\n",
       "         0.        ,  2.30612912,  0.42798354, -2.52012088,  0.        ,\n",
       "         0.        ,  0.        ,  3.29331662,  0.        ,  0.        ],\n",
       "       [ 0.        ,  0.        ,  0.        ,  0.        ,  0.        ,\n",
       "         0.        ,  0.        ,  0.        ,  0.        ,  0.        ,\n",
       "         0.        ,  0.        ,  0.        , -3.50730838,  0.        ,\n",
       "         0.        ,  0.        ,  3.29331662,  0.42798354, -3.50730838,\n",
       "         0.        ,  0.        ,  0.        ,  3.29331662,  0.        ],\n",
       "       [ 0.        ,  0.        ,  0.        ,  0.        ,  0.        ,\n",
       "         0.        ,  0.        ,  0.        ,  0.        ,  0.        ,\n",
       "         0.        ,  0.        ,  0.        ,  0.        , -0.        ,\n",
       "         0.        ,  0.        ,  0.        , -0.        ,  1.        ,\n",
       "        -0.        ,  0.        ,  0.        ,  0.        , -0.        ],\n",
       "       [ 0.        ,  0.        ,  0.        ,  0.        ,  0.        ,\n",
       "         0.        ,  0.        ,  0.        ,  0.        ,  0.        ,\n",
       "         0.        ,  0.        ,  0.        ,  0.        ,  0.        ,\n",
       "        -0.        ,  0.        ,  0.        ,  0.        , -0.        ,\n",
       "         1.        , -0.        ,  0.        ,  0.        ,  0.        ],\n",
       "       [ 0.        ,  0.        ,  0.        ,  0.        ,  0.        ,\n",
       "         0.        ,  0.        ,  0.        ,  0.        ,  0.        ,\n",
       "         0.        ,  0.        ,  0.        ,  0.        ,  0.        ,\n",
       "         0.        , -0.        ,  0.        ,  0.        ,  0.        ,\n",
       "        -0.        ,  1.        , -0.        ,  0.        ,  0.        ],\n",
       "       [ 0.        ,  0.        ,  0.        ,  0.        ,  0.        ,\n",
       "         0.        ,  0.        ,  0.        ,  0.        ,  0.        ,\n",
       "         0.        ,  0.        ,  0.        ,  0.        ,  0.        ,\n",
       "         0.        ,  0.        , -0.        ,  0.        ,  0.        ,\n",
       "         0.        , -0.        ,  1.        , -0.        ,  0.        ],\n",
       "       [ 0.        ,  0.        ,  0.        ,  0.        ,  0.        ,\n",
       "         0.        ,  0.        ,  0.        ,  0.        ,  0.        ,\n",
       "         0.        ,  0.        ,  0.        ,  0.        ,  0.        ,\n",
       "         0.        ,  0.        ,  0.        , -0.        ,  0.        ,\n",
       "         0.        ,  0.        , -0.        ,  1.        , -0.        ],\n",
       "       [ 0.        ,  0.        ,  0.        ,  0.        ,  0.        ,\n",
       "         0.        ,  0.        ,  0.        ,  0.        ,  0.        ,\n",
       "         0.        ,  0.        ,  0.        ,  0.        ,  0.        ,\n",
       "         0.        ,  0.        ,  0.        ,  0.        , -0.        ,\n",
       "         0.        ,  0.        ,  0.        , -0.        ,  1.        ]])"
      ]
     },
     "execution_count": 125,
     "metadata": {},
     "output_type": "execute_result"
    }
   ],
   "source": [
    "Matrix_coef_a"
   ]
  },
  {
   "cell_type": "code",
   "execution_count": 109,
   "metadata": {
    "collapsed": false
   },
   "outputs": [
    {
     "data": {
      "text/plain": [
       "249.99999999999997"
      ]
     },
     "execution_count": 109,
     "metadata": {},
     "output_type": "execute_result"
    }
   ],
   "source": [
    "erromax"
   ]
  },
  {
   "cell_type": "code",
   "execution_count": 110,
   "metadata": {
    "collapsed": true
   },
   "outputs": [],
   "source": [
    "#UDS\n",
    "#atribuindo valor aos coeficientes dos volumes internos\n",
    "for x in range(1,meshx-1):\n",
    "    for y in range(1,meshy-1):\n",
    "        ae[x,y] = k*H*deltay/(cp*deltax) - Me[x,y]\n",
    "        aw[x,y] = k*H*deltay/(cp*deltax)\n",
    "        an[x,y] = k*H*deltax/(cp*deltay)\n",
    "        aS[x,y] = k*H*deltax/(cp*deltay) + Ms[x,y]\n",
    "        ap[x,y] = ae[x,y] + aw[x,y] + an[x,y] + aS[x,y]\n",
    "        \n",
    "#montando a matriz dos coeficientes\n",
    "cont = 0\n",
    "for x in range(meshx):\n",
    "    for y in range(meshy):\n",
    "        Matrix_coef_a[cont,cont] = ap[x,y]\n",
    "        Matrix_coef_a[cont,cont-1] = -aw[x,y]\n",
    "        \n",
    "        if cont < meshx*meshy-1:\n",
    "            Matrix_coef_a[cont,cont+1] = -ae[x,y]\n",
    "        if cont < meshx*meshy-meshy:   \n",
    "            Matrix_coef_a[cont,cont+meshy] = -an[x,y]\n",
    "        if cont >meshy-1:\n",
    "            Matrix_coef_a[cont,cont-meshy] = -aS[x,y]\n",
    "        \n",
    "        \n",
    "        Matrix_coef_b[cont,0] = b[x,y]\n",
    "        cont += 1\n",
    "        \n",
    "    \n",
    "TUDS = solve(Matrix_coef_a,Matrix_coef_b)\n",
    "\n",
    "#transformando o vetor Temperatura em Matriz\n",
    "TUDS_2D = np.zeros((meshx,meshy))\n",
    "cont = 0\n",
    "for x in range(meshx):\n",
    "    for y in range(meshy):\n",
    "        TUDS_2D[x,y] = TUDS[cont]\n",
    "        cont += 1\n"
   ]
  },
  {
   "cell_type": "code",
   "execution_count": 111,
   "metadata": {
    "collapsed": false
   },
   "outputs": [
    {
     "name": "stderr",
     "output_type": "stream",
     "text": [
      "C:\\Users\\Gusttav\\Anaconda3\\lib\\site-packages\\ipykernel\\__main__.py:15: RuntimeWarning: invalid value encountered in true_divide\n",
      "C:\\Users\\Gusttav\\Anaconda3\\lib\\site-packages\\ipykernel\\__main__.py:16: RuntimeWarning: invalid value encountered in true_divide\n",
      "C:\\Users\\Gusttav\\Anaconda3\\lib\\site-packages\\ipykernel\\__main__.py:17: RuntimeWarning: invalid value encountered in true_divide\n",
      "C:\\Users\\Gusttav\\Anaconda3\\lib\\site-packages\\ipykernel\\__main__.py:18: RuntimeWarning: invalid value encountered in true_divide\n"
     ]
    }
   ],
   "source": [
    "#Exponencial\n",
    "\n",
    "#atribuindo valor aos coeficientes difusivos\n",
    "\n",
    "De = k*H*deltay/(cp*deltax) \n",
    "Dw = k*H*deltay/(cp*deltax)\n",
    "Dn = k*H*deltax/(cp*deltay)\n",
    "Ds = k*H*deltax/(cp*deltay) \n",
    "        \n",
    "Pe = abs(Me/De)\n",
    "Pw = abs(Mw/Dw)\n",
    "Pn = abs(Mn/Dn)\n",
    "Ps = abs(Ms/Ds)\n",
    "\n",
    "ae = De*Pe/(np.e**Pe-1)-Me\n",
    "aw = Dw*Pw/(np.e**Pw-1)\n",
    "an = Dn*Pn/(np.e**Pn-1)\n",
    "aS = Ds*Ps/(np.e**Ps-1)+Ms\n",
    "ap = ae + aw + an + aS\n",
    "\n",
    "#retirando os valores de NaN\n",
    "for x in range(meshx):\n",
    "    for y in range(meshy):\n",
    "        if (x==0) or (y==0) or (x==meshx-1) or (y==meshy-1):\n",
    "            ae[x,y] = 0\n",
    "            aw[x,y] = 0\n",
    "            an[x,y] = 0\n",
    "            aS[x,y] = 0\n",
    "            ap[x,y] = 1\n",
    "            \n",
    "#montando a matriz dos coeficientes\n",
    "cont = 0\n",
    "for x in range(meshx):\n",
    "    for y in range(meshy):\n",
    "        Matrix_coef_a[cont,cont] = ap[x,y]\n",
    "        Matrix_coef_a[cont,cont-1] = -aw[x,y]\n",
    "        \n",
    "        if cont < meshx*meshy-1:\n",
    "            Matrix_coef_a[cont,cont+1] = -ae[x,y]\n",
    "        if cont < meshx*meshy-meshy:   \n",
    "            Matrix_coef_a[cont,cont+meshy] = -an[x,y]\n",
    "        if cont >meshy-1:\n",
    "            Matrix_coef_a[cont,cont-meshy] = -aS[x,y]\n",
    "        \n",
    "        \n",
    "        Matrix_coef_b[cont,0] = b[x,y]\n",
    "        cont += 1\n",
    "        \n",
    "    \n",
    "Texp = solve(Matrix_coef_a,Matrix_coef_b)\n",
    "\n",
    "#transformando o vetor Temperatura em Matriz\n",
    "Texp_2D = np.zeros((meshx,meshy))\n",
    "cont = 0\n",
    "for x in range(meshx):\n",
    "    for y in range(meshy):\n",
    "        Texp_2D[x,y] = Texp[cont]\n",
    "        cont += 1\n"
   ]
  },
  {
   "cell_type": "code",
   "execution_count": 112,
   "metadata": {
    "collapsed": false
   },
   "outputs": [
    {
     "data": {
      "text/plain": [
       "<matplotlib.text.Text at 0xe619588>"
      ]
     },
     "execution_count": 112,
     "metadata": {},
     "output_type": "execute_result"
    },
    {
     "data": {
      "image/png": "[encoded data removed]",
      "text/plain": [
       "<matplotlib.figure.Figure at 0xe4e8b38>"
      ]
     },
     "metadata": {},
     "output_type": "display_data"
    }
   ],
   "source": [
    "#Grafico 2D\n",
    "%matplotlib inline\n",
    "        \n",
    "X,Y = np.meshgrid(x_plot,y_plot)\n",
    "\n",
    "fig, ax = plt.subplots()\n",
    "\n",
    "#ax.contourf(X,Y,abs(TCDS_2D-T_analitico_2D),cmap='jet')\n",
    "#ax.contourf(X,Y,TCDS_2D,50,cmap='jet')\n",
    "p = ax.pcolor(X, Y, Texp_2D, cmap='jet')\n",
    "cb = fig.colorbar(p, ax=ax)\n",
    "\n",
    "cb.set_label('T[°C]')\n",
    "\n",
    "ax.set_ylabel('y [m]')\n",
    "ax.set_xlabel('x [m]')\n",
    "\n"
   ]
  },
  {
   "cell_type": "code",
   "execution_count": null,
   "metadata": {
    "collapsed": false
   },
   "outputs": [],
   "source": [
    "X"
   ]
  },
  {
   "cell_type": "code",
   "execution_count": null,
   "metadata": {
    "collapsed": false
   },
   "outputs": [],
   "source": [
    "Y"
   ]
  },
  {
   "cell_type": "code",
   "execution_count": null,
   "metadata": {
    "collapsed": false
   },
   "outputs": [],
   "source": [
    "TCDS_2D"
   ]
  },
  {
   "cell_type": "code",
   "execution_count": null,
   "metadata": {
    "collapsed": false
   },
   "outputs": [],
   "source": [
    "T_analitico_2D"
   ]
  },
  {
   "cell_type": "code",
   "execution_count": null,
   "metadata": {
    "collapsed": false
   },
   "outputs": [],
   "source": [
    "b"
   ]
  },
  {
   "cell_type": "code",
   "execution_count": null,
   "metadata": {
    "collapsed": false
   },
   "outputs": [],
   "source": [
    "TCDS_2D-T_analitico_2D"
   ]
  },
  {
   "cell_type": "code",
   "execution_count": null,
   "metadata": {
    "collapsed": true
   },
   "outputs": [],
   "source": []
  }
 ],
 "metadata": {
  "kernelspec": {
   "display_name": "Python [default]",
   "language": "python",
   "name": "python3"
  },
  "language_info": {
   "codemirror_mode": {
    "name": "ipython",
    "version": 3
   },
   "file_extension": ".py",
   "mimetype": "text/x-python",
   "name": "python",
   "nbconvert_exporter": "python",
   "pygments_lexer": "ipython3",
   "version": "3.5.2"
  }
 },
 "nbformat": 4,
 "nbformat_minor": 2
}
