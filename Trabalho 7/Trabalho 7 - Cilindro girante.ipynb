{
 "cells": [
  {
   "cell_type": "code",
   "execution_count": null,
   "metadata": {
    "collapsed": true
   },
   "outputs": [],
   "source": [
    "import numpy as np\n",
    "from scipy.linalg import *\n",
    "import matplotlib.pyplot as plt\n",
    "import pandas as pd\n",
    "from pandas import DataFrame,Series\n",
    "import math\n",
    "import time"
   ]
  },
  {
   "cell_type": "code",
   "execution_count": null,
   "metadata": {
    "collapsed": true
   },
   "outputs": [],
   "source": [
    "k = 52 #W/m°C - Aço 1020\n",
    "ri = 0.01 #m\n",
    "re = 0.1 #m\n",
    "Ti = 250 #°C\n",
    "Te = 25 #°C\n",
    "H = 1 #m - Largura\n",
    "omega = 1e10 #rad/s\n",
    "rho = 7800 #kg/m³\n",
    "cp = 486 #j/kgK\n",
    "theta = np.pi/4 #rad\n"
   ]
  },
  {
   "cell_type": "code",
   "execution_count": null,
   "metadata": {
    "collapsed": false
   },
   "outputs": [],
   "source": [
    "meshx = 50\n",
    "deltax = ((re-ri)*math.cos(theta))/(meshx-1)\n",
    "\n",
    "meshy = 50\n",
    "deltay = ((re-ri)*math.sin(theta))/(meshy-1)\n",
    "\n"
   ]
  },
  {
   "cell_type": "code",
   "execution_count": null,
   "metadata": {
    "collapsed": true
   },
   "outputs": [],
   "source": [
    "def raio(x,y):\n",
    "    r = (x**2 + y**2)**0.5\n",
    "    return r"
   ]
  },
  {
   "cell_type": "code",
   "execution_count": null,
   "metadata": {
    "collapsed": false
   },
   "outputs": [],
   "source": [
    "def vel_u(x,y):\n",
    "    r = raio(x,y)\n",
    "    V = omega*r\n",
    "    alpha = math.atan(y/x)\n",
    "    u = V*math.sin(alpha)\n",
    "    return u"
   ]
  },
  {
   "cell_type": "code",
   "execution_count": null,
   "metadata": {
    "collapsed": true
   },
   "outputs": [],
   "source": [
    "def vel_v(x,y):\n",
    "    r = raio(x,y)\n",
    "    V = omega*r\n",
    "    alpha = math.atan(y/x)\n",
    "    v = V*math.cos(alpha)\n",
    "    return v"
   ]
  },
  {
   "cell_type": "code",
   "execution_count": null,
   "metadata": {
    "collapsed": true
   },
   "outputs": [],
   "source": [
    "def T_exata(x,y):\n",
    "    r = raio(x,y)\n",
    "    T = (Te-Ti)*math.log(r/ri)/(math.log(re/ri)) + Ti\n",
    "    \n",
    "    return T"
   ]
  },
  {
   "cell_type": "code",
   "execution_count": null,
   "metadata": {
    "collapsed": true
   },
   "outputs": [],
   "source": [
    "x_plot = np.zeros(meshx)\n",
    "y_plot = np.zeros(meshy)\n",
    "\n",
    "x_plot[0] = ri*math.cos(theta) #posição inicial x\n",
    "for x in range(1,meshx):\n",
    "    x_plot[x] = x_plot[x-1] + deltax\n",
    "    \n",
    "y_plot[0] = ri*math.sin(theta) #posição inicial y\n",
    "for y in range(1,meshy):\n",
    "    y_plot[y] = y_plot[y-1] + deltay"
   ]
  },
  {
   "cell_type": "code",
   "execution_count": null,
   "metadata": {
    "collapsed": false
   },
   "outputs": [],
   "source": [
    "#Solução analítica\n",
    "\n",
    "num_pontos = meshx*meshy\n",
    "\n",
    "x_analitico = np.linspace(ri,re,num_pontos)\n",
    "T_analitico = np.zeros(num_pontos)\n",
    "T_analitico_2D = np.zeros((meshx,meshy))\n",
    "'''\n",
    "i = 0\n",
    "for r in x_analitico:\n",
    "    T_analitico[i] = (Te-Ti)*math.log(r/ri)/(math.log(re/ri)) + Ti\n",
    "    i += 1\n",
    "'''\n",
    "    \n",
    "#Construindo uma matriz 2D de Temperaturas exatas \n",
    "#para avaliar o erro\n",
    "for x in range(meshx):\n",
    "    for y in range(meshy):\n",
    "        T_analitico_2D[x,y] = T_exata(x_plot[x],y_plot[y])\n"
   ]
  },
  {
   "cell_type": "code",
   "execution_count": null,
   "metadata": {
    "collapsed": false
   },
   "outputs": [],
   "source": [
    "#Solução numérica\n",
    "\n",
    "ap = np.zeros((meshx,meshy))\n",
    "ae = np.zeros((meshx,meshy))\n",
    "aw = np.zeros((meshx,meshy))\n",
    "an = np.zeros((meshx,meshy))\n",
    "aS = np.zeros((meshx,meshy))\n",
    "b = np.zeros((meshx,meshy))\n",
    "Matrix_coef_a = np.zeros((meshx*meshy,meshx*meshy))\n",
    "Matrix_coef_b = np.zeros((meshx*meshy,1))\n",
    "\n",
    "#Determinação das temperaturas prescritas\n",
    "for x in range(meshx):\n",
    "    for y in range(meshy):\n",
    "        if (x==0) or (y==0) or (x==meshx-1) or (y==meshy-1):\n",
    "            ap[x,y] = 1\n",
    "            b[x,y] = T_exata(x_plot[x],y_plot[y])\n",
    "            #b[x,y] = raio(x_plot[x],y_plot[y])\n",
    "            \n",
    "#Determinação dos campos de velocidades\n",
    "ue = np.zeros((meshx,meshy))\n",
    "uw = np.zeros((meshx,meshy))\n",
    "vn = np.zeros((meshx,meshy))\n",
    "vs = np.zeros((meshx,meshy))\n",
    "\n",
    "for x in range(1,meshx-1):\n",
    "    for y in range(1,meshy-1):\n",
    "        uw[x,y] = -vel_u(x_plot[x]-deltax/2, y_plot[y])\n",
    "        ue[x,y] = -vel_u(x_plot[x]+deltax/2, y_plot[y])\n",
    "        vn[x,y] = vel_v(x_plot[x], y_plot[y]+deltay/2)\n",
    "        vs[x,y] = vel_v(x_plot[x], y_plot[y]-deltay/2)\n",
    "        \n",
    "Me = ue*rho*H*deltay\n",
    "Mw = uw*rho*H*deltay\n",
    "Mn = vn*rho*H*deltax\n",
    "Ms = vs*rho*H*deltax\n",
    "\n"
   ]
  },
  {
   "cell_type": "code",
   "execution_count": null,
   "metadata": {
    "collapsed": false
   },
   "outputs": [],
   "source": [
    "#CDS\n",
    "#atribuindo valor aos coeficientes dos volumes internos\n",
    "for y in range(1,meshy-1):\n",
    "    for x in range(1,meshx-1):    \n",
    "        ae[y,x] = k*H*deltay/(cp*deltax) - Me[y,x]/2\n",
    "        aw[y,x] = k*H*deltay/(cp*deltax) + Mw[y,x]/2\n",
    "        an[y,x] = k*H*deltax/(cp*deltay) - Mn[y,x]/2\n",
    "        aS[y,x]= k*H*deltax/(cp*deltay) + Ms[y,x]/2\n",
    "        ap[y,x] = ae[y,x] + aw[y,x] + an[y,x] + aS[y,x]\n",
    "        \n",
    "#montando a matriz dos coeficientes\n",
    "cont = 0\n",
    "for x in range(meshx):\n",
    "    for y in range(meshy):\n",
    "        Matrix_coef_a[cont,cont] = ap[y,x]\n",
    "        Matrix_coef_a[cont,cont-1] = -aw[y,x]\n",
    "        \n",
    "        if cont < meshx*meshy-1:\n",
    "            Matrix_coef_a[cont,cont+1] = -ae[y,x]\n",
    "        if cont < meshx*meshy-meshy:   \n",
    "            Matrix_coef_a[cont,cont+meshy] = -an[y,x]\n",
    "        if cont >meshy-1:\n",
    "            Matrix_coef_a[cont,cont-meshy] = -aS[y,x]\n",
    "        \n",
    "        \n",
    "        Matrix_coef_b[cont,0] = b[y,x]\n",
    "        cont += 1\n",
    "        \n",
    "    \n",
    "TCDS = solve(Matrix_coef_a,Matrix_coef_b)\n",
    "\n",
    "#transformando o vetor Temperatura em Matriz\n",
    "TCDS_2D = np.zeros((meshx,meshy))\n",
    "cont = 0\n",
    "for y in range(meshy):\n",
    "    for x in range(meshx):\n",
    "        TCDS_2D[y,x] = TCDS[cont]\n",
    "        cont += 1\n",
    "\n",
    "erro = np.zeros((meshx,meshy))        \n",
    "erro = abs(TCDS_2D-T_analitico_2D)\n",
    "\n",
    "erromaxCDS = erro.max()"
   ]
  },
  {
   "cell_type": "code",
   "execution_count": null,
   "metadata": {
    "collapsed": true
   },
   "outputs": [],
   "source": [
    "#UDS\n",
    "#atribuindo valor aos coeficientes dos volumes internos\n",
    "for y in range(1,meshy-1):\n",
    "    for x in range(1,meshx-1):\n",
    "        ae[y,x] = k*H*deltay/(cp*deltax) - Me[y,x]\n",
    "        aw[y,x] = k*H*deltay/(cp*deltax)\n",
    "        an[y,x] = k*H*deltax/(cp*deltay)\n",
    "        aS[y,x] = k*H*deltax/(cp*deltay) + Ms[y,x]\n",
    "        ap[y,x] = ae[y,x] + aw[y,x] + an[y,x] + aS[y,x]\n",
    "        \n",
    "#montando a matriz dos coeficientes\n",
    "cont = 0\n",
    "for x in range(meshx):\n",
    "    for y in range(meshy):\n",
    "        Matrix_coef_a[cont,cont] = ap[y,x]\n",
    "        Matrix_coef_a[cont,cont-1] = -aw[y,x]\n",
    "        \n",
    "        if cont < meshx*meshy-1:\n",
    "            Matrix_coef_a[cont,cont+1] = -ae[y,x]\n",
    "        if cont < meshx*meshy-meshy:   \n",
    "            Matrix_coef_a[cont,cont+meshy] = -an[y,x]\n",
    "        if cont >meshy-1:\n",
    "            Matrix_coef_a[cont,cont-meshy] = -aS[y,x]\n",
    "        \n",
    "        \n",
    "        Matrix_coef_b[cont,0] = b[y,x]\n",
    "        cont += 1\n",
    "        \n",
    "    \n",
    "TUDS = solve(Matrix_coef_a,Matrix_coef_b)\n",
    "\n",
    "#transformando o vetor Temperatura em Matriz\n",
    "TUDS_2D = np.zeros((meshx,meshy))\n",
    "cont = 0\n",
    "for y in range(meshy):\n",
    "    for x in range(meshx):\n",
    "        TUDS_2D[y,x] = TUDS[cont]\n",
    "        cont += 1\n",
    "\n",
    "erro = np.zeros((meshx,meshy))        \n",
    "erro = abs(TUDS_2D-T_analitico_2D)\n",
    "\n",
    "erromaxUDS = erro.max()"
   ]
  },
  {
   "cell_type": "code",
   "execution_count": null,
   "metadata": {
    "collapsed": false
   },
   "outputs": [],
   "source": [
    "#Exponencial\n",
    "\n",
    "#atribuindo valor aos coeficientes difusivos\n",
    "\n",
    "De = k*H*deltay/(cp*deltax) \n",
    "Dw = k*H*deltay/(cp*deltax)\n",
    "Dn = k*H*deltax/(cp*deltay)\n",
    "Ds = k*H*deltax/(cp*deltay) \n",
    "        \n",
    "Pe = abs(Me/De)\n",
    "Pw = abs(Mw/Dw)\n",
    "Pn = abs(Mn/Dn)\n",
    "Ps = abs(Ms/Ds)\n",
    "\n",
    "ae = De*Pe/(np.e**Pe-1)-Me\n",
    "aw = Dw*Pw/(np.e**Pw-1)\n",
    "an = Dn*Pn/(np.e**Pn-1)\n",
    "aS = Ds*Ps/(np.e**Ps-1)+Ms\n",
    "ap = ae + aw + an + aS\n",
    "\n",
    "#retirando os valores de NaN\n",
    "for y in range(meshy):\n",
    "    for x in range(meshx):\n",
    "        if (x==0) or (y==0) or (x==meshx-1) or (y==meshy-1):\n",
    "            ae[x,y] = 0\n",
    "            aw[x,y] = 0\n",
    "            an[x,y] = 0\n",
    "            aS[x,y] = 0\n",
    "            ap[x,y] = 1\n",
    "            \n",
    "#montando a matriz dos coeficientes\n",
    "cont = 0\n",
    "for x in range(meshx):\n",
    "    for y in range(meshy):\n",
    "        Matrix_coef_a[cont,cont] = ap[y,x]\n",
    "        Matrix_coef_a[cont,cont-1] = -aw[y,x]\n",
    "        \n",
    "        if cont < meshx*meshy-1:\n",
    "            Matrix_coef_a[cont,cont+1] = -ae[y,x]\n",
    "        if cont < meshx*meshy-meshy:   \n",
    "            Matrix_coef_a[cont,cont+meshy] = -an[y,x]\n",
    "        if cont >meshy-1:\n",
    "            Matrix_coef_a[cont,cont-meshy] = -aS[y,x]\n",
    "        \n",
    "        \n",
    "        Matrix_coef_b[cont,0] = b[y,x]\n",
    "        cont += 1\n",
    "        \n",
    "    \n",
    "Texp = solve(Matrix_coef_a,Matrix_coef_b)\n",
    "\n",
    "#transformando o vetor Temperatura em Matriz\n",
    "Texp_2D = np.zeros((meshx,meshy))\n",
    "cont = 0\n",
    "for x in range(meshx):\n",
    "    for y in range(meshy):\n",
    "        Texp_2D[x,y] = Texp[cont]\n",
    "        cont += 1\n",
    "        \n",
    "erro = np.zeros((meshx,meshy))        \n",
    "erro = abs(Texp_2D-T_analitico_2D)\n",
    "\n",
    "erromaxexp = erro.max()\n"
   ]
  },
  {
   "cell_type": "code",
   "execution_count": null,
   "metadata": {
    "collapsed": false
   },
   "outputs": [],
   "source": [
    "#Grafico 2D\n",
    "%matplotlib inline\n",
    "        \n",
    "X,Y = np.meshgrid(x_plot,y_plot)\n",
    "\n",
    "fig, ax = plt.subplots()\n",
    "\n",
    "#ax.contourf(X,Y,abs(TCDS_2D-T_analitico_2D),cmap='jet')\n",
    "#ax.contourf(X,Y,TCDS_2D,50,cmap='jet')\n",
    "p = ax.pcolor(X, Y, TCDS_2D, cmap='jet')\n",
    "cb = fig.colorbar(p, ax=ax)\n",
    "\n",
    "cb.set_label('T[°C]')\n",
    "\n",
    "ax.set_ylabel('y [m]')\n",
    "ax.set_xlabel('x [m]')\n",
    "ax.set_title(u'CDS (\\u03C9 = 1e10 rad/s)')\n",
    "\n"
   ]
  },
  {
   "cell_type": "code",
   "execution_count": null,
   "metadata": {
    "collapsed": false
   },
   "outputs": [],
   "source": [
    "erromaxCDS"
   ]
  },
  {
   "cell_type": "code",
   "execution_count": null,
   "metadata": {
    "collapsed": false
   },
   "outputs": [],
   "source": [
    "erromaxUDS"
   ]
  },
  {
   "cell_type": "code",
   "execution_count": null,
   "metadata": {
    "collapsed": false
   },
   "outputs": [],
   "source": [
    "erromaxexp"
   ]
  }
 ],
 "metadata": {
  "kernelspec": {
   "display_name": "Python [default]",
   "language": "python",
   "name": "python3"
  },
  "language_info": {
   "codemirror_mode": {
    "name": "ipython",
    "version": 3
   },
   "file_extension": ".py",
   "mimetype": "text/x-python",
   "name": "python",
   "nbconvert_exporter": "python",
   "pygments_lexer": "ipython3",
   "version": "3.5.2"
  }
 },
 "nbformat": 4,
 "nbformat_minor": 2
}
