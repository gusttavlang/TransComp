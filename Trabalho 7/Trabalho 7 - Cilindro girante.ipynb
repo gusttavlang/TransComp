{
 "cells": [
  {
   "cell_type": "code",
   "execution_count": 1,
   "metadata": {
    "collapsed": true
   },
   "outputs": [],
   "source": [
    "import numpy as np\n",
    "from scipy.linalg import *\n",
    "import matplotlib.pyplot as plt\n",
    "import pandas as pd\n",
    "from pandas import DataFrame,Series\n",
    "import math\n",
    "import time"
   ]
  },
  {
   "cell_type": "code",
   "execution_count": 2,
   "metadata": {
    "collapsed": true
   },
   "outputs": [],
   "source": [
    "k = 52 #W/m°C - Aço 1020\n",
    "ri = 0.01 #m\n",
    "re = 0.1 #m\n",
    "Ti = 250 #°C\n",
    "Te = 25 #°C\n",
    "H = 1 #m - Largura\n",
    "omega = 1e10 #rad/s\n",
    "rho = 7800 #kg/m³\n",
    "cp = 486 #j/kgK\n",
    "theta = np.pi/4 #rad\n"
   ]
  },
  {
   "cell_type": "code",
   "execution_count": 3,
   "metadata": {
    "collapsed": false
   },
   "outputs": [],
   "source": [
    "meshx = 50\n",
    "deltax = ((re-ri)*math.cos(theta))/(meshx-1)\n",
    "\n",
    "meshy = 50\n",
    "deltay = ((re-ri)*math.sin(theta))/(meshy-1)\n",
    "\n",
    "#Pe = rho*u*deltax/(k/cp)\n",
    "#deltax_max = 2 *(k/cp)/(rho*u)"
   ]
  },
  {
   "cell_type": "code",
   "execution_count": 4,
   "metadata": {
    "collapsed": true
   },
   "outputs": [],
   "source": [
    "def raio(x,y):\n",
    "    r = (x**2 + y**2)**0.5\n",
    "    return r"
   ]
  },
  {
   "cell_type": "code",
   "execution_count": 5,
   "metadata": {
    "collapsed": false
   },
   "outputs": [],
   "source": [
    "def vel_u(x,y):\n",
    "    r = raio(x,y)\n",
    "    V = omega*r\n",
    "    alpha = math.atan(y/x)\n",
    "    u = V*math.sin(alpha)\n",
    "    return u"
   ]
  },
  {
   "cell_type": "code",
   "execution_count": 6,
   "metadata": {
    "collapsed": true
   },
   "outputs": [],
   "source": [
    "def vel_v(x,y):\n",
    "    r = raio(x,y)\n",
    "    V = omega*r\n",
    "    alpha = math.atan(y/x)\n",
    "    v = V*math.cos(alpha)\n",
    "    return v"
   ]
  },
  {
   "cell_type": "code",
   "execution_count": 7,
   "metadata": {
    "collapsed": true
   },
   "outputs": [],
   "source": [
    "def T_exata(x,y):\n",
    "    r = raio(x,y)\n",
    "    T = (Te-Ti)*math.log(r/ri)/(math.log(re/ri)) + Ti\n",
    "    \n",
    "    return T"
   ]
  },
  {
   "cell_type": "code",
   "execution_count": 8,
   "metadata": {
    "collapsed": true
   },
   "outputs": [],
   "source": [
    "x_plot = np.zeros(meshx)\n",
    "y_plot = np.zeros(meshy)\n",
    "\n",
    "x_plot[0] = ri*math.cos(theta) #posição inicial x\n",
    "for x in range(1,meshx):\n",
    "    x_plot[x] = x_plot[x-1] + deltax\n",
    "    \n",
    "y_plot[0] = ri*math.sin(theta) #posição inicial y\n",
    "for y in range(1,meshy):\n",
    "    y_plot[y] = y_plot[y-1] + deltay"
   ]
  },
  {
   "cell_type": "code",
   "execution_count": 9,
   "metadata": {
    "collapsed": false
   },
   "outputs": [
    {
     "data": {
      "text/plain": [
       "0.07071067811865477"
      ]
     },
     "execution_count": 9,
     "metadata": {},
     "output_type": "execute_result"
    }
   ],
   "source": [
    "re*math.cos(theta)"
   ]
  },
  {
   "cell_type": "code",
   "execution_count": 10,
   "metadata": {
    "collapsed": false
   },
   "outputs": [
    {
     "data": {
      "text/plain": [
       "array([ 0.00707107,  0.00836984,  0.0096686 ,  0.01096737,  0.01226614,\n",
       "        0.01356491,  0.01486367,  0.01616244,  0.01746121,  0.01875998,\n",
       "        0.02005874,  0.02135751,  0.02265628,  0.02395505,  0.02525381,\n",
       "        0.02655258,  0.02785135,  0.02915012,  0.03044888,  0.03174765,\n",
       "        0.03304642,  0.03434519,  0.03564395,  0.03694272,  0.03824149,\n",
       "        0.03954026,  0.04083902,  0.04213779,  0.04343656,  0.04473533,\n",
       "        0.04603409,  0.04733286,  0.04863163,  0.0499304 ,  0.05122916,\n",
       "        0.05252793,  0.0538267 ,  0.05512547,  0.05642423,  0.057723  ,\n",
       "        0.05902177,  0.06032054,  0.06161931,  0.06291807,  0.06421684,\n",
       "        0.06551561,  0.06681438,  0.06811314,  0.06941191,  0.07071068])"
      ]
     },
     "execution_count": 10,
     "metadata": {},
     "output_type": "execute_result"
    }
   ],
   "source": [
    "x_plot"
   ]
  },
  {
   "cell_type": "code",
   "execution_count": 11,
   "metadata": {
    "collapsed": false
   },
   "outputs": [],
   "source": [
    "#Solução analítica\n",
    "\n",
    "num_pontos = meshx*meshy\n",
    "\n",
    "x_analitico = np.linspace(ri,re,num_pontos)\n",
    "T_analitico = np.zeros(num_pontos)\n",
    "T_analitico_2D = np.zeros((meshx,meshy))\n",
    "'''\n",
    "i = 0\n",
    "for r in x_analitico:\n",
    "    T_analitico[i] = (Te-Ti)*math.log(r/ri)/(math.log(re/ri)) + Ti\n",
    "    i += 1\n",
    "'''\n",
    "    \n",
    "#Construindo uma matriz 2D de Temperaturas exatas \n",
    "#para avaliar o erro\n",
    "for x in range(meshx):\n",
    "    for y in range(meshy):\n",
    "        T_analitico_2D[x,y] = T_exata(x_plot[x],y_plot[y])\n"
   ]
  },
  {
   "cell_type": "code",
   "execution_count": 12,
   "metadata": {
    "collapsed": false
   },
   "outputs": [],
   "source": [
    "#Solução numérica\n",
    "\n",
    "ap = np.zeros((meshx,meshy))\n",
    "ae = np.zeros((meshx,meshy))\n",
    "aw = np.zeros((meshx,meshy))\n",
    "an = np.zeros((meshx,meshy))\n",
    "aS = np.zeros((meshx,meshy))\n",
    "b = np.zeros((meshx,meshy))\n",
    "Matrix_coef_a = np.zeros((meshx*meshy,meshx*meshy))\n",
    "Matrix_coef_b = np.zeros((meshx*meshy,1))\n",
    "\n",
    "#Determinação das temperaturas prescritas\n",
    "for x in range(meshx):\n",
    "    for y in range(meshy):\n",
    "        if (x==0) or (y==0) or (x==meshx-1) or (y==meshy-1):\n",
    "            ap[x,y] = 1\n",
    "            b[x,y] = T_exata(x_plot[x],y_plot[y])\n",
    "            #b[x,y] = raio(x_plot[x],y_plot[y])\n",
    "            \n",
    "#Determinação dos campos de velocidades\n",
    "ue = np.zeros((meshx,meshy))\n",
    "uw = np.zeros((meshx,meshy))\n",
    "vn = np.zeros((meshx,meshy))\n",
    "vs = np.zeros((meshx,meshy))\n",
    "\n",
    "for x in range(1,meshx-1):\n",
    "    for y in range(1,meshy-1):\n",
    "        uw[x,y] = -vel_u(x_plot[x]-deltax/2, y_plot[y])\n",
    "        ue[x,y] = -vel_u(x_plot[x]+deltax/2, y_plot[y])\n",
    "        vn[x,y] = vel_v(x_plot[x], y_plot[y]+deltay/2)\n",
    "        vs[x,y] = vel_v(x_plot[x], y_plot[y]-deltay/2)\n",
    "        \n",
    "Me = ue*rho*H*deltay\n",
    "Mw = uw*rho*H*deltay\n",
    "Mn = vn*rho*H*deltax\n",
    "Ms = vs*rho*H*deltax\n",
    "\n"
   ]
  },
  {
   "cell_type": "code",
   "execution_count": 13,
   "metadata": {
    "collapsed": false
   },
   "outputs": [
    {
     "data": {
      "text/plain": [
       "array([[  0.00000000e+00,   0.00000000e+00,   0.00000000e+00, ...,\n",
       "          0.00000000e+00,   0.00000000e+00,   0.00000000e+00],\n",
       "       [  0.00000000e+00,  -8.36983537e+09,  -9.66860293e+09, ...,\n",
       "         -6.81131430e+10,  -6.94119106e+10,   0.00000000e+00],\n",
       "       [  0.00000000e+00,  -8.36983537e+09,  -9.66860293e+09, ...,\n",
       "         -6.81131430e+10,  -6.94119106e+10,   0.00000000e+00],\n",
       "       ..., \n",
       "       [  0.00000000e+00,  -8.36983537e+09,  -9.66860293e+09, ...,\n",
       "         -6.81131430e+10,  -6.94119106e+10,   0.00000000e+00],\n",
       "       [  0.00000000e+00,  -8.36983537e+09,  -9.66860293e+09, ...,\n",
       "         -6.81131430e+10,  -6.94119106e+10,   0.00000000e+00],\n",
       "       [  0.00000000e+00,   0.00000000e+00,   0.00000000e+00, ...,\n",
       "          0.00000000e+00,   0.00000000e+00,   0.00000000e+00]])"
      ]
     },
     "execution_count": 13,
     "metadata": {},
     "output_type": "execute_result"
    }
   ],
   "source": [
    "ue"
   ]
  },
  {
   "cell_type": "code",
   "execution_count": 14,
   "metadata": {
    "collapsed": false
   },
   "outputs": [
    {
     "data": {
      "text/plain": [
       "array([[  0.00000000e+00,   0.00000000e+00,   0.00000000e+00, ...,\n",
       "          0.00000000e+00,   0.00000000e+00,   0.00000000e+00],\n",
       "       [  0.00000000e+00,  -8.36983537e+09,  -9.66860293e+09, ...,\n",
       "         -6.81131430e+10,  -6.94119106e+10,   0.00000000e+00],\n",
       "       [  0.00000000e+00,  -8.36983537e+09,  -9.66860293e+09, ...,\n",
       "         -6.81131430e+10,  -6.94119106e+10,   0.00000000e+00],\n",
       "       ..., \n",
       "       [  0.00000000e+00,  -8.36983537e+09,  -9.66860293e+09, ...,\n",
       "         -6.81131430e+10,  -6.94119106e+10,   0.00000000e+00],\n",
       "       [  0.00000000e+00,  -8.36983537e+09,  -9.66860293e+09, ...,\n",
       "         -6.81131430e+10,  -6.94119106e+10,   0.00000000e+00],\n",
       "       [  0.00000000e+00,   0.00000000e+00,   0.00000000e+00, ...,\n",
       "          0.00000000e+00,   0.00000000e+00,   0.00000000e+00]])"
      ]
     },
     "execution_count": 14,
     "metadata": {},
     "output_type": "execute_result"
    }
   ],
   "source": [
    "uw"
   ]
  },
  {
   "cell_type": "code",
   "execution_count": 15,
   "metadata": {
    "collapsed": false
   },
   "outputs": [
    {
     "data": {
      "text/plain": [
       "array([[  0.00000000e+00,   0.00000000e+00,   0.00000000e+00, ...,\n",
       "          0.00000000e+00,   0.00000000e+00,   0.00000000e+00],\n",
       "       [  0.00000000e+00,   8.36983537e+09,   8.36983537e+09, ...,\n",
       "          8.36983537e+09,   8.36983537e+09,   0.00000000e+00],\n",
       "       [  0.00000000e+00,   9.66860293e+09,   9.66860293e+09, ...,\n",
       "          9.66860293e+09,   9.66860293e+09,   0.00000000e+00],\n",
       "       ..., \n",
       "       [  0.00000000e+00,   6.81131430e+10,   6.81131430e+10, ...,\n",
       "          6.81131430e+10,   6.81131430e+10,   0.00000000e+00],\n",
       "       [  0.00000000e+00,   6.94119106e+10,   6.94119106e+10, ...,\n",
       "          6.94119106e+10,   6.94119106e+10,   0.00000000e+00],\n",
       "       [  0.00000000e+00,   0.00000000e+00,   0.00000000e+00, ...,\n",
       "          0.00000000e+00,   0.00000000e+00,   0.00000000e+00]])"
      ]
     },
     "execution_count": 15,
     "metadata": {},
     "output_type": "execute_result"
    }
   ],
   "source": [
    "vn"
   ]
  },
  {
   "cell_type": "code",
   "execution_count": 16,
   "metadata": {
    "collapsed": false
   },
   "outputs": [
    {
     "data": {
      "text/plain": [
       "array([[  0.00000000e+00,   0.00000000e+00,   0.00000000e+00, ...,\n",
       "          0.00000000e+00,   0.00000000e+00,   0.00000000e+00],\n",
       "       [  0.00000000e+00,   8.36983537e+09,   8.36983537e+09, ...,\n",
       "          8.36983537e+09,   8.36983537e+09,   0.00000000e+00],\n",
       "       [  0.00000000e+00,   9.66860293e+09,   9.66860293e+09, ...,\n",
       "          9.66860293e+09,   9.66860293e+09,   0.00000000e+00],\n",
       "       ..., \n",
       "       [  0.00000000e+00,   6.81131430e+10,   6.81131430e+10, ...,\n",
       "          6.81131430e+10,   6.81131430e+10,   0.00000000e+00],\n",
       "       [  0.00000000e+00,   6.94119106e+10,   6.94119106e+10, ...,\n",
       "          6.94119106e+10,   6.94119106e+10,   0.00000000e+00],\n",
       "       [  0.00000000e+00,   0.00000000e+00,   0.00000000e+00, ...,\n",
       "          0.00000000e+00,   0.00000000e+00,   0.00000000e+00]])"
      ]
     },
     "execution_count": 16,
     "metadata": {},
     "output_type": "execute_result"
    }
   ],
   "source": [
    "vs"
   ]
  },
  {
   "cell_type": "code",
   "execution_count": 17,
   "metadata": {
    "collapsed": true
   },
   "outputs": [],
   "source": [
    "x_plot = np.zeros(meshx)\n",
    "y_plot = np.zeros(meshy)\n",
    "\n",
    "x_plot[0] = ri*math.cos(theta) #posição inicial x\n",
    "for x in range(1,meshx):\n",
    "    x_plot[x] = x_plot[x-1] + deltax\n",
    "    \n",
    "y_plot[0] = ri*math.sin(theta) #posição inicial y\n",
    "for y in range(1,meshy):\n",
    "    y_plot[y] = y_plot[y-1] + deltay"
   ]
  },
  {
   "cell_type": "code",
   "execution_count": 18,
   "metadata": {
    "collapsed": false
   },
   "outputs": [
    {
     "data": {
      "text/plain": [
       "array([[  0.00000000e+00,   0.00000000e+00,   0.00000000e+00, ...,\n",
       "          0.00000000e+00,   0.00000000e+00,   0.00000000e+00],\n",
       "       [  0.00000000e+00,  -8.47896710e+10,  -9.79466889e+10, ...,\n",
       "         -6.90012495e+11,  -7.03169513e+11,   0.00000000e+00],\n",
       "       [  0.00000000e+00,  -8.47896710e+10,  -9.79466889e+10, ...,\n",
       "         -6.90012495e+11,  -7.03169513e+11,   0.00000000e+00],\n",
       "       ..., \n",
       "       [  0.00000000e+00,  -8.47896710e+10,  -9.79466889e+10, ...,\n",
       "         -6.90012495e+11,  -7.03169513e+11,   0.00000000e+00],\n",
       "       [  0.00000000e+00,  -8.47896710e+10,  -9.79466889e+10, ...,\n",
       "         -6.90012495e+11,  -7.03169513e+11,   0.00000000e+00],\n",
       "       [  0.00000000e+00,   0.00000000e+00,   0.00000000e+00, ...,\n",
       "          0.00000000e+00,   0.00000000e+00,   0.00000000e+00]])"
      ]
     },
     "execution_count": 18,
     "metadata": {},
     "output_type": "execute_result"
    }
   ],
   "source": [
    "Mw"
   ]
  },
  {
   "cell_type": "code",
   "execution_count": 19,
   "metadata": {
    "collapsed": false
   },
   "outputs": [],
   "source": [
    "#CDS\n",
    "#atribuindo valor aos coeficientes dos volumes internos\n",
    "for y in range(1,meshy-1):\n",
    "    for x in range(1,meshx-1):    \n",
    "        ae[y,x] = k*H*deltay/(cp*deltax) - Me[y,x]/2\n",
    "        aw[y,x] = k*H*deltay/(cp*deltax) + Mw[y,x]/2\n",
    "        an[y,x] = k*H*deltax/(cp*deltay) - Mn[y,x]/2\n",
    "        aS[y,x]= k*H*deltax/(cp*deltay) + Ms[y,x]/2\n",
    "        ap[y,x] = ae[y,x] + aw[y,x] + an[y,x] + aS[y,x]\n",
    "        \n",
    "#montando a matriz dos coeficientes\n",
    "cont = 0\n",
    "for x in range(meshx):\n",
    "    for y in range(meshy):\n",
    "        Matrix_coef_a[cont,cont] = ap[y,x]\n",
    "        Matrix_coef_a[cont,cont-1] = -aw[y,x]\n",
    "        \n",
    "        if cont < meshx*meshy-1:\n",
    "            Matrix_coef_a[cont,cont+1] = -ae[y,x]\n",
    "        if cont < meshx*meshy-meshy:   \n",
    "            Matrix_coef_a[cont,cont+meshy] = -an[y,x]\n",
    "        if cont >meshy-1:\n",
    "            Matrix_coef_a[cont,cont-meshy] = -aS[y,x]\n",
    "        \n",
    "        \n",
    "        Matrix_coef_b[cont,0] = b[y,x]\n",
    "        cont += 1\n",
    "        \n",
    "    \n",
    "TCDS = solve(Matrix_coef_a,Matrix_coef_b)\n",
    "\n",
    "#transformando o vetor Temperatura em Matriz\n",
    "TCDS_2D = np.zeros((meshx,meshy))\n",
    "cont = 0\n",
    "for y in range(meshy):\n",
    "    for x in range(meshx):\n",
    "        TCDS_2D[y,x] = TCDS[cont]\n",
    "        cont += 1\n",
    "\n",
    "erro = np.zeros((meshx,meshy))        \n",
    "erro = abs(TCDS_2D-T_analitico_2D)\n",
    "\n",
    "erromaxCDS = erro.max()"
   ]
  },
  {
   "cell_type": "code",
   "execution_count": 20,
   "metadata": {
    "collapsed": true
   },
   "outputs": [],
   "source": [
    "#UDS\n",
    "#atribuindo valor aos coeficientes dos volumes internos\n",
    "for y in range(1,meshy-1):\n",
    "    for x in range(1,meshx-1):\n",
    "        ae[y,x] = k*H*deltay/(cp*deltax) - Me[y,x]\n",
    "        aw[y,x] = k*H*deltay/(cp*deltax)\n",
    "        an[y,x] = k*H*deltax/(cp*deltay)\n",
    "        aS[y,x] = k*H*deltax/(cp*deltay) + Ms[y,x]\n",
    "        ap[y,x] = ae[y,x] + aw[y,x] + an[y,x] + aS[y,x]\n",
    "        \n",
    "#montando a matriz dos coeficientes\n",
    "cont = 0\n",
    "for x in range(meshx):\n",
    "    for y in range(meshy):\n",
    "        Matrix_coef_a[cont,cont] = ap[y,x]\n",
    "        Matrix_coef_a[cont,cont-1] = -aw[y,x]\n",
    "        \n",
    "        if cont < meshx*meshy-1:\n",
    "            Matrix_coef_a[cont,cont+1] = -ae[y,x]\n",
    "        if cont < meshx*meshy-meshy:   \n",
    "            Matrix_coef_a[cont,cont+meshy] = -an[y,x]\n",
    "        if cont >meshy-1:\n",
    "            Matrix_coef_a[cont,cont-meshy] = -aS[y,x]\n",
    "        \n",
    "        \n",
    "        Matrix_coef_b[cont,0] = b[y,x]\n",
    "        cont += 1\n",
    "        \n",
    "    \n",
    "TUDS = solve(Matrix_coef_a,Matrix_coef_b)\n",
    "\n",
    "#transformando o vetor Temperatura em Matriz\n",
    "TUDS_2D = np.zeros((meshx,meshy))\n",
    "cont = 0\n",
    "for y in range(meshy):\n",
    "    for x in range(meshx):\n",
    "        TUDS_2D[y,x] = TUDS[cont]\n",
    "        cont += 1\n",
    "\n",
    "erro = np.zeros((meshx,meshy))        \n",
    "erro = abs(TUDS_2D-T_analitico_2D)\n",
    "\n",
    "erromaxUDS = erro.max()"
   ]
  },
  {
   "cell_type": "code",
   "execution_count": 21,
   "metadata": {
    "collapsed": false
   },
   "outputs": [
    {
     "name": "stderr",
     "output_type": "stream",
     "text": [
      "C:\\Users\\Gusttav\\Anaconda3\\lib\\site-packages\\ipykernel\\__main__.py:15: RuntimeWarning: overflow encountered in power\n",
      "C:\\Users\\Gusttav\\Anaconda3\\lib\\site-packages\\ipykernel\\__main__.py:15: RuntimeWarning: invalid value encountered in true_divide\n",
      "C:\\Users\\Gusttav\\Anaconda3\\lib\\site-packages\\ipykernel\\__main__.py:16: RuntimeWarning: overflow encountered in power\n",
      "C:\\Users\\Gusttav\\Anaconda3\\lib\\site-packages\\ipykernel\\__main__.py:16: RuntimeWarning: invalid value encountered in true_divide\n",
      "C:\\Users\\Gusttav\\Anaconda3\\lib\\site-packages\\ipykernel\\__main__.py:17: RuntimeWarning: overflow encountered in power\n",
      "C:\\Users\\Gusttav\\Anaconda3\\lib\\site-packages\\ipykernel\\__main__.py:17: RuntimeWarning: invalid value encountered in true_divide\n",
      "C:\\Users\\Gusttav\\Anaconda3\\lib\\site-packages\\ipykernel\\__main__.py:18: RuntimeWarning: overflow encountered in power\n",
      "C:\\Users\\Gusttav\\Anaconda3\\lib\\site-packages\\ipykernel\\__main__.py:18: RuntimeWarning: invalid value encountered in true_divide\n"
     ]
    }
   ],
   "source": [
    "#Exponencial\n",
    "\n",
    "#atribuindo valor aos coeficientes difusivos\n",
    "\n",
    "De = k*H*deltay/(cp*deltax) \n",
    "Dw = k*H*deltay/(cp*deltax)\n",
    "Dn = k*H*deltax/(cp*deltay)\n",
    "Ds = k*H*deltax/(cp*deltay) \n",
    "        \n",
    "Pe = abs(Me/De)\n",
    "Pw = abs(Mw/Dw)\n",
    "Pn = abs(Mn/Dn)\n",
    "Ps = abs(Ms/Ds)\n",
    "\n",
    "ae = De*Pe/(np.e**Pe-1)-Me\n",
    "aw = Dw*Pw/(np.e**Pw-1)\n",
    "an = Dn*Pn/(np.e**Pn-1)\n",
    "aS = Ds*Ps/(np.e**Ps-1)+Ms\n",
    "ap = ae + aw + an + aS\n",
    "\n",
    "#retirando os valores de NaN\n",
    "for y in range(meshy):\n",
    "    for x in range(meshx):\n",
    "        if (x==0) or (y==0) or (x==meshx-1) or (y==meshy-1):\n",
    "            ae[x,y] = 0\n",
    "            aw[x,y] = 0\n",
    "            an[x,y] = 0\n",
    "            aS[x,y] = 0\n",
    "            ap[x,y] = 1\n",
    "            \n",
    "#montando a matriz dos coeficientes\n",
    "cont = 0\n",
    "for x in range(meshx):\n",
    "    for y in range(meshy):\n",
    "        Matrix_coef_a[cont,cont] = ap[y,x]\n",
    "        Matrix_coef_a[cont,cont-1] = -aw[y,x]\n",
    "        \n",
    "        if cont < meshx*meshy-1:\n",
    "            Matrix_coef_a[cont,cont+1] = -ae[y,x]\n",
    "        if cont < meshx*meshy-meshy:   \n",
    "            Matrix_coef_a[cont,cont+meshy] = -an[y,x]\n",
    "        if cont >meshy-1:\n",
    "            Matrix_coef_a[cont,cont-meshy] = -aS[y,x]\n",
    "        \n",
    "        \n",
    "        Matrix_coef_b[cont,0] = b[y,x]\n",
    "        cont += 1\n",
    "        \n",
    "    \n",
    "Texp = solve(Matrix_coef_a,Matrix_coef_b)\n",
    "\n",
    "#transformando o vetor Temperatura em Matriz\n",
    "Texp_2D = np.zeros((meshx,meshy))\n",
    "cont = 0\n",
    "for x in range(meshx):\n",
    "    for y in range(meshy):\n",
    "        Texp_2D[x,y] = Texp[cont]\n",
    "        cont += 1\n",
    "        \n",
    "erro = np.zeros((meshx,meshy))        \n",
    "erro = abs(Texp_2D-T_analitico_2D)\n",
    "\n",
    "erromaxexp = erro.max()\n"
   ]
  },
  {
   "cell_type": "code",
   "execution_count": 26,
   "metadata": {
    "collapsed": false
   },
   "outputs": [
    {
     "data": {
      "text/plain": [
       "<matplotlib.text.Text at 0xdcd5940>"
      ]
     },
     "execution_count": 26,
     "metadata": {},
     "output_type": "execute_result"
    },
    {
     "data": {
      "image/png": "[encoded data removed]",
      "text/plain": [
       "<matplotlib.figure.Figure at 0x956f9b0>"
      ]
     },
     "metadata": {},
     "output_type": "display_data"
    }
   ],
   "source": [
    "#Grafico 2D\n",
    "%matplotlib inline\n",
    "        \n",
    "X,Y = np.meshgrid(x_plot,y_plot)\n",
    "\n",
    "fig, ax = plt.subplots()\n",
    "\n",
    "#ax.contourf(X,Y,abs(TCDS_2D-T_analitico_2D),cmap='jet')\n",
    "#ax.contourf(X,Y,TCDS_2D,50,cmap='jet')\n",
    "p = ax.pcolor(X, Y, TCDS_2D, cmap='jet')\n",
    "cb = fig.colorbar(p, ax=ax)\n",
    "\n",
    "cb.set_label('T[°C]')\n",
    "\n",
    "ax.set_ylabel('y [m]')\n",
    "ax.set_xlabel('x [m]')\n",
    "ax.set_title(u'CDS (\\u03C9 = 1e10 rad/s)')\n",
    "\n"
   ]
  },
  {
   "cell_type": "code",
   "execution_count": 23,
   "metadata": {
    "collapsed": false
   },
   "outputs": [
    {
     "data": {
      "text/plain": [
       "39463.580293153849"
      ]
     },
     "execution_count": 23,
     "metadata": {},
     "output_type": "execute_result"
    }
   ],
   "source": [
    "erromaxCDS"
   ]
  },
  {
   "cell_type": "code",
   "execution_count": 24,
   "metadata": {
    "collapsed": false
   },
   "outputs": [
    {
     "data": {
      "text/plain": [
       "0.51816519399176286"
      ]
     },
     "execution_count": 24,
     "metadata": {},
     "output_type": "execute_result"
    }
   ],
   "source": [
    "erromaxUDS"
   ]
  },
  {
   "cell_type": "code",
   "execution_count": 25,
   "metadata": {
    "collapsed": false
   },
   "outputs": [
    {
     "data": {
      "text/plain": [
       "0.52124619986821585"
      ]
     },
     "execution_count": 25,
     "metadata": {},
     "output_type": "execute_result"
    }
   ],
   "source": [
    "erromaxexp"
   ]
  }
 ],
 "metadata": {
  "kernelspec": {
   "display_name": "Python [default]",
   "language": "python",
   "name": "python3"
  },
  "language_info": {
   "codemirror_mode": {
    "name": "ipython",
    "version": 3
   },
   "file_extension": ".py",
   "mimetype": "text/x-python",
   "name": "python",
   "nbconvert_exporter": "python",
   "pygments_lexer": "ipython3",
   "version": "3.5.2"
  }
 },
 "nbformat": 4,
 "nbformat_minor": 2
}
