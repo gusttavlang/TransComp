{
 "cells": [
  {
   "cell_type": "code",
   "execution_count": 1,
   "metadata": {
    "collapsed": true
   },
   "outputs": [],
   "source": [
    "import numpy as np\n",
    "from scipy.linalg import *\n",
    "import matplotlib.pyplot as plt\n",
    "import pandas as pd\n",
    "from pandas import DataFrame,Series\n",
    "import math\n",
    "import time"
   ]
  },
  {
   "cell_type": "code",
   "execution_count": 12,
   "metadata": {
    "collapsed": true
   },
   "outputs": [],
   "source": [
    "k = 52 #W/m°C - Aço 1020\n",
    "ri = 0.01 #m\n",
    "re = 0.1 #m\n",
    "Ti = 250 #°C\n",
    "Te = 25 #°C\n",
    "w = 1 #m - Largura\n",
    "w = 1 #rad/s\n",
    "rho = 7800 #kg/m³\n",
    "cp = 486 #j/kgK\n",
    "theta = np.pi/4 #rad"
   ]
  },
  {
   "cell_type": "code",
   "execution_count": 41,
   "metadata": {
    "collapsed": false
   },
   "outputs": [],
   "source": [
    "meshx = 10\n",
    "deltax = ((re-ri)*math.cos(theta))/(meshx-1)\n",
    "\n",
    "meshy = 10\n",
    "deltay = ((re-ri)*math.sin(theta))/(meshy-1)\n",
    "\n",
    "#Pe = rho*u*deltax/(k/cp)\n",
    "#deltax_max = 2 *(k/cp)/(rho*u)"
   ]
  },
  {
   "cell_type": "code",
   "execution_count": null,
   "metadata": {
    "collapsed": true
   },
   "outputs": [],
   "source": [
    "def campo_vel(x,y):\n",
    "    \n",
    "    "
   ]
  },
  {
   "cell_type": "code",
   "execution_count": 42,
   "metadata": {
    "collapsed": false
   },
   "outputs": [],
   "source": [
    "#Solução analítica\n",
    "num_pontos = 10\n",
    "\n",
    "x_analitico = np.linspace(ri,re,num_pontos)\n",
    "T_analitico = np.zeros(num_pontos)\n",
    "\n",
    "i = 0\n",
    "for r in x_analitico:\n",
    "    T_analitico[i] = (Te-Ti)*math.log(r/ri)/(math.log(re/ri)) + Ti\n",
    "    i += 1"
   ]
  },
  {
   "cell_type": "code",
   "execution_count": 51,
   "metadata": {
    "collapsed": true
   },
   "outputs": [],
   "source": [
    "#Solução numérica\n",
    "\n",
    "x_plot = np.zeros(meshx)\n",
    "y_plot = np.zeros(meshy)\n",
    "\n",
    "x_plot[0] = re\n",
    "for x in range(1,meshx):\n",
    "    x_plot[x] = x_plot[x-1] + deltax\n",
    "    \n",
    "y_plot[0] = re\n",
    "for y in range(1,meshy):\n",
    "    y_plot[y] = y_plot[y-1] + deltay\n",
    "    "
   ]
  },
  {
   "cell_type": "code",
   "execution_count": 52,
   "metadata": {
    "collapsed": false
   },
   "outputs": [
    {
     "data": {
      "text/plain": [
       "array([ 0.1       ,  0.10707107,  0.11414214,  0.1212132 ,  0.12828427,\n",
       "        0.13535534,  0.14242641,  0.14949747,  0.15656854,  0.16363961])"
      ]
     },
     "execution_count": 52,
     "metadata": {},
     "output_type": "execute_result"
    }
   ],
   "source": [
    "x_plot"
   ]
  },
  {
   "cell_type": "code",
   "execution_count": 53,
   "metadata": {
    "collapsed": false
   },
   "outputs": [
    {
     "data": {
      "text/plain": [
       "array([ 0.1       ,  0.10707107,  0.11414214,  0.1212132 ,  0.12828427,\n",
       "        0.13535534,  0.14242641,  0.14949747,  0.15656854,  0.16363961])"
      ]
     },
     "execution_count": 53,
     "metadata": {},
     "output_type": "execute_result"
    }
   ],
   "source": [
    "y_plot"
   ]
  },
  {
   "cell_type": "code",
   "execution_count": null,
   "metadata": {
    "collapsed": true
   },
   "outputs": [],
   "source": []
  }
 ],
 "metadata": {
  "kernelspec": {
   "display_name": "Python [default]",
   "language": "python",
   "name": "python3"
  },
  "language_info": {
   "codemirror_mode": {
    "name": "ipython",
    "version": 3
   },
   "file_extension": ".py",
   "mimetype": "text/x-python",
   "name": "python",
   "nbconvert_exporter": "python",
   "pygments_lexer": "ipython3",
   "version": "3.5.2"
  }
 },
 "nbformat": 4,
 "nbformat_minor": 2
}
