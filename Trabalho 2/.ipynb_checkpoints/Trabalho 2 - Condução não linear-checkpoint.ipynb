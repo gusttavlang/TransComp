{
 "cells": [
  {
   "cell_type": "code",
   "execution_count": 1,
   "metadata": {
    "collapsed": true
   },
   "outputs": [],
   "source": [
    "import numpy as np\n",
    "from scipy.linalg import *\n",
    "import matplotlib.pyplot as plt\n",
    "import pandas as pd\n",
    "from pandas import DataFrame,Series"
   ]
  },
  {
   "cell_type": "code",
   "execution_count": 2,
   "metadata": {
    "collapsed": true
   },
   "outputs": [],
   "source": [
    "T1 = 100 #°C\n",
    "T2 = 20 #°C\n",
    "L = 0.1 #m\n",
    "A = 1 #m²"
   ]
  },
  {
   "cell_type": "code",
   "execution_count": 3,
   "metadata": {
    "collapsed": true
   },
   "outputs": [],
   "source": [
    "def k(T):\n",
    "    #função da condutividade\n",
    "    k = 1.6 - 0.01*T\n",
    "    return k"
   ]
  },
  {
   "cell_type": "code",
   "execution_count": 4,
   "metadata": {
    "collapsed": false
   },
   "outputs": [],
   "source": [
    "#Tamanho da malha\n",
    "mesh = 20\n",
    "deltax = L/(mesh -1)"
   ]
  },
  {
   "cell_type": "code",
   "execution_count": 5,
   "metadata": {
    "collapsed": false
   },
   "outputs": [],
   "source": [
    "#chute inicial da Temperatura = linear\n",
    "T_interpolacao = np.zeros(mesh)\n",
    "T_resistencias = np.zeros(mesh)\n",
    "x = np.zeros(mesh)\n",
    "\n",
    "T_interpolacao[0] = T1\n",
    "T_resistencias[0] = T1\n",
    "x[0] = 0\n",
    "\n",
    "T_interpolacao[mesh-1] = T2\n",
    "T_resistencias[mesh-1] = T2\n",
    "x[mesh-1] = L\n",
    "\n",
    "for i in range(1,mesh-1):\n",
    "    x[i] = x[i-1] + deltax\n",
    "    T_interpolacao[i] = -800*x[i] +100\n",
    "    T_resistencias[i] = -800*x[i] +100\n"
   ]
  },
  {
   "cell_type": "code",
   "execution_count": 6,
   "metadata": {
    "collapsed": false
   },
   "outputs": [],
   "source": [
    "#gauss-seidel\n",
    "#método da interpolação\n",
    "\n",
    "erro_interpolacao = 1.0\n",
    "T_anterior_interpolacao = np.zeros(mesh)\n",
    "erro_vetor_interpolacao = np.zeros(mesh)\n",
    "\n",
    "n_interpolacao = 0 #numero de iterações\n",
    "\n",
    "\n",
    "\n",
    "while (erro_interpolacao>1e-4):\n",
    "    n_interpolacao = n_interpolacao+1\n",
    "    for i in range(1,mesh-1):\n",
    "        T_anterior_interpolacao[i] = T_interpolacao[i]\n",
    "    \n",
    "    for i in range(1,mesh-1):\n",
    "        ae = (A*(k(T_interpolacao[i])+k(T_interpolacao[i+1]))/2)/deltax\n",
    "        aw = (A*(k(T_interpolacao[i])+k(T_interpolacao[i-1]))/2)/deltax\n",
    "        ap = ae + aw\n",
    "        \n",
    "        T_interpolacao[i] = (aw*T_interpolacao[i-1] + ae*T_interpolacao[i+1])/ap\n",
    "        erro_vetor_interpolacao[i] = abs(T_interpolacao[i] - T_anterior_interpolacao[i])\n",
    "        \n",
    "    erro_interpolacao = erro_vetor_interpolacao.max()\n",
    "    \n",
    "q_interpolacao = np.zeros(mesh)\n",
    "\n",
    "for i in range(1,mesh):\n",
    "    q_interpolacao[i] = (T_interpolacao[i]-T_interpolacao[i-1])*(k(T_interpolacao[i])+k(T_interpolacao[i-1]))/(2*deltax) "
   ]
  },
  {
   "cell_type": "code",
   "execution_count": 7,
   "metadata": {
    "collapsed": false
   },
   "outputs": [],
   "source": [
    "#gauss-seidel\n",
    "#método das resistências\n",
    "\n",
    "erro_resistencias = 1.0\n",
    "T_anterior_resistencias = np.zeros(mesh)\n",
    "erro_vetor_resistencias = np.zeros(mesh)\n",
    "\n",
    "n_resistencias = 0 #numero de iterações\n",
    "\n",
    "while (erro_resistencias>1e-4):\n",
    "    n_resistencias = n_resistencias+1\n",
    "    for i in range(1,mesh-1):\n",
    "        T_anterior_resistencias[i] = T_resistencias[i]\n",
    "    \n",
    "    for i in range(1,mesh-1):\n",
    "        ke = 2*k(T_resistencias[i])*k(T_resistencias[i+1])/(k(T_resistencias[i])+k(T_resistencias[i+1]))\n",
    "        kw = 2*k(T_resistencias[i])*k(T_resistencias[i-1])/(k(T_resistencias[i])+k(T_resistencias[i-1]))\n",
    "        \n",
    "        ae = (A*ke)/deltax\n",
    "        aw = (A*kw)/deltax\n",
    "        ap = ae + aw\n",
    "        \n",
    "        T_resistencias[i] = (aw*T_resistencias[i-1] + ae*T_resistencias[i+1])/ap\n",
    "        erro_vetor_resistencias[i] = abs(T_resistencias[i] - T_anterior_resistencias[i])\n",
    "        \n",
    "    erro_resistencias = erro_vetor_resistencias.max()\n",
    "    \n",
    "q_resistencias = np.zeros(mesh)\n",
    "for i in range(1,mesh):\n",
    "    q_resistencias[i] = (T_resistencias[i]-T_resistencias[i-1])*(2*k(T_resistencias[i])*k(T_resistencias[i-1])/(k(T_resistencias[i])+k(T_resistencias[i-1])))/(deltax) "
   ]
  },
  {
   "cell_type": "code",
   "execution_count": 8,
   "metadata": {
    "collapsed": true
   },
   "outputs": [],
   "source": [
    "#solução analítica\n",
    "T_analitico_tabela =160- (3600 +160000 * x)**0.5\n",
    "x_plot = np.linspace(0,0.100,100)\n",
    "T_analitico = 160- (3600 +160000 * x_plot)**0.5\n"
   ]
  },
  {
   "cell_type": "code",
   "execution_count": 9,
   "metadata": {
    "collapsed": false
   },
   "outputs": [
    {
     "data": {
      "text/plain": [
       "(0, 0.1)"
      ]
     },
     "execution_count": 9,
     "metadata": {},
     "output_type": "execute_result"
    },
    {
     "data": {
      "image/png": "[encoded data removed]",
      "text/plain": [
       "<matplotlib.figure.Figure at 0x9506630>"
      ]
     },
     "metadata": {},
     "output_type": "display_data"
    }
   ],
   "source": [
    "%matplotlib inline\n",
    "fig = plt.figure(figsize=(8,6))\n",
    "axis = fig.add_subplot(111) \n",
    "\n",
    "axis.plot(x_plot,T_analitico ,  color ='green',label='Exata')\n",
    "   \n",
    "#axis.plot(x, T_interpolacao,  color ='blue')\n",
    "axis.scatter(x, T_interpolacao, color ='blue', label='Interpolação',s=60)\n",
    "\n",
    "#axis.plot(x, T_resistencias,  color ='green')\n",
    "axis.scatter(x, T_resistencias, color ='orange', label='Resistências', marker ='s',s=20)\n",
    "\n",
    "\n",
    "axis.set_ylabel('T [°C]')\n",
    "axis.set_xlabel('x [m]')\n",
    "axis.set_title('')\n",
    "axis.legend(loc='best')\n",
    "axis.set_ylim(20,100)\n",
    "axis.set_xlim(0,0.1)"
   ]
  },
  {
   "cell_type": "code",
   "execution_count": 10,
   "metadata": {
    "collapsed": false
   },
   "outputs": [
    {
     "data": {
      "text/html": [
       "<div>\n",
       "<table border=\"1\" class=\"dataframe\">\n",
       "  <thead>\n",
       "    <tr style=\"text-align: right;\">\n",
       "      <th></th>\n",
       "      <th>Temperatura [°C]</th>\n",
       "      <th>Posição [m]</th>\n",
       "      <th>Temp. Interpolação [°C]</th>\n",
       "      <th>|Erro| Interpolação [°C]</th>\n",
       "      <th>q\" interpolação [W/m².°C]</th>\n",
       "      <th>Temp. Resistências [°C]</th>\n",
       "      <th>|Erro| Resistências [°C]</th>\n",
       "      <th>q\" resistências [W/m².°C]</th>\n",
       "    </tr>\n",
       "  </thead>\n",
       "  <tbody>\n",
       "    <tr>\n",
       "      <th>0</th>\n",
       "      <td>100.000000</td>\n",
       "      <td>0.000000</td>\n",
       "      <td>100.000000</td>\n",
       "      <td>0.000000</td>\n",
       "      <td>0.000000</td>\n",
       "      <td>100.000000</td>\n",
       "      <td>0.000000</td>\n",
       "      <td>0.000000</td>\n",
       "    </tr>\n",
       "    <tr>\n",
       "      <th>1</th>\n",
       "      <td>93.350880</td>\n",
       "      <td>0.005263</td>\n",
       "      <td>93.351900</td>\n",
       "      <td>0.001021</td>\n",
       "      <td>799.870712</td>\n",
       "      <td>93.338347</td>\n",
       "      <td>0.012532</td>\n",
       "      <td>799.369869</td>\n",
       "    </tr>\n",
       "    <tr>\n",
       "      <th>2</th>\n",
       "      <td>87.307425</td>\n",
       "      <td>0.010526</td>\n",
       "      <td>87.309246</td>\n",
       "      <td>0.001822</td>\n",
       "      <td>799.877707</td>\n",
       "      <td>87.289525</td>\n",
       "      <td>0.017900</td>\n",
       "      <td>799.376828</td>\n",
       "    </tr>\n",
       "    <tr>\n",
       "      <th>3</th>\n",
       "      <td>81.729215</td>\n",
       "      <td>0.015789</td>\n",
       "      <td>81.731661</td>\n",
       "      <td>0.002446</td>\n",
       "      <td>799.887823</td>\n",
       "      <td>81.709363</td>\n",
       "      <td>0.019852</td>\n",
       "      <td>799.386893</td>\n",
       "    </tr>\n",
       "    <tr>\n",
       "      <th>4</th>\n",
       "      <td>76.522931</td>\n",
       "      <td>0.021053</td>\n",
       "      <td>76.525851</td>\n",
       "      <td>0.002920</td>\n",
       "      <td>799.900704</td>\n",
       "      <td>76.502877</td>\n",
       "      <td>0.020054</td>\n",
       "      <td>799.399701</td>\n",
       "    </tr>\n",
       "    <tr>\n",
       "      <th>5</th>\n",
       "      <td>71.622818</td>\n",
       "      <td>0.026316</td>\n",
       "      <td>71.626076</td>\n",
       "      <td>0.003258</td>\n",
       "      <td>799.915928</td>\n",
       "      <td>71.603490</td>\n",
       "      <td>0.019328</td>\n",
       "      <td>799.414831</td>\n",
       "    </tr>\n",
       "    <tr>\n",
       "      <th>6</th>\n",
       "      <td>66.980477</td>\n",
       "      <td>0.031579</td>\n",
       "      <td>66.983952</td>\n",
       "      <td>0.003475</td>\n",
       "      <td>799.933021</td>\n",
       "      <td>66.962367</td>\n",
       "      <td>0.018110</td>\n",
       "      <td>799.431807</td>\n",
       "    </tr>\n",
       "    <tr>\n",
       "      <th>7</th>\n",
       "      <td>62.559060</td>\n",
       "      <td>0.036842</td>\n",
       "      <td>62.562639</td>\n",
       "      <td>0.003579</td>\n",
       "      <td>799.951468</td>\n",
       "      <td>62.542415</td>\n",
       "      <td>0.016645</td>\n",
       "      <td>799.450119</td>\n",
       "    </tr>\n",
       "    <tr>\n",
       "      <th>8</th>\n",
       "      <td>58.329738</td>\n",
       "      <td>0.042105</td>\n",
       "      <td>58.333320</td>\n",
       "      <td>0.003582</td>\n",
       "      <td>799.970733</td>\n",
       "      <td>58.314667</td>\n",
       "      <td>0.015071</td>\n",
       "      <td>799.469235</td>\n",
       "    </tr>\n",
       "    <tr>\n",
       "      <th>9</th>\n",
       "      <td>54.269459</td>\n",
       "      <td>0.047368</td>\n",
       "      <td>54.272951</td>\n",
       "      <td>0.003493</td>\n",
       "      <td>799.990271</td>\n",
       "      <td>54.255988</td>\n",
       "      <td>0.013471</td>\n",
       "      <td>799.488616</td>\n",
       "    </tr>\n",
       "    <tr>\n",
       "      <th>10</th>\n",
       "      <td>50.359439</td>\n",
       "      <td>0.052632</td>\n",
       "      <td>50.362761</td>\n",
       "      <td>0.003322</td>\n",
       "      <td>800.009545</td>\n",
       "      <td>50.347547</td>\n",
       "      <td>0.011892</td>\n",
       "      <td>799.507730</td>\n",
       "    </tr>\n",
       "    <tr>\n",
       "      <th>11</th>\n",
       "      <td>46.584137</td>\n",
       "      <td>0.057895</td>\n",
       "      <td>46.587219</td>\n",
       "      <td>0.003082</td>\n",
       "      <td>800.028040</td>\n",
       "      <td>46.573778</td>\n",
       "      <td>0.010359</td>\n",
       "      <td>799.526067</td>\n",
       "    </tr>\n",
       "    <tr>\n",
       "      <th>12</th>\n",
       "      <td>42.930520</td>\n",
       "      <td>0.063158</td>\n",
       "      <td>42.933302</td>\n",
       "      <td>0.002782</td>\n",
       "      <td>800.045275</td>\n",
       "      <td>42.921635</td>\n",
       "      <td>0.008884</td>\n",
       "      <td>799.543151</td>\n",
       "    </tr>\n",
       "    <tr>\n",
       "      <th>13</th>\n",
       "      <td>39.387528</td>\n",
       "      <td>0.068421</td>\n",
       "      <td>39.389963</td>\n",
       "      <td>0.002435</td>\n",
       "      <td>800.060817</td>\n",
       "      <td>39.380056</td>\n",
       "      <td>0.007472</td>\n",
       "      <td>799.558555</td>\n",
       "    </tr>\n",
       "    <tr>\n",
       "      <th>14</th>\n",
       "      <td>35.945683</td>\n",
       "      <td>0.073684</td>\n",
       "      <td>35.947735</td>\n",
       "      <td>0.002052</td>\n",
       "      <td>800.074290</td>\n",
       "      <td>35.939563</td>\n",
       "      <td>0.006119</td>\n",
       "      <td>799.571906</td>\n",
       "    </tr>\n",
       "    <tr>\n",
       "      <th>15</th>\n",
       "      <td>32.596786</td>\n",
       "      <td>0.078947</td>\n",
       "      <td>32.598431</td>\n",
       "      <td>0.001645</td>\n",
       "      <td>800.085385</td>\n",
       "      <td>32.591965</td>\n",
       "      <td>0.004821</td>\n",
       "      <td>799.582901</td>\n",
       "    </tr>\n",
       "    <tr>\n",
       "      <th>16</th>\n",
       "      <td>29.333691</td>\n",
       "      <td>0.084211</td>\n",
       "      <td>29.334918</td>\n",
       "      <td>0.001226</td>\n",
       "      <td>800.093865</td>\n",
       "      <td>29.330122</td>\n",
       "      <td>0.003569</td>\n",
       "      <td>799.591303</td>\n",
       "    </tr>\n",
       "    <tr>\n",
       "      <th>17</th>\n",
       "      <td>26.150123</td>\n",
       "      <td>0.089474</td>\n",
       "      <td>26.150929</td>\n",
       "      <td>0.000805</td>\n",
       "      <td>800.099571</td>\n",
       "      <td>26.147769</td>\n",
       "      <td>0.002354</td>\n",
       "      <td>799.596958</td>\n",
       "    </tr>\n",
       "    <tr>\n",
       "      <th>18</th>\n",
       "      <td>23.040536</td>\n",
       "      <td>0.094737</td>\n",
       "      <td>23.040930</td>\n",
       "      <td>0.000394</td>\n",
       "      <td>800.102424</td>\n",
       "      <td>23.039368</td>\n",
       "      <td>0.001168</td>\n",
       "      <td>799.599785</td>\n",
       "    </tr>\n",
       "    <tr>\n",
       "      <th>19</th>\n",
       "      <td>20.000000</td>\n",
       "      <td>0.100000</td>\n",
       "      <td>20.000000</td>\n",
       "      <td>0.000000</td>\n",
       "      <td>800.102424</td>\n",
       "      <td>20.000000</td>\n",
       "      <td>0.000000</td>\n",
       "      <td>799.599786</td>\n",
       "    </tr>\n",
       "  </tbody>\n",
       "</table>\n",
       "</div>"
      ],
      "text/plain": [
       "    Temperatura [°C]  Posição [m]  Temp. Interpolação [°C]  \\\n",
       "0         100.000000     0.000000               100.000000   \n",
       "1          93.350880     0.005263                93.351900   \n",
       "2          87.307425     0.010526                87.309246   \n",
       "3          81.729215     0.015789                81.731661   \n",
       "4          76.522931     0.021053                76.525851   \n",
       "5          71.622818     0.026316                71.626076   \n",
       "6          66.980477     0.031579                66.983952   \n",
       "7          62.559060     0.036842                62.562639   \n",
       "8          58.329738     0.042105                58.333320   \n",
       "9          54.269459     0.047368                54.272951   \n",
       "10         50.359439     0.052632                50.362761   \n",
       "11         46.584137     0.057895                46.587219   \n",
       "12         42.930520     0.063158                42.933302   \n",
       "13         39.387528     0.068421                39.389963   \n",
       "14         35.945683     0.073684                35.947735   \n",
       "15         32.596786     0.078947                32.598431   \n",
       "16         29.333691     0.084211                29.334918   \n",
       "17         26.150123     0.089474                26.150929   \n",
       "18         23.040536     0.094737                23.040930   \n",
       "19         20.000000     0.100000                20.000000   \n",
       "\n",
       "    |Erro| Interpolação [°C]  q\" interpolação [W/m².°C]  \\\n",
       "0                   0.000000                   0.000000   \n",
       "1                   0.001021                 799.870712   \n",
       "2                   0.001822                 799.877707   \n",
       "3                   0.002446                 799.887823   \n",
       "4                   0.002920                 799.900704   \n",
       "5                   0.003258                 799.915928   \n",
       "6                   0.003475                 799.933021   \n",
       "7                   0.003579                 799.951468   \n",
       "8                   0.003582                 799.970733   \n",
       "9                   0.003493                 799.990271   \n",
       "10                  0.003322                 800.009545   \n",
       "11                  0.003082                 800.028040   \n",
       "12                  0.002782                 800.045275   \n",
       "13                  0.002435                 800.060817   \n",
       "14                  0.002052                 800.074290   \n",
       "15                  0.001645                 800.085385   \n",
       "16                  0.001226                 800.093865   \n",
       "17                  0.000805                 800.099571   \n",
       "18                  0.000394                 800.102424   \n",
       "19                  0.000000                 800.102424   \n",
       "\n",
       "    Temp. Resistências [°C]  |Erro| Resistências [°C]  \\\n",
       "0                100.000000                  0.000000   \n",
       "1                 93.338347                  0.012532   \n",
       "2                 87.289525                  0.017900   \n",
       "3                 81.709363                  0.019852   \n",
       "4                 76.502877                  0.020054   \n",
       "5                 71.603490                  0.019328   \n",
       "6                 66.962367                  0.018110   \n",
       "7                 62.542415                  0.016645   \n",
       "8                 58.314667                  0.015071   \n",
       "9                 54.255988                  0.013471   \n",
       "10                50.347547                  0.011892   \n",
       "11                46.573778                  0.010359   \n",
       "12                42.921635                  0.008884   \n",
       "13                39.380056                  0.007472   \n",
       "14                35.939563                  0.006119   \n",
       "15                32.591965                  0.004821   \n",
       "16                29.330122                  0.003569   \n",
       "17                26.147769                  0.002354   \n",
       "18                23.039368                  0.001168   \n",
       "19                20.000000                  0.000000   \n",
       "\n",
       "    q\" resistências [W/m².°C]  \n",
       "0                    0.000000  \n",
       "1                  799.369869  \n",
       "2                  799.376828  \n",
       "3                  799.386893  \n",
       "4                  799.399701  \n",
       "5                  799.414831  \n",
       "6                  799.431807  \n",
       "7                  799.450119  \n",
       "8                  799.469235  \n",
       "9                  799.488616  \n",
       "10                 799.507730  \n",
       "11                 799.526067  \n",
       "12                 799.543151  \n",
       "13                 799.558555  \n",
       "14                 799.571906  \n",
       "15                 799.582901  \n",
       "16                 799.591303  \n",
       "17                 799.596958  \n",
       "18                 799.599785  \n",
       "19                 799.599786  "
      ]
     },
     "execution_count": 10,
     "metadata": {},
     "output_type": "execute_result"
    }
   ],
   "source": [
    "tabela_Temp = DataFrame()\n",
    "\n",
    "tabela_Temp['Temperatura [°C]'] = T_analitico_tabela.round(6).tolist()\n",
    "tabela_Temp['Posição [m]'] = x.round(6)\n",
    "#tabela_Temp['Temp. Resistências [°C]'] = T_resistencias.round(6).tolist()\n",
    "#tabela_Temp['Erro Resistências [°C]'] = np.absolute(T_exata_tabela-T_resistencias).round(6).tolist()\n",
    "\n",
    "tabela_Temp['Temp. Interpolação [°C]'] = T_interpolacao.round(6).tolist()\n",
    "tabela_Temp['|Erro| Interpolação [°C]'] = np.absolute(T_analitico_tabela-T_interpolacao).round(6).tolist()\n",
    "tabela_Temp['q\" interpolação [W/m².°C]'] = abs(q_interpolacao.round(6)).tolist()\n",
    "\n",
    "tabela_Temp['Temp. Resistências [°C]'] = T_resistencias.round(6).tolist()\n",
    "tabela_Temp['|Erro| Resistências [°C]'] = np.absolute(T_analitico_tabela-T_resistencias).round(6).tolist()\n",
    "tabela_Temp['q\" resistências [W/m².°C]'] = abs(q_resistencias.round(6)).tolist()\n",
    "\n",
    "\n",
    "tabela_Temp"
   ]
  },
  {
   "cell_type": "code",
   "execution_count": 11,
   "metadata": {
    "collapsed": false
   },
   "outputs": [
    {
     "data": {
      "text/plain": [
       "281"
      ]
     },
     "execution_count": 11,
     "metadata": {},
     "output_type": "execute_result"
    }
   ],
   "source": [
    "n_interpolacao"
   ]
  },
  {
   "cell_type": "code",
   "execution_count": 12,
   "metadata": {
    "collapsed": false
   },
   "outputs": [
    {
     "data": {
      "text/plain": [
       "282"
      ]
     },
     "execution_count": 12,
     "metadata": {},
     "output_type": "execute_result"
    }
   ],
   "source": [
    "n_resistencias"
   ]
  },
  {
   "cell_type": "code",
   "execution_count": 13,
   "metadata": {
    "collapsed": false
   },
   "outputs": [
    {
     "data": {
      "text/plain": [
       "(0, 0.1)"
      ]
     },
     "execution_count": 13,
     "metadata": {},
     "output_type": "execute_result"
    },
    {
     "data": {
      "image/png": "[encoded data removed]",
      "text/plain": [
       "<matplotlib.figure.Figure at 0x9bc9240>"
      ]
     },
     "metadata": {},
     "output_type": "display_data"
    }
   ],
   "source": [
    "%matplotlib inline\n",
    "fig = plt.figure(figsize=(8,6))\n",
    "axis = fig.add_subplot(111) \n",
    "\n",
    "axis.plot(x_plot,k(T_analitico) ,  )\n",
    "   \n",
    "axis.set_ylabel('Condutividade Térmica [W/m.°C]')\n",
    "axis.set_xlabel('x [m]')\n",
    "axis.set_title('')\n",
    "#axis.legend(loc='best')\n",
    "axis.set_ylim(0.6,1.4)\n",
    "axis.set_xlim(0,0.1)"
   ]
  },
  {
   "cell_type": "code",
   "execution_count": null,
   "metadata": {
    "collapsed": true
   },
   "outputs": [],
   "source": []
  }
 ],
 "metadata": {
  "anaconda-cloud": {},
  "kernelspec": {
   "display_name": "Python [default]",
   "language": "python",
   "name": "python3"
  },
  "language_info": {
   "codemirror_mode": {
    "name": "ipython",
    "version": 3
   },
   "file_extension": ".py",
   "mimetype": "text/x-python",
   "name": "python",
   "nbconvert_exporter": "python",
   "pygments_lexer": "ipython3",
   "version": "3.5.2"
  }
 },
 "nbformat": 4,
 "nbformat_minor": 2
}
