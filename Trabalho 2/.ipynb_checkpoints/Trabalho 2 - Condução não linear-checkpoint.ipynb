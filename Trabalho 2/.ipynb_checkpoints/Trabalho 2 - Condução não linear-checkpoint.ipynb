{
 "cells": [
  {
   "cell_type": "code",
   "execution_count": 1,
   "metadata": {
    "collapsed": true
   },
   "outputs": [],
   "source": [
    "import numpy as np\n",
    "#from scipy.linalg import *\n",
    "import matplotlib.pyplot as plt\n",
    "import pandas as pd\n",
    "from pandas import DataFrame,Series"
   ]
  },
  {
   "cell_type": "code",
   "execution_count": 2,
   "metadata": {
    "collapsed": true
   },
   "outputs": [],
   "source": [
    "T1 = 100 #°C\n",
    "T2 = 20 #°C\n",
    "L = 0.1 #m\n",
    "A = 1 #m²"
   ]
  },
  {
   "cell_type": "code",
   "execution_count": 3,
   "metadata": {
    "collapsed": true
   },
   "outputs": [],
   "source": [
    "def k(T):\n",
    "    #função da condutividade\n",
    "    k = 1.6 - 0.01*T\n",
    "    return k"
   ]
  },
  {
   "cell_type": "code",
   "execution_count": 20,
   "metadata": {
    "collapsed": false
   },
   "outputs": [],
   "source": [
    "#Tamanho da malha\n",
    "mesh = 5\n",
    "deltax = L/(mesh -1)"
   ]
  },
  {
   "cell_type": "code",
   "execution_count": 21,
   "metadata": {
    "collapsed": false
   },
   "outputs": [],
   "source": [
    "#chute inicial da Temperatura = linear\n",
    "T = np.zeros(mesh)\n",
    "x = np.zeros(mesh)\n",
    "k = np.zeros(mesh)\n",
    "\n",
    "T[0] = T1\n",
    "x[0] = 0\n",
    "k[0] = k(T1)\n",
    "\n",
    "T[mesh-1] = T2\n",
    "x[mesh-1] = L\n",
    "k[mesh-1] = k(T2)\n",
    "\n",
    "for i in range(1,mesh-2):\n",
    "    x[i] = x[i-1] + deltax\n",
    "    T[i] = -800*x[i] +100\n",
    "    k[i] = k(T[i])\n",
    "\n"
   ]
  },
  {
   "cell_type": "code",
   "execution_count": 22,
   "metadata": {
    "collapsed": true
   },
   "outputs": [],
   "source": [
    "#gauss-seidel\n",
    "#método interpolação\n",
    "\n",
    "erro = 0\n",
    "T_anterior = np.zeros(mesh)\n",
    "k_anterior = np.zeros(mesh)\n",
    "erro_vetor = np.zeros(mesh)\n",
    "\n",
    "while (erro>10e-4):\n",
    "    for i in range(1,mesh-2):\n",
    "        T_anterior[i] = T[i]\n",
    "        k_anterior[i] = k(T_anterior[i]) #nao sei se precisa\n",
    "    \n",
    "    for i in range(1,mesh-2):\n",
    "        k[i-1] = T[i-1]\n",
    "        ae = (A*(k[i]+k[i+1])/2)/deltax\n",
    "        aw = (A*(k[i]+k[i-1])/2)/deltax\n",
    "        ap = ae + aw\n",
    "        \n",
    "        T[i] = (aw*T[i-1] + ae*T[i+1])/ap\n",
    "        erro_vetor = abs(T[i] - T_anterior[i])\n",
    "    erro = max(erro_vetor)\n",
    "    \n",
    "        "
   ]
  },
  {
   "cell_type": "code",
   "execution_count": 23,
   "metadata": {
    "collapsed": false
   },
   "outputs": [
    {
     "data": {
      "text/plain": [
       "array([ 100.,   80.,   60.,    0.,   20.])"
      ]
     },
     "execution_count": 23,
     "metadata": {},
     "output_type": "execute_result"
    }
   ],
   "source": [
    "T"
   ]
  },
  {
   "cell_type": "code",
   "execution_count": 25,
   "metadata": {
    "collapsed": false
   },
   "outputs": [
    {
     "data": {
      "text/plain": [
       "array([ 0.   ,  0.025,  0.05 ,  0.   ,  0.1  ])"
      ]
     },
     "execution_count": 25,
     "metadata": {},
     "output_type": "execute_result"
    }
   ],
   "source": [
    "x"
   ]
  },
  {
   "cell_type": "code",
   "execution_count": 24,
   "metadata": {
    "collapsed": false
   },
   "outputs": [
    {
     "name": "stderr",
     "output_type": "stream",
     "text": [
      "C:\\Users\\Gusttav\\Anaconda3\\lib\\site-packages\\matplotlib\\axes\\_axes.py:545: UserWarning: No labelled objects found. Use label='...' kwarg on individual plots.\n",
      "  warnings.warn(\"No labelled objects found. \"\n"
     ]
    },
    {
     "data": {
      "image/png": "[encoded data removed]",
      "text/plain": [
       "<matplotlib.figure.Figure at 0x96a2ef0>"
      ]
     },
     "metadata": {},
     "output_type": "display_data"
    }
   ],
   "source": [
    "%matplotlib inline\n",
    "fig = plt.figure(figsize=(8,6))\n",
    "axis = fig.add_subplot(111)    \n",
    "   \n",
    "#axis.plot(x_plot, T_interpolacao,  color ='blue')\n",
    "axis.scatter(x, T, color ='blue',)\n",
    "\n",
    "\n",
    "\n",
    "axis.set_ylabel('T [°C]')\n",
    "axis.set_xlabel('x [m]')\n",
    "axis.set_title('')\n",
    "axis.legend(loc='best')\n",
    "#axis.set_ylim(70,180)\n",
    "#axis.set_xlim(0,90)"
   ]
  },
  {
   "cell_type": "code",
   "execution_count": null,
   "metadata": {
    "collapsed": true
   },
   "outputs": [],
   "source": []
  }
 ],
 "metadata": {
  "kernelspec": {
   "display_name": "Python 3",
   "language": "python",
   "name": "python3"
  },
  "language_info": {
   "codemirror_mode": {
    "name": "ipython",
    "version": 3
   },
   "file_extension": ".py",
   "mimetype": "text/x-python",
   "name": "python",
   "nbconvert_exporter": "python",
   "pygments_lexer": "ipython3",
   "version": "3.6.0"
  }
 },
 "nbformat": 4,
 "nbformat_minor": 2
}
