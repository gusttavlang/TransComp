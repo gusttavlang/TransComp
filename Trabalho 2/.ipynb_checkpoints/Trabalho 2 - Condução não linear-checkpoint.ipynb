{
 "cells": [
  {
   "cell_type": "code",
   "execution_count": 1,
   "metadata": {
    "collapsed": true
   },
   "outputs": [],
   "source": [
    "import numpy as np\n",
    "#from scipy.linalg import *\n",
    "import matplotlib.pyplot as plt\n",
    "import pandas as pd\n",
    "from pandas import DataFrame,Series"
   ]
  },
  {
   "cell_type": "code",
   "execution_count": 2,
   "metadata": {
    "collapsed": true
   },
   "outputs": [],
   "source": [
    "T1 = 100 #°C\n",
    "T2 = 20 #°C\n",
    "L = 0.1 #m\n",
    "A = 1 #m²"
   ]
  },
  {
   "cell_type": "code",
   "execution_count": 3,
   "metadata": {
    "collapsed": true
   },
   "outputs": [],
   "source": [
    "def k(T):\n",
    "    #função da condutividade\n",
    "    k = 1.6 - 0.01*T\n",
    "    return k"
   ]
  },
  {
   "cell_type": "code",
   "execution_count": 4,
   "metadata": {
    "collapsed": false
   },
   "outputs": [],
   "source": [
    "#Tamanho da malha\n",
    "mesh = 5\n",
    "deltax = L/(mesh -1)"
   ]
  },
  {
   "cell_type": "code",
   "execution_count": 5,
   "metadata": {
    "collapsed": false
   },
   "outputs": [],
   "source": [
    "#chute inicial da Temperatura = linear\n",
    "T = np.zeros(mesh)\n",
    "x = np.zeros(mesh)\n",
    "#k = np.zeros(mesh)\n",
    "\n",
    "T[0] = T1\n",
    "x[0] = 0\n",
    "\n",
    "#k[0] = k(T1)\n",
    "\n",
    "T[mesh-1] = T2\n",
    "x[mesh-1] = L\n",
    "#k[mesh-1] = k(T2)\n",
    "\n",
    "for i in range(1,mesh-1):\n",
    "    x[i] = x[i-1] + deltax\n",
    "    T[i] = -800*x[i] +100\n",
    "    #k[i] = k(T)\n",
    "\n"
   ]
  },
  {
   "cell_type": "code",
   "execution_count": 6,
   "metadata": {
    "collapsed": false
   },
   "outputs": [],
   "source": [
    "#gauss-seidel\n",
    "#método interpolação\n",
    "\n",
    "erro = 1.0\n",
    "T_anterior = np.zeros(mesh)\n",
    "k_anterior = np.zeros(mesh)\n",
    "erro_vetor = np.zeros(mesh)\n",
    "\n",
    "while (erro>1e-2):\n",
    "    for i in range(1,mesh-1):\n",
    "        T_anterior[i] = T[i]\n",
    "        k_anterior[i] = k(T_anterior[i]) #nao sei se precisa\n",
    "    \n",
    "    for i in range(1,mesh-1):\n",
    "        #k[i-1] = T[i-1]\n",
    "        ae = (A*(k(T[i])+k(T[i+1]))/2)/deltax\n",
    "        aw = (A*(k(T[i])+k(T[i-1]))/2)/deltax\n",
    "        ap = ae + aw\n",
    "        \n",
    "        T[i] = (aw*T[i-1] + ae*T[i+1])/ap\n",
    "        erro_vetor[i] = abs(T[i] - T_anterior[i])\n",
    "        \n",
    "    erro = erro_vetor.max()\n",
    "    \n",
    "        "
   ]
  },
  {
   "cell_type": "code",
   "execution_count": 7,
   "metadata": {
    "collapsed": false
   },
   "outputs": [
    {
     "data": {
      "text/plain": [
       "array([ 100.        ,   72.83131276,   52.30422208,   35.10326741,   20.        ])"
      ]
     },
     "execution_count": 7,
     "metadata": {},
     "output_type": "execute_result"
    }
   ],
   "source": [
    "T"
   ]
  },
  {
   "cell_type": "code",
   "execution_count": 8,
   "metadata": {
    "collapsed": true
   },
   "outputs": [],
   "source": [
    "#solução analítica\n",
    "T_analitico =160- (3600 +160000 * x)**0.5"
   ]
  },
  {
   "cell_type": "code",
   "execution_count": 9,
   "metadata": {
    "collapsed": false
   },
   "outputs": [
    {
     "name": "stderr",
     "output_type": "stream",
     "text": [
      "C:\\Users\\Gusttav\\Anaconda3\\lib\\site-packages\\matplotlib\\axes\\_axes.py:545: UserWarning: No labelled objects found. Use label='...' kwarg on individual plots.\n",
      "  warnings.warn(\"No labelled objects found. \"\n"
     ]
    },
    {
     "data": {
      "text/plain": [
       "(0, 0.1)"
      ]
     },
     "execution_count": 9,
     "metadata": {},
     "output_type": "execute_result"
    },
    {
     "data": {
      "image/png": "[encoded data removed]",
      "text/plain": [
       "<matplotlib.figure.Figure at 0x4a2acf8>"
      ]
     },
     "metadata": {},
     "output_type": "display_data"
    }
   ],
   "source": [
    "%matplotlib inline\n",
    "fig = plt.figure(figsize=(8,6))\n",
    "axis = fig.add_subplot(111)    \n",
    "   \n",
    "axis.plot(x, T,  color ='blue')\n",
    "axis.scatter(x, T, color ='blue',)\n",
    "\n",
    "axis.plot(x, T_analitico,  color ='red')\n",
    "\n",
    "\n",
    "\n",
    "axis.set_ylabel('T [°C]')\n",
    "axis.set_xlabel('x [m]')\n",
    "axis.set_title('')\n",
    "axis.legend(loc='best')\n",
    "axis.set_ylim(20,100)\n",
    "axis.set_xlim(0,0.1)"
   ]
  },
  {
   "cell_type": "code",
   "execution_count": 10,
   "metadata": {
    "collapsed": false
   },
   "outputs": [
    {
     "data": {
      "text/html": [
       "<div>\n",
       "<table border=\"1\" class=\"dataframe\">\n",
       "  <thead>\n",
       "    <tr style=\"text-align: right;\">\n",
       "      <th></th>\n",
       "      <th>Temperatura [°C]</th>\n",
       "      <th>Posição [mm]</th>\n",
       "      <th>Temp. Interpolação [°C]</th>\n",
       "      <th>Erro Interpolação [°C]</th>\n",
       "    </tr>\n",
       "  </thead>\n",
       "  <tbody>\n",
       "    <tr>\n",
       "      <th>0</th>\n",
       "      <td>100.000000</td>\n",
       "      <td>0.000</td>\n",
       "      <td>100.000000</td>\n",
       "      <td>0.000000</td>\n",
       "    </tr>\n",
       "    <tr>\n",
       "      <th>1</th>\n",
       "      <td>72.822021</td>\n",
       "      <td>0.025</td>\n",
       "      <td>72.831313</td>\n",
       "      <td>0.009292</td>\n",
       "    </tr>\n",
       "    <tr>\n",
       "      <th>2</th>\n",
       "      <td>52.296704</td>\n",
       "      <td>0.050</td>\n",
       "      <td>52.304222</td>\n",
       "      <td>0.007518</td>\n",
       "    </tr>\n",
       "    <tr>\n",
       "      <th>3</th>\n",
       "      <td>35.100040</td>\n",
       "      <td>0.075</td>\n",
       "      <td>35.103267</td>\n",
       "      <td>0.003227</td>\n",
       "    </tr>\n",
       "    <tr>\n",
       "      <th>4</th>\n",
       "      <td>20.000000</td>\n",
       "      <td>0.100</td>\n",
       "      <td>20.000000</td>\n",
       "      <td>0.000000</td>\n",
       "    </tr>\n",
       "  </tbody>\n",
       "</table>\n",
       "</div>"
      ],
      "text/plain": [
       "   Temperatura [°C]  Posição [mm]  Temp. Interpolação [°C]  \\\n",
       "0        100.000000         0.000               100.000000   \n",
       "1         72.822021         0.025                72.831313   \n",
       "2         52.296704         0.050                52.304222   \n",
       "3         35.100040         0.075                35.103267   \n",
       "4         20.000000         0.100                20.000000   \n",
       "\n",
       "   Erro Interpolação [°C]  \n",
       "0                0.000000  \n",
       "1                0.009292  \n",
       "2                0.007518  \n",
       "3                0.003227  \n",
       "4                0.000000  "
      ]
     },
     "execution_count": 10,
     "metadata": {},
     "output_type": "execute_result"
    }
   ],
   "source": [
    "tabela_Temp = DataFrame()\n",
    "\n",
    "tabela_Temp['Temperatura [°C]'] = T_analitico.round(6).tolist()\n",
    "tabela_Temp['Posição [mm]'] = x.round(6)\n",
    "#tabela_Temp['Temp. Resistências [°C]'] = T_resistencias.round(6).tolist()\n",
    "#tabela_Temp['Erro Resistências [°C]'] = np.absolute(T_exata_tabela-T_resistencias).round(6).tolist()\n",
    "\n",
    "tabela_Temp['Temp. Interpolação [°C]'] = T.round(6).tolist()\n",
    "tabela_Temp['Erro Interpolação [°C]'] = np.absolute(T_analitico-T).round(6).tolist()\n",
    "\n",
    "tabela_Temp"
   ]
  },
  {
   "cell_type": "code",
   "execution_count": null,
   "metadata": {
    "collapsed": true
   },
   "outputs": [],
   "source": []
  }
 ],
 "metadata": {
  "kernelspec": {
   "display_name": "Python 3",
   "language": "python",
   "name": "python3"
  },
  "language_info": {
   "codemirror_mode": {
    "name": "ipython",
    "version": 3
   },
   "file_extension": ".py",
   "mimetype": "text/x-python",
   "name": "python",
   "nbconvert_exporter": "python",
   "pygments_lexer": "ipython3",
   "version": "3.6.0"
  }
 },
 "nbformat": 4,
 "nbformat_minor": 2
}
