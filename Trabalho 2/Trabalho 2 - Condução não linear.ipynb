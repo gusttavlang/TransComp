{
 "cells": [
  {
   "cell_type": "code",
   "execution_count": 1,
   "metadata": {
    "collapsed": true
   },
   "outputs": [],
   "source": [
    "import numpy as np\n",
    "#from scipy.linalg import *\n",
    "import matplotlib.pyplot as plt\n",
    "import pandas as pd\n",
    "from pandas import DataFrame,Series"
   ]
  },
  {
   "cell_type": "code",
   "execution_count": 2,
   "metadata": {
    "collapsed": true
   },
   "outputs": [],
   "source": [
    "T1 = 100 #°C\n",
    "T2 = 20 #°C\n",
    "L = 0.1 #m\n",
    "A = 1 #m²"
   ]
  },
  {
   "cell_type": "code",
   "execution_count": 3,
   "metadata": {
    "collapsed": true
   },
   "outputs": [],
   "source": [
    "def k(T):\n",
    "    #função da condutividade\n",
    "    k = 1.6 - 0.01*T\n",
    "    return k"
   ]
  },
  {
   "cell_type": "code",
   "execution_count": 12,
   "metadata": {
    "collapsed": false
   },
   "outputs": [],
   "source": [
    "#Tamanho da malha\n",
    "mesh = 6\n",
    "deltax = L/(mesh -1)"
   ]
  },
  {
   "cell_type": "code",
   "execution_count": 13,
   "metadata": {
    "collapsed": false
   },
   "outputs": [],
   "source": [
    "#chute inicial da Temperatura = linear\n",
    "T_interpolacao = np.zeros(mesh)\n",
    "T_resistencias = np.zeros(mesh)\n",
    "x = np.zeros(mesh)\n",
    "\n",
    "T_interpolacao[0] = T1\n",
    "T_resistencias[0] = T1\n",
    "x[0] = 0\n",
    "\n",
    "T_interpolacao[mesh-1] = T2\n",
    "T_resistencias[mesh-1] = T2\n",
    "x[mesh-1] = L\n",
    "\n",
    "for i in range(1,mesh-1):\n",
    "    x[i] = x[i-1] + deltax\n",
    "    T_interpolacao[i] = -800*x[i] +100\n",
    "    T_resistencias[i] = -800*x[i] +100\n"
   ]
  },
  {
   "cell_type": "code",
   "execution_count": 14,
   "metadata": {
    "collapsed": false
   },
   "outputs": [],
   "source": [
    "#gauss-seidel\n",
    "#método da interpolação\n",
    "\n",
    "erro_interpolacao = 1.0\n",
    "T_anterior_interpolacao = np.zeros(mesh)\n",
    "erro_vetor_interpolacao = np.zeros(mesh)\n",
    "\n",
    "n = 0 #numero de iterações\n",
    "\n",
    "while (erro_interpolacao>1e-5):\n",
    "    n = n+1\n",
    "    for i in range(1,mesh-1):\n",
    "        T_anterior_interpolacao[i] = T_interpolacao[i]\n",
    "    \n",
    "    for i in range(1,mesh-1):\n",
    "        ae = (A*(k(T_interpolacao[i])+k(T_interpolacao[i+1]))/2)/deltax\n",
    "        aw = (A*(k(T_interpolacao[i])+k(T_interpolacao[i-1]))/2)/deltax\n",
    "        ap = ae + aw\n",
    "        \n",
    "        T_interpolacao[i] = (aw*T_interpolacao[i-1] + ae*T_interpolacao[i+1])/ap\n",
    "        erro_vetor_interpolacao[i] = abs(T_interpolacao[i] - T_anterior_interpolacao[i])\n",
    "        \n",
    "    erro_interpolacao = erro_vetor_interpolacao.max()\n",
    "    \n",
    "        "
   ]
  },
  {
   "cell_type": "code",
   "execution_count": 15,
   "metadata": {
    "collapsed": false
   },
   "outputs": [],
   "source": [
    "#gauss-seidel\n",
    "#método das resistências\n",
    "\n",
    "erro_resistencias = 1.0\n",
    "T_anterior_resistencias = np.zeros(mesh)\n",
    "erro_vetor_resistencias = np.zeros(mesh)\n",
    "\n",
    "n = 0 #numero de iterações\n",
    "\n",
    "while (erro_resistencias>1e-5):\n",
    "    n = n+1\n",
    "    for i in range(1,mesh-1):\n",
    "        T_anterior_resistencias[i] = T_resistencias[i]\n",
    "    \n",
    "    for i in range(1,mesh-1):\n",
    "        ke = 2*k(T_resistencias[i])*k(T_resistencias[i+1])/(k(T_resistencias[i])+k(T_resistencias[i+1]))\n",
    "        kw = 2*k(T_resistencias[i])*k(T_resistencias[i-1])/(k(T_resistencias[i])+k(T_resistencias[i-1]))\n",
    "        \n",
    "        ae = (A*ke)/deltax\n",
    "        aw = (A*kw)/deltax\n",
    "        ap = ae + aw\n",
    "        \n",
    "        T_resistencias[i] = (aw*T_resistencias[i-1] + ae*T_resistencias[i+1])/ap\n",
    "        erro_vetor_resistencias[i] = abs(T_resistencias[i] - T_anterior_resistencias[i])\n",
    "        \n",
    "    erro_resistencias = erro_vetor_resistencias.max()"
   ]
  },
  {
   "cell_type": "code",
   "execution_count": 16,
   "metadata": {
    "collapsed": true
   },
   "outputs": [],
   "source": [
    "#solução analítica\n",
    "T_analitico_tabela =160- (3600 +160000 * x)**0.5\n",
    "x_plot = np.linspace(0,0.100,100)\n",
    "T_analitico = 160- (3600 +160000 * x_plot)**0.5\n"
   ]
  },
  {
   "cell_type": "code",
   "execution_count": 17,
   "metadata": {
    "collapsed": false
   },
   "outputs": [
    {
     "data": {
      "text/plain": [
       "(0, 0.1)"
      ]
     },
     "execution_count": 17,
     "metadata": {},
     "output_type": "execute_result"
    },
    {
     "data": {
      "image/png": "[encoded data removed]",
      "text/plain": [
       "<matplotlib.figure.Figure at 0x7ba6978>"
      ]
     },
     "metadata": {},
     "output_type": "display_data"
    }
   ],
   "source": [
    "%matplotlib inline\n",
    "fig = plt.figure(figsize=(8,6))\n",
    "axis = fig.add_subplot(111)    \n",
    "   \n",
    "axis.plot(x, T_interpolacao,  color ='blue')\n",
    "axis.scatter(x, T_interpolacao, color ='blue', label='Interpolação')\n",
    "\n",
    "axis.plot(x, T_resistencias,  color ='green')\n",
    "axis.scatter(x, T_resistencias, color ='green', label='Resistências', marker ='s')\n",
    "\n",
    "axis.plot(x_plot,T_analitico ,  color ='red')\n",
    "\n",
    "\n",
    "\n",
    "axis.set_ylabel('T [°C]')\n",
    "axis.set_xlabel('x [m]')\n",
    "axis.set_title('')\n",
    "axis.legend(loc='best')\n",
    "axis.set_ylim(20,100)\n",
    "axis.set_xlim(0,0.1)"
   ]
  },
  {
   "cell_type": "code",
   "execution_count": 19,
   "metadata": {
    "collapsed": false
   },
   "outputs": [
    {
     "data": {
      "text/html": [
       "<div>\n",
       "<table border=\"1\" class=\"dataframe\">\n",
       "  <thead>\n",
       "    <tr style=\"text-align: right;\">\n",
       "      <th></th>\n",
       "      <th>Temperatura [°C]</th>\n",
       "      <th>Posição [m]</th>\n",
       "      <th>Temp. Interpolação [°C]</th>\n",
       "      <th>|Erro| Interpolação [°C]</th>\n",
       "      <th>Temp. Resistências [°C]</th>\n",
       "      <th>|Erro| Resistências [°C]</th>\n",
       "    </tr>\n",
       "  </thead>\n",
       "  <tbody>\n",
       "    <tr>\n",
       "      <th>0</th>\n",
       "      <td>100.000000</td>\n",
       "      <td>0.00</td>\n",
       "      <td>100.000000</td>\n",
       "      <td>0.000000</td>\n",
       "      <td>100.000000</td>\n",
       "      <td>0.000000</td>\n",
       "    </tr>\n",
       "    <tr>\n",
       "      <th>1</th>\n",
       "      <td>77.537887</td>\n",
       "      <td>0.02</td>\n",
       "      <td>77.537902</td>\n",
       "      <td>0.000015</td>\n",
       "      <td>77.208715</td>\n",
       "      <td>0.329172</td>\n",
       "    </tr>\n",
       "    <tr>\n",
       "      <th>2</th>\n",
       "      <td>60.000000</td>\n",
       "      <td>0.04</td>\n",
       "      <td>60.000016</td>\n",
       "      <td>0.000016</td>\n",
       "      <td>59.724978</td>\n",
       "      <td>0.275022</td>\n",
       "    </tr>\n",
       "    <tr>\n",
       "      <th>3</th>\n",
       "      <td>45.108747</td>\n",
       "      <td>0.06</td>\n",
       "      <td>45.108758</td>\n",
       "      <td>0.000011</td>\n",
       "      <td>44.927780</td>\n",
       "      <td>0.180967</td>\n",
       "    </tr>\n",
       "    <tr>\n",
       "      <th>4</th>\n",
       "      <td>31.937515</td>\n",
       "      <td>0.08</td>\n",
       "      <td>31.937520</td>\n",
       "      <td>0.000005</td>\n",
       "      <td>31.850469</td>\n",
       "      <td>0.087046</td>\n",
       "    </tr>\n",
       "    <tr>\n",
       "      <th>5</th>\n",
       "      <td>20.000000</td>\n",
       "      <td>0.10</td>\n",
       "      <td>20.000000</td>\n",
       "      <td>0.000000</td>\n",
       "      <td>20.000000</td>\n",
       "      <td>0.000000</td>\n",
       "    </tr>\n",
       "  </tbody>\n",
       "</table>\n",
       "</div>"
      ],
      "text/plain": [
       "   Temperatura [°C]  Posição [m]  Temp. Interpolação [°C]  \\\n",
       "0        100.000000         0.00               100.000000   \n",
       "1         77.537887         0.02                77.537902   \n",
       "2         60.000000         0.04                60.000016   \n",
       "3         45.108747         0.06                45.108758   \n",
       "4         31.937515         0.08                31.937520   \n",
       "5         20.000000         0.10                20.000000   \n",
       "\n",
       "   |Erro| Interpolação [°C]  Temp. Resistências [°C]  |Erro| Resistências [°C]  \n",
       "0                  0.000000               100.000000                  0.000000  \n",
       "1                  0.000015                77.208715                  0.329172  \n",
       "2                  0.000016                59.724978                  0.275022  \n",
       "3                  0.000011                44.927780                  0.180967  \n",
       "4                  0.000005                31.850469                  0.087046  \n",
       "5                  0.000000                20.000000                  0.000000  "
      ]
     },
     "execution_count": 19,
     "metadata": {},
     "output_type": "execute_result"
    }
   ],
   "source": [
    "tabela_Temp = DataFrame()\n",
    "\n",
    "tabela_Temp['Temperatura [°C]'] = T_analitico_tabela.round(6).tolist()\n",
    "tabela_Temp['Posição [m]'] = x.round(6)\n",
    "#tabela_Temp['Temp. Resistências [°C]'] = T_resistencias.round(6).tolist()\n",
    "#tabela_Temp['Erro Resistências [°C]'] = np.absolute(T_exata_tabela-T_resistencias).round(6).tolist()\n",
    "\n",
    "tabela_Temp['Temp. Interpolação [°C]'] = T_interpolacao.round(6).tolist()\n",
    "tabela_Temp['|Erro| Interpolação [°C]'] = np.absolute(T_analitico_tabela-T_interpolacao).round(6).tolist()\n",
    "\n",
    "tabela_Temp['Temp. Resistências [°C]'] = T_resistencias.round(6).tolist()\n",
    "tabela_Temp['|Erro| Resistências [°C]'] = np.absolute(T_analitico_tabela-T_resistencias).round(6).tolist()\n",
    "\n",
    "tabela_Temp"
   ]
  },
  {
   "cell_type": "code",
   "execution_count": 20,
   "metadata": {
    "collapsed": false
   },
   "outputs": [
    {
     "data": {
      "text/plain": [
       "32"
      ]
     },
     "execution_count": 20,
     "metadata": {},
     "output_type": "execute_result"
    }
   ],
   "source": [
    "n"
   ]
  },
  {
   "cell_type": "code",
   "execution_count": null,
   "metadata": {
    "collapsed": true
   },
   "outputs": [],
   "source": []
  }
 ],
 "metadata": {
  "kernelspec": {
   "display_name": "Python [default]",
   "language": "python",
   "name": "python3"
  },
  "language_info": {
   "codemirror_mode": {
    "name": "ipython",
    "version": 3
   },
   "file_extension": ".py",
   "mimetype": "text/x-python",
   "name": "python",
   "nbconvert_exporter": "python",
   "pygments_lexer": "ipython3",
   "version": "3.5.2"
  }
 },
 "nbformat": 4,
 "nbformat_minor": 2
}
