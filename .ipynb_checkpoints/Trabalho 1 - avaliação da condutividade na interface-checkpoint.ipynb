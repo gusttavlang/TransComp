{
 "cells": [
  {
   "cell_type": "code",
   "execution_count": 1,
   "metadata": {
    "collapsed": false
   },
   "outputs": [],
   "source": [
    "import numpy as np\n",
    "from scipy import *"
   ]
  },
  {
   "cell_type": "code",
   "execution_count": 5,
   "metadata": {
    "collapsed": false
   },
   "outputs": [],
   "source": [
    "#ke por interpolação linear\n",
    "\n",
    "ka = 10 #W/m°C \n",
    "kb = 1 #W/m°C\n",
    "La = 73 #mm\n",
    "Lb = 17 #mm\n",
    "h = 80 ##W/m²°C\n",
    "T_infinito = 20 #°C\n",
    "q0 = 4000 #W/m\n",
    "A = 1 #m²; área transversal hipotética\n",
    "q_ponto = 0 #problema sem geração\n",
    "\n",
    "'''\n",
    "for k in [ka,kb]:\n",
    "    for \n",
    "\n",
    "'''\n",
    "\n",
    "meshA = 9\n",
    "meshB = 5\n",
    "\n",
    "Matrix_coef_a = np.zeros((meshA+meshB,meshA+meshB))\n",
    "Matrix_coef_b = np.zeros((meshA+meshB,1))\n",
    "\n",
    "deltax_A = La/(meshA-0.5)\n",
    "deltax_B = Lb/(meshB-0.5)\n",
    "\n",
    "for volume in range(meshA):\n",
    "    if (volume == 0):\n",
    "        ae = ka*A/(deltax_A/2)\n",
    "        ap = ae\n",
    "        b = q_ponto*A*deltax_A/2 + q0*A\n",
    "        \n",
    "        Matrix_coef_a[1,1] = ap\n",
    "        Matrix_coef_a[1,2] = -ae\n",
    "        Matrix_coef_b[1,1] = b\n",
    "        \n",
    "    if (volume != 0) and (volume != meshA-1):\n",
    "        ae = ka*A/(deltax_A)\n",
    "        aw = ae\n",
    "        ap = ae + aw\n",
    "        b = q_ponto*A*deltax_A\n",
    "        \n",
    "        Matrix_coef_a[volume,volume] = ap\n",
    "        Matrix_coef_a[volume,volume+1] = -ae\n",
    "        Matrix_coef_a[volume,volume-1] = -aw\n",
    "        Matrix_coef_b[volume,1] = b\n",
    "        \n",
    "    if (volume == meshA):\n",
    "        fe = deltax_B/(deltax_A+deltax_B)  #verificar\n",
    "        ke = fe*ka + (1-fe)*kb\n",
    "        \n",
    "        ae = ke*A/(deltax_A)\n",
    "        aw = ka*A/(deltax_A)\n",
    "        ap = ae + aw\n",
    "        b = q_ponto*A*deltax_A\n",
    "        \n",
    "        \n",
    "        \n"
   ]
  },
  {
   "cell_type": "code",
   "execution_count": null,
   "metadata": {
    "collapsed": true
   },
   "outputs": [],
   "source": []
  }
 ],
 "metadata": {
  "anaconda-cloud": {},
  "kernelspec": {
   "display_name": "Python [default]",
   "language": "python",
   "name": "python3"
  },
  "language_info": {
   "codemirror_mode": {
    "name": "ipython",
    "version": 3
   },
   "file_extension": ".py",
   "mimetype": "text/x-python",
   "name": "python",
   "nbconvert_exporter": "python",
   "pygments_lexer": "ipython3",
   "version": "3.5.2"
  }
 },
 "nbformat": 4,
 "nbformat_minor": 2
}
