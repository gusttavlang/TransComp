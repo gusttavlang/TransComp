{
 "cells": [
  {
   "cell_type": "code",
   "execution_count": 11,
   "metadata": {
    "collapsed": false
   },
   "outputs": [],
   "source": [
    "import numpy as np\n",
    "from scipy import *"
   ]
  },
  {
   "cell_type": "code",
   "execution_count": 12,
   "metadata": {
    "collapsed": false
   },
   "outputs": [],
   "source": [
    "ka = 10 #W/m°C \n",
    "kb = 1 #W/m°C\n",
    "La = 73 #mm\n",
    "Lb = 17 #mm\n",
    "h = 80 ##W/m²°C\n",
    "T_infinito = 20 #°C\n",
    "q0 = 4000 #W/m\n",
    "A = 1 #m²; área transversal hipotética\n",
    "\n",
    "'''\n",
    "for k in [ka,kb]:\n",
    "    for \n",
    "\n",
    "'''\n",
    "\n",
    "meshA = 9\n",
    "meshB = 5\n",
    "\n",
    "deltax_A = La/meshA\n",
    "\n",
    "#para matarial A\n",
    "k = ka\n",
    "\n",
    "\n",
    "ae = k*A/deltax_A"
   ]
  },
  {
   "cell_type": "code",
   "execution_count": null,
   "metadata": {
    "collapsed": true
   },
   "outputs": [],
   "source": []
  }
 ],
 "metadata": {
  "kernelspec": {
   "display_name": "Python 3",
   "language": "python",
   "name": "python3"
  },
  "language_info": {
   "codemirror_mode": {
    "name": "ipython",
    "version": 3
   },
   "file_extension": ".py",
   "mimetype": "text/x-python",
   "name": "python",
   "nbconvert_exporter": "python",
   "pygments_lexer": "ipython3",
   "version": "3.6.0"
  }
 },
 "nbformat": 4,
 "nbformat_minor": 2
}
