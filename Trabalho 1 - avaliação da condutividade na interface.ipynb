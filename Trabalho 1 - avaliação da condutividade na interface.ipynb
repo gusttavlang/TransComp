{
 "cells": [
  {
   "cell_type": "code",
   "execution_count": 16,
   "metadata": {
    "collapsed": false
   },
   "outputs": [],
   "source": [
    "import numpy as np\n",
    "from scipy.linalg import *\n",
    "import matplotlib as plt"
   ]
  },
  {
   "cell_type": "code",
   "execution_count": 53,
   "metadata": {
    "collapsed": false
   },
   "outputs": [],
   "source": [
    "#Definição das propriedades e mesh\n",
    "\n",
    "ka = 10 #W/m°C \n",
    "kb = 1 #W/m°C\n",
    "La = 0.073 #m\n",
    "Lb = 0.017 #m\n",
    "h = 80 ##W/m²°C\n",
    "T_infinito = 20 #°C\n",
    "q0 = 4000 #W/m²\n",
    "A = 1 #m²; área transversal hipotética\n",
    "q_ponto = 0 #problema sem geração\n",
    "\n",
    "\n",
    "\n",
    "meshA = 5\n",
    "meshB = 3\n",
    "\n",
    "Matrix_coef_a = np.zeros((meshA+meshB,meshA+meshB))\n",
    "Matrix_coef_b = np.zeros((meshA+meshB,1))\n",
    "\n",
    "deltax_A = La/(meshA-0.5)\n",
    "deltax_B = Lb/(meshB-0.5)\n"
   ]
  },
  {
   "cell_type": "code",
   "execution_count": 54,
   "metadata": {
    "collapsed": false
   },
   "outputs": [],
   "source": [
    "#ke por interpolação linear\n",
    "\n",
    "for volume in range(meshA):\n",
    "    if (volume == 0):\n",
    "        ae = ka*A/(deltax_A/2)\n",
    "        ap = ae\n",
    "        b = q_ponto*A*deltax_A/2 + q0*A\n",
    "        \n",
    "        Matrix_coef_a[volume,volume] = ap\n",
    "        Matrix_coef_a[volume,volume+1] = -ae\n",
    "        Matrix_coef_b[volume] = b\n",
    "        \n",
    "    if (volume != 0) and (volume != meshA-1):\n",
    "        ae = ka*A/(deltax_A)\n",
    "        aw = ae\n",
    "        ap = ae + aw\n",
    "        b = q_ponto*A*deltax_A\n",
    "        \n",
    "        Matrix_coef_a[volume,volume] = ap\n",
    "        Matrix_coef_a[volume,volume+1] = -ae\n",
    "        Matrix_coef_a[volume,volume-1] = -aw\n",
    "        Matrix_coef_b[volume] = b\n",
    "        \n",
    "    if (volume == meshA-1):\n",
    "        fe = deltax_A/(deltax_A+deltax_B)  #verificar\n",
    "        ke = fe*ka + (1-fe)*kb\n",
    "        \n",
    "        ae = ke*A/((deltax_A+deltax_B)/2)\n",
    "        aw = ka*A/(deltax_A)\n",
    "        ap = ae + aw\n",
    "        b = q_ponto*A*deltax_A\n",
    "        \n",
    "        Matrix_coef_a[volume,volume] = ap\n",
    "        Matrix_coef_a[volume,volume+1] = -ae\n",
    "        Matrix_coef_a[volume,volume-1] = -aw\n",
    "        Matrix_coef_b[volume] = b\n",
    "        \n",
    "        \n",
    "for volume in range(meshB):\n",
    "    if (volume == 0):\n",
    "        fw = deltax_A/(deltax_A+deltax_B)  #verificar\n",
    "        kw = fw*ka + (1-fw)*kb\n",
    "        \n",
    "        aw = kw*A/((deltax_A+deltax_B)/2)\n",
    "        ae = kb*A/(deltax_B)\n",
    "        ap = ae + aw\n",
    "        b = q_ponto*A*deltax_B\n",
    "        \n",
    "        Matrix_coef_a[meshA + volume,meshA + volume] = ap\n",
    "        Matrix_coef_a[meshA + volume,meshA + volume+1] = -ae\n",
    "        Matrix_coef_a[meshA + volume,meshA + volume-1] = -aw\n",
    "        Matrix_coef_b[meshA + volume] = b\n",
    "        \n",
    "        \n",
    "    if (volume != 0) and (volume != meshB-1):\n",
    "        ae = kb*A/(deltax_B)\n",
    "        aw = ae\n",
    "        ap = ae + aw\n",
    "        b = q_ponto*A*deltax_B\n",
    "        \n",
    "        Matrix_coef_a[meshA + volume,meshA + volume] = ap\n",
    "        Matrix_coef_a[meshA + volume,meshA + volume+1] = -ae\n",
    "        Matrix_coef_a[meshA + volume,meshA + volume-1] = -aw\n",
    "        Matrix_coef_b[meshA + volume] = b\n",
    "        \n",
    "        \n",
    "    if (volume == meshB-1):\n",
    "        aw = kb*A/(deltax_B)\n",
    "        aw_f = h*A\n",
    "        ap = aw + aw_f\n",
    "        b = q_ponto*A*deltax_B +aw_f * T_infinito\n",
    "        \n",
    "        Matrix_coef_a[meshA + volume,meshA + volume] = ap\n",
    "        Matrix_coef_a[meshA + volume,meshA + volume-1] = -aw\n",
    "        Matrix_coef_b[meshA + volume] = b\n",
    "        \n",
    "        \n",
    "T_interpolacao = solve(Matrix_coef_a,Matrix_coef_b)\n",
    "        \n"
   ]
  },
  {
   "cell_type": "code",
   "execution_count": 55,
   "metadata": {
    "collapsed": false
   },
   "outputs": [
    {
     "data": {
      "text/plain": [
       "array([[ 1232.87671233, -1232.87671233,     0.        ,     0.        ,\n",
       "            0.        ,     0.        ,     0.        ,     0.        ],\n",
       "       [ -616.43835616,  1232.87671233,  -616.43835616,     0.        ,\n",
       "            0.        ,     0.        ,     0.        ,     0.        ],\n",
       "       [    0.        ,  -616.43835616,  1232.87671233,  -616.43835616,\n",
       "            0.        ,     0.        ,     0.        ,     0.        ],\n",
       "       [    0.        ,     0.        ,  -616.43835616,  1232.87671233,\n",
       "         -616.43835616,     0.        ,     0.        ,     0.        ],\n",
       "       [    0.        ,     0.        ,     0.        ,  -616.43835616,\n",
       "         1254.23072658,  -637.79237042,     0.        ,     0.        ],\n",
       "       [    0.        ,     0.        ,     0.        ,     0.        ,\n",
       "         -637.79237042,   784.85119395,  -147.05882353,     0.        ],\n",
       "       [    0.        ,     0.        ,     0.        ,     0.        ,\n",
       "            0.        ,  -147.05882353,   294.11764706,  -147.05882353],\n",
       "       [    0.        ,     0.        ,     0.        ,     0.        ,\n",
       "            0.        ,     0.        ,  -147.05882353,   227.05882353]])"
      ]
     },
     "execution_count": 55,
     "metadata": {},
     "output_type": "execute_result"
    }
   ],
   "source": [
    "Matrix_coef_a"
   ]
  },
  {
   "cell_type": "code",
   "execution_count": 56,
   "metadata": {
    "collapsed": false
   },
   "outputs": [
    {
     "data": {
      "text/plain": [
       "array([[ 4000.],\n",
       "       [    0.],\n",
       "       [    0.],\n",
       "       [    0.],\n",
       "       [    0.],\n",
       "       [    0.],\n",
       "       [    0.],\n",
       "       [ 1600.]])"
      ]
     },
     "execution_count": 56,
     "metadata": {},
     "output_type": "execute_result"
    }
   ],
   "source": [
    "Matrix_coef_b"
   ]
  },
  {
   "cell_type": "code",
   "execution_count": 57,
   "metadata": {
    "collapsed": false
   },
   "outputs": [
    {
     "data": {
      "text/plain": [
       "array([[ 88.31359453],\n",
       "       [ 85.06915009],\n",
       "       [ 81.82470564],\n",
       "       [ 78.5802612 ],\n",
       "       [ 75.33581675],\n",
       "       [ 72.2       ],\n",
       "       [ 58.6       ],\n",
       "       [ 45.        ]])"
      ]
     },
     "execution_count": 57,
     "metadata": {},
     "output_type": "execute_result"
    }
   ],
   "source": [
    "T_interpolacao"
   ]
  },
  {
   "cell_type": "code",
   "execution_count": null,
   "metadata": {
    "collapsed": true
   },
   "outputs": [],
   "source": []
  }
 ],
 "metadata": {
  "anaconda-cloud": {},
  "kernelspec": {
   "display_name": "Python [default]",
   "language": "python",
   "name": "python3"
  },
  "language_info": {
   "codemirror_mode": {
    "name": "ipython",
    "version": 3
   },
   "file_extension": ".py",
   "mimetype": "text/x-python",
   "name": "python",
   "nbconvert_exporter": "python",
   "pygments_lexer": "ipython3",
   "version": "3.5.2"
  }
 },
 "nbformat": 4,
 "nbformat_minor": 2
}
