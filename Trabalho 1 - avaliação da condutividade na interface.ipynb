{
 "cells": [
  {
   "cell_type": "code",
   "execution_count": 1,
   "metadata": {
    "collapsed": false
   },
   "outputs": [],
   "source": [
    "import numpy as np\n",
    "from scipy.linalg import *\n",
    "import matplotlib.pyplot as plt"
   ]
  },
  {
   "cell_type": "code",
   "execution_count": 2,
   "metadata": {
    "collapsed": false
   },
   "outputs": [],
   "source": [
    "#Definição das propriedades e mesh\n",
    "\n",
    "ka = 10 #W/m°C \n",
    "kb = 1 #W/m°C\n",
    "La = 0.073 #m\n",
    "Lb = 0.017 #m\n",
    "h = 80 ##W/m²°C\n",
    "T_infinito = 20 #°C\n",
    "q0 = 4000 #W/m²\n",
    "A = 1 #m²; área transversal hipotética\n",
    "q_ponto = 0 #problema sem geração\n",
    "\n",
    "\n",
    "\n",
    "meshA = 7\n",
    "meshB = 3\n",
    "\n",
    "Matrix_coef_a = np.zeros((meshA+meshB,meshA+meshB))\n",
    "Matrix_coef_b = np.zeros((meshA+meshB,1))\n",
    "x_plot = np.zeros((meshA+meshB,1))\n",
    "\n",
    "deltax_A = La/(meshA-0.5)\n",
    "deltax_B = Lb/(meshB-0.5)\n",
    "\n",
    "\n"
   ]
  },
  {
   "cell_type": "code",
   "execution_count": 13,
   "metadata": {
    "collapsed": false
   },
   "outputs": [],
   "source": [
    "#ke por interpolação linear\n",
    "\n",
    "for volume in range(meshA):\n",
    "    if (volume == 0):\n",
    "        ae = ka*A/(deltax_A)\n",
    "        ap = ae\n",
    "        b = q_ponto*A*deltax_A/2 + q0*A\n",
    "                \n",
    "        Matrix_coef_a[volume,volume] = ap\n",
    "        Matrix_coef_a[volume,volume+1] = -ae\n",
    "        Matrix_coef_b[volume] = b\n",
    "        x_plot[volume] = 0\n",
    "        \n",
    "    if (volume != 0) and (volume != meshA-1):\n",
    "        ae = ka*A/(deltax_A)\n",
    "        aw = ae\n",
    "        ap = ae + aw\n",
    "        b = q_ponto*A*deltax_A\n",
    "        \n",
    "        Matrix_coef_a[volume,volume] = ap\n",
    "        Matrix_coef_a[volume,volume+1] = -ae\n",
    "        Matrix_coef_a[volume,volume-1] = -aw\n",
    "        Matrix_coef_b[volume] = b\n",
    "        x_plot[volume] = x_plot[volume-1] + deltax_A \n",
    "        \n",
    "    if (volume == meshA-1):\n",
    "        fe = deltax_B/(deltax_A+deltax_B)  \n",
    "        ke = fe*ka + (1-fe)*kb\n",
    "        \n",
    "        ae = ke*A/((deltax_A+deltax_B)/2)\n",
    "        aw = ka*A/(deltax_A)\n",
    "        ap = ae + aw\n",
    "        b = q_ponto*A*deltax_A\n",
    "        \n",
    "        Matrix_coef_a[volume,volume] = ap\n",
    "        Matrix_coef_a[volume,volume+1] = -ae\n",
    "        Matrix_coef_a[volume,volume-1] = -aw\n",
    "        Matrix_coef_b[volume] = b\n",
    "        x_plot[volume] = x_plot[volume-1] + deltax_A\n",
    "    \n",
    "        \n",
    "        \n",
    "for volume in range(meshB):\n",
    "    if (volume == 0):\n",
    "        fw = deltax_B/(deltax_A+deltax_B) \n",
    "        kw = fw*ka + (1-fw)*kb\n",
    "        \n",
    "        aw = kw*A/((deltax_A+deltax_B)/2)\n",
    "        ae = kb*A/(deltax_B)\n",
    "        ap = ae + aw\n",
    "        b = q_ponto*A*deltax_B\n",
    "        \n",
    "        Matrix_coef_a[meshA + volume,meshA + volume] = ap\n",
    "        Matrix_coef_a[meshA + volume,meshA + volume+1] = -ae\n",
    "        Matrix_coef_a[meshA + volume,meshA + volume-1] = -aw\n",
    "        Matrix_coef_b[meshA + volume] = b\n",
    "        x_plot[meshA + volume] = x_plot[meshA + volume-1] + (deltax_A+deltax_B)/2\n",
    "        \n",
    "        \n",
    "    if (volume != 0) and (volume != meshB-1):\n",
    "        ae = kb*A/(deltax_B)\n",
    "        aw = ae\n",
    "        ap = ae + aw\n",
    "        b = q_ponto*A*deltax_B\n",
    "        \n",
    "        Matrix_coef_a[meshA + volume,meshA + volume] = ap\n",
    "        Matrix_coef_a[meshA + volume,meshA + volume+1] = -ae\n",
    "        Matrix_coef_a[meshA + volume,meshA + volume-1] = -aw\n",
    "        Matrix_coef_b[meshA + volume] = b\n",
    "        x_plot[meshA + volume] = x_plot[meshA + volume-1] + deltax_B\n",
    "        \n",
    "    if (volume == meshB-1):\n",
    "        aw = kb*A/(deltax_B)\n",
    "        aw_f = h*A\n",
    "        ap = aw + aw_f\n",
    "        b = q_ponto*A*deltax_B +aw_f * T_infinito\n",
    "        \n",
    "        Matrix_coef_a[meshA + volume,meshA + volume] = ap\n",
    "        Matrix_coef_a[meshA + volume,meshA + volume-1] = -aw\n",
    "        Matrix_coef_b[meshA + volume] = b\n",
    "        x_plot[meshA+meshB-1] = 0.09\n",
    "        \n",
    "        \n",
    "T_interpolacao = solve(Matrix_coef_a,Matrix_coef_b)\n",
    "        \n"
   ]
  },
  {
   "cell_type": "code",
   "execution_count": 14,
   "metadata": {
    "collapsed": false
   },
   "outputs": [
    {
     "data": {
      "text/plain": [
       "array([[  890.4109589 ,  -890.4109589 ,     0.        ,     0.        ,\n",
       "            0.        ,     0.        ,     0.        ,     0.        ,\n",
       "            0.        ,     0.        ],\n",
       "       [ -890.4109589 ,  1780.82191781,  -890.4109589 ,     0.        ,\n",
       "            0.        ,     0.        ,     0.        ,     0.        ,\n",
       "            0.        ,     0.        ],\n",
       "       [    0.        ,  -890.4109589 ,  1780.82191781,  -890.4109589 ,\n",
       "            0.        ,     0.        ,     0.        ,     0.        ,\n",
       "            0.        ,     0.        ],\n",
       "       [    0.        ,     0.        ,  -890.4109589 ,  1780.82191781,\n",
       "         -890.4109589 ,     0.        ,     0.        ,     0.        ,\n",
       "            0.        ,     0.        ],\n",
       "       [    0.        ,     0.        ,     0.        ,  -890.4109589 ,\n",
       "         1780.82191781,  -890.4109589 ,     0.        ,     0.        ,\n",
       "            0.        ,     0.        ],\n",
       "       [    0.        ,     0.        ,     0.        ,     0.        ,\n",
       "         -890.4109589 ,  1780.82191781,  -890.4109589 ,     0.        ,\n",
       "            0.        ,     0.        ],\n",
       "       [    0.        ,     0.        ,     0.        ,     0.        ,\n",
       "            0.        ,  -890.4109589 ,  1377.82199456,  -487.41103566,\n",
       "            0.        ,     0.        ],\n",
       "       [    0.        ,     0.        ,     0.        ,     0.        ,\n",
       "            0.        ,     0.        ,  -487.41103566,   634.46985919,\n",
       "         -147.05882353,     0.        ],\n",
       "       [    0.        ,     0.        ,     0.        ,     0.        ,\n",
       "            0.        ,     0.        ,     0.        ,  -147.05882353,\n",
       "          294.11764706,  -147.05882353],\n",
       "       [    0.        ,     0.        ,     0.        ,     0.        ,\n",
       "            0.        ,     0.        ,     0.        ,     0.        ,\n",
       "         -147.05882353,   227.05882353]])"
      ]
     },
     "execution_count": 14,
     "metadata": {},
     "output_type": "execute_result"
    }
   ],
   "source": [
    "Matrix_coef_a"
   ]
  },
  {
   "cell_type": "code",
   "execution_count": 15,
   "metadata": {
    "collapsed": false
   },
   "outputs": [
    {
     "data": {
      "text/plain": [
       "array([[ 4000.],\n",
       "       [    0.],\n",
       "       [    0.],\n",
       "       [    0.],\n",
       "       [    0.],\n",
       "       [    0.],\n",
       "       [    0.],\n",
       "       [    0.],\n",
       "       [    0.],\n",
       "       [ 1600.]])"
      ]
     },
     "execution_count": 15,
     "metadata": {},
     "output_type": "execute_result"
    }
   ],
   "source": [
    "Matrix_coef_b"
   ]
  },
  {
   "cell_type": "code",
   "execution_count": 16,
   "metadata": {
    "collapsed": false
   },
   "outputs": [
    {
     "data": {
      "text/plain": [
       "array([[ 159.56047199],\n",
       "       [ 155.0681643 ],\n",
       "       [ 150.57585661],\n",
       "       [ 146.08354892],\n",
       "       [ 141.59124122],\n",
       "       [ 137.09893353],\n",
       "       [ 132.60662584],\n",
       "       [ 124.4       ],\n",
       "       [  97.2       ],\n",
       "       [  70.        ]])"
      ]
     },
     "execution_count": 16,
     "metadata": {},
     "output_type": "execute_result"
    }
   ],
   "source": [
    "T_interpolacao"
   ]
  },
  {
   "cell_type": "code",
   "execution_count": 17,
   "metadata": {
    "collapsed": false
   },
   "outputs": [
    {
     "data": {
      "text/plain": [
       "[<matplotlib.lines.Line2D at 0x854d518>]"
      ]
     },
     "execution_count": 17,
     "metadata": {},
     "output_type": "execute_result"
    },
    {
     "data": {
      "image/png": "[encoded data removed]",
      "text/plain": [
       "<matplotlib.figure.Figure at 0x7e80550>"
      ]
     },
     "metadata": {},
     "output_type": "display_data"
    }
   ],
   "source": [
    "%matplotlib inline\n",
    "fig = plt.figure()\n",
    "axis = fig.add_subplot(111)\n",
    "    \n",
    "axis.set_ylabel('T [°C]')\n",
    "axis.set_xlabel('x [mm]')\n",
    "axis.set_title('')\n",
    "    \n",
    "axis.plot(x_plot, T_interpolacao)\n"
   ]
  },
  {
   "cell_type": "code",
   "execution_count": 18,
   "metadata": {
    "collapsed": false
   },
   "outputs": [
    {
     "data": {
      "text/plain": [
       "array([[ 0.        ],\n",
       "       [ 0.01123077],\n",
       "       [ 0.02246154],\n",
       "       [ 0.03369231],\n",
       "       [ 0.04492308],\n",
       "       [ 0.05615385],\n",
       "       [ 0.06738462],\n",
       "       [ 0.0764    ],\n",
       "       [ 0.0832    ],\n",
       "       [ 0.09      ]])"
      ]
     },
     "execution_count": 18,
     "metadata": {},
     "output_type": "execute_result"
    }
   ],
   "source": [
    "x_plot"
   ]
  },
  {
   "cell_type": "code",
   "execution_count": null,
   "metadata": {
    "collapsed": true
   },
   "outputs": [],
   "source": []
  }
 ],
 "metadata": {
  "anaconda-cloud": {},
  "kernelspec": {
   "display_name": "Python [default]",
   "language": "python",
   "name": "python3"
  },
  "language_info": {
   "codemirror_mode": {
    "name": "ipython",
    "version": 3
   },
   "file_extension": ".py",
   "mimetype": "text/x-python",
   "name": "python",
   "nbconvert_exporter": "python",
   "pygments_lexer": "ipython3",
   "version": "3.5.2"
  }
 },
 "nbformat": 4,
 "nbformat_minor": 2
}
