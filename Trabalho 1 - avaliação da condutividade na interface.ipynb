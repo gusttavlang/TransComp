{
 "cells": [
  {
   "cell_type": "code",
   "execution_count": 1,
   "metadata": {
    "collapsed": false
   },
   "outputs": [],
   "source": [
    "import numpy as np\n",
    "from scipy.linalg import *\n",
    "import matplotlib.pyplot as plt"
   ]
  },
  {
   "cell_type": "code",
   "execution_count": 23,
   "metadata": {
    "collapsed": false
   },
   "outputs": [],
   "source": [
    "#Definição das propriedades e mesh\n",
    "\n",
    "ka = 10 #W/m°C \n",
    "kb = 1 #W/m°C\n",
    "La = 0.073 #m\n",
    "Lb = 0.017 #m\n",
    "h = 80 ##W/m²°C\n",
    "T_infinito = 20 #°C\n",
    "q0 = 4000 #W/m²\n",
    "A = 1 #m²; área transversal hipotética\n",
    "q_ponto = 0 #problema sem geração\n",
    "\n",
    "\n",
    "\n",
    "meshA = 10\n",
    "meshB = 10\n",
    "\n",
    "Matrix_coef_a = np.zeros((meshA+meshB,meshA+meshB))\n",
    "Matrix_coef_b = np.zeros((meshA+meshB,1))\n",
    "x_plot = np.zeros((meshA+meshB,1))\n",
    "\n",
    "deltax_A = La/(meshA-0.5)\n",
    "deltax_B = Lb/(meshB-0.5)\n",
    "\n",
    "\n"
   ]
  },
  {
   "cell_type": "code",
   "execution_count": 24,
   "metadata": {
    "collapsed": false
   },
   "outputs": [],
   "source": [
    "#ke por interpolação linear\n",
    "\n",
    "for volume in range(meshA):\n",
    "    if (volume == 0):\n",
    "        ae = ka*A/(deltax_A)\n",
    "        ap = ae\n",
    "        b = q_ponto*A*deltax_A/2 + q0*A\n",
    "                \n",
    "        Matrix_coef_a[volume,volume] = ap\n",
    "        Matrix_coef_a[volume,volume+1] = -ae\n",
    "        Matrix_coef_b[volume] = b\n",
    "        x_plot[volume] = 0\n",
    "        \n",
    "    if (volume != 0) and (volume != meshA-1):\n",
    "        ae = ka*A/(deltax_A)\n",
    "        aw = ae\n",
    "        ap = ae + aw\n",
    "        b = q_ponto*A*deltax_A\n",
    "        \n",
    "        Matrix_coef_a[volume,volume] = ap\n",
    "        Matrix_coef_a[volume,volume+1] = -ae\n",
    "        Matrix_coef_a[volume,volume-1] = -aw\n",
    "        Matrix_coef_b[volume] = b\n",
    "        x_plot[volume] = x_plot[volume-1] + deltax_A \n",
    "        \n",
    "    if (volume == meshA-1):\n",
    "        fe = deltax_B/(deltax_A+deltax_B)  \n",
    "        ke = fe*ka + (1-fe)*kb\n",
    "        \n",
    "        ae = ke*A/((deltax_A+deltax_B)/2)\n",
    "        aw = ka*A/(deltax_A)\n",
    "        ap = ae + aw\n",
    "        b = q_ponto*A*deltax_A\n",
    "        \n",
    "        Matrix_coef_a[volume,volume] = ap\n",
    "        Matrix_coef_a[volume,volume+1] = -ae\n",
    "        Matrix_coef_a[volume,volume-1] = -aw\n",
    "        Matrix_coef_b[volume] = b\n",
    "        x_plot[volume] = x_plot[volume-1] + deltax_A\n",
    "    \n",
    "        \n",
    "        \n",
    "for volume in range(meshB):\n",
    "    if (volume == 0):\n",
    "        kw = fe*ka + (1-fe)*kb\n",
    "        \n",
    "        aw = kw*A/((deltax_A+deltax_B)/2)\n",
    "        ae = kb*A/(deltax_B)\n",
    "        ap = ae + aw\n",
    "        b = q_ponto*A*deltax_B\n",
    "        \n",
    "        Matrix_coef_a[meshA + volume,meshA + volume] = ap\n",
    "        Matrix_coef_a[meshA + volume,meshA + volume+1] = -ae\n",
    "        Matrix_coef_a[meshA + volume,meshA + volume-1] = -aw\n",
    "        Matrix_coef_b[meshA + volume] = b\n",
    "        x_plot[meshA + volume] = x_plot[meshA + volume-1] + (deltax_A+deltax_B)/2\n",
    "        \n",
    "        \n",
    "    if (volume != 0) and (volume != meshB-1):\n",
    "        ae = kb*A/(deltax_B)\n",
    "        aw = ae\n",
    "        ap = ae + aw\n",
    "        b = q_ponto*A*deltax_B\n",
    "        \n",
    "        Matrix_coef_a[meshA + volume,meshA + volume] = ap\n",
    "        Matrix_coef_a[meshA + volume,meshA + volume+1] = -ae\n",
    "        Matrix_coef_a[meshA + volume,meshA + volume-1] = -aw\n",
    "        Matrix_coef_b[meshA + volume] = b\n",
    "        x_plot[meshA + volume] = x_plot[meshA + volume-1] + deltax_B\n",
    "        \n",
    "    if (volume == meshB-1):\n",
    "        aw = kb*A/(deltax_B)\n",
    "        aw_f = h*A\n",
    "        ap = aw + aw_f\n",
    "        b = q_ponto*A*deltax_B +aw_f * T_infinito\n",
    "        \n",
    "        Matrix_coef_a[meshA + volume,meshA + volume] = ap\n",
    "        Matrix_coef_a[meshA + volume,meshA + volume-1] = -aw\n",
    "        Matrix_coef_b[meshA + volume] = b\n",
    "        x_plot[meshA+meshB-1] = 0.09\n",
    "        \n",
    "        \n",
    "T_interpolacao = solve(Matrix_coef_a,Matrix_coef_b)\n",
    "x_plot = x_plot*1000 #conversão em mm        \n"
   ]
  },
  {
   "cell_type": "code",
   "execution_count": 25,
   "metadata": {
    "collapsed": true
   },
   "outputs": [],
   "source": [
    "#ke por resitências térmicas\n",
    "#essa parte do código poderia ser simplificada, mas por questões\n",
    "#de facilidade na correção ela foi mantida\n",
    "\n",
    "for volume in range(meshA):\n",
    "    if (volume == 0):\n",
    "        ae = ka*A/(deltax_A)\n",
    "        ap = ae\n",
    "        b = q_ponto*A*deltax_A/2 + q0*A\n",
    "                \n",
    "        Matrix_coef_a[volume,volume] = ap\n",
    "        Matrix_coef_a[volume,volume+1] = -ae\n",
    "        Matrix_coef_b[volume] = b\n",
    "        x_plot[volume] = 0\n",
    "        \n",
    "    if (volume != 0) and (volume != meshA-1):\n",
    "        ae = ka*A/(deltax_A)\n",
    "        aw = ae\n",
    "        ap = ae + aw\n",
    "        b = q_ponto*A*deltax_A\n",
    "        \n",
    "        Matrix_coef_a[volume,volume] = ap\n",
    "        Matrix_coef_a[volume,volume+1] = -ae\n",
    "        Matrix_coef_a[volume,volume-1] = -aw\n",
    "        Matrix_coef_b[volume] = b\n",
    "        x_plot[volume] = x_plot[volume-1] + deltax_A \n",
    "        \n",
    "    if (volume == meshA-1):\n",
    "        fe = deltax_B/(deltax_A+deltax_B)  \n",
    "        ke = 1/((1-fe)/ka+fe/kb)\n",
    "        \n",
    "        ae = ke*A/((deltax_A+deltax_B)/2)\n",
    "        aw = ka*A/(deltax_A)\n",
    "        ap = ae + aw\n",
    "        b = q_ponto*A*deltax_A\n",
    "        \n",
    "        Matrix_coef_a[volume,volume] = ap\n",
    "        Matrix_coef_a[volume,volume+1] = -ae\n",
    "        Matrix_coef_a[volume,volume-1] = -aw\n",
    "        Matrix_coef_b[volume] = b\n",
    "        x_plot[volume] = x_plot[volume-1] + deltax_A\n",
    "    \n",
    "        \n",
    "        \n",
    "for volume in range(meshB):\n",
    "    if (volume == 0):\n",
    "        fw = deltax_B/(deltax_A+deltax_B) \n",
    "        kw = 1/((1-fw)/ka+fw/kb)                #verificar\n",
    "        \n",
    "        aw = kw*A/((deltax_A+deltax_B)/2)\n",
    "        ae = kb*A/(deltax_B)\n",
    "        ap = ae + aw\n",
    "        b = q_ponto*A*deltax_B\n",
    "        \n",
    "        Matrix_coef_a[meshA + volume,meshA + volume] = ap\n",
    "        Matrix_coef_a[meshA + volume,meshA + volume+1] = -ae\n",
    "        Matrix_coef_a[meshA + volume,meshA + volume-1] = -aw\n",
    "        Matrix_coef_b[meshA + volume] = b\n",
    "        x_plot[meshA + volume] = x_plot[meshA + volume-1] + (deltax_A+deltax_B)/2\n",
    "        \n",
    "        \n",
    "    if (volume != 0) and (volume != meshB-1):\n",
    "        ae = kb*A/(deltax_B)\n",
    "        aw = ae\n",
    "        ap = ae + aw\n",
    "        b = q_ponto*A*deltax_B\n",
    "        \n",
    "        Matrix_coef_a[meshA + volume,meshA + volume] = ap\n",
    "        Matrix_coef_a[meshA + volume,meshA + volume+1] = -ae\n",
    "        Matrix_coef_a[meshA + volume,meshA + volume-1] = -aw\n",
    "        Matrix_coef_b[meshA + volume] = b\n",
    "        x_plot[meshA + volume] = x_plot[meshA + volume-1] + deltax_B\n",
    "        \n",
    "    if (volume == meshB-1):\n",
    "        aw = kb*A/(deltax_B)\n",
    "        aw_f = h*A\n",
    "        ap = aw + aw_f\n",
    "        b = q_ponto*A*deltax_B +aw_f * T_infinito\n",
    "        \n",
    "        Matrix_coef_a[meshA + volume,meshA + volume] = ap\n",
    "        Matrix_coef_a[meshA + volume,meshA + volume-1] = -aw\n",
    "        Matrix_coef_b[meshA + volume] = b\n",
    "        x_plot[meshA+meshB-1] = 0.09\n",
    "        \n",
    "        \n",
    "T_resistencias = solve(Matrix_coef_a,Matrix_coef_b)\n",
    "x_plot = x_plot*1000 #conversão em mm        \n"
   ]
  },
  {
   "cell_type": "code",
   "execution_count": 45,
   "metadata": {
    "collapsed": false
   },
   "outputs": [],
   "source": [
    "#solução exata\n",
    "\n",
    "R_conv = 1/(h*A) #Resistência convecção\n",
    "R_A = La/(ka*A) #Resistência Material A\n",
    "R_B = Lb/(kb*A) #Resistência Material B\n",
    "\n",
    "x_plot_exata = [0,73,90] #pontos para plotar Temperatura\n",
    "\n",
    "T_exata = [q0*(R_conv+R_A+R_B)+T_infinito,q0*(R_conv+R_B)+T_infinito,q0*(R_conv)+T_infinito]\n",
    "\n",
    "\n",
    "#Para as tabelas:\n",
    "#Solução analítica: \n",
    "#T(x) = -400.x +167,2 para x<= La\n",
    "#T(x) = -4000.x +430 para x> La\n",
    "\n",
    "for x in range(meshA+meshB):\n",
    "    if (x_plot[x]<=73): \n",
    "        T_exata_tabela[x] = -400*x_plot[x]/1000 +167.2\n",
    "    if (x_plot[x]>73):\n",
    "        T_exata_tabela[x] = -4000*x_plot[x]/1000 +430"
   ]
  },
  {
   "cell_type": "code",
   "execution_count": 50,
   "metadata": {
    "collapsed": false
   },
   "outputs": [
    {
     "data": {
      "text/plain": [
       "(0, 90)"
      ]
     },
     "execution_count": 50,
     "metadata": {},
     "output_type": "execute_result"
    },
    {
     "data": {
      "image/png": "[encoded data removed]",
      "text/plain": [
       "<matplotlib.figure.Figure at 0x98e5a20>"
      ]
     },
     "metadata": {},
     "output_type": "display_data"
    }
   ],
   "source": [
    "%matplotlib inline\n",
    "fig = plt.figure(figsize=(8,6))\n",
    "axis = fig.add_subplot(111)    \n",
    "   \n",
    "axis.plot(x_plot, T_interpolacao,  color ='blue')\n",
    "axis.scatter(x_plot, T_interpolacao, color ='blue',label='Interpolação')\n",
    "\n",
    "axis.plot(x_plot, T_resistencias, color ='green')\n",
    "axis.scatter(x_plot, T_resistencias, color ='green',marker='^',label='Resistências')\n",
    "\n",
    "axis.plot(x_plot_exata,T_exata, label='Exata',color ='red')\n",
    "\n",
    "axis.set_ylabel('T [°C]')\n",
    "axis.set_xlabel('x [mm]')\n",
    "axis.set_title('')\n",
    "axis.legend(loc='best')\n",
    "axis.set_ylim(70,180)\n",
    "axis.set_xlim(0,90)\n"
   ]
  },
  {
   "cell_type": "code",
   "execution_count": 47,
   "metadata": {
    "collapsed": false
   },
   "outputs": [
    {
     "data": {
      "text/plain": [
       "array([[ 167.2       ],\n",
       "       [ 164.12631579],\n",
       "       [ 161.05263158],\n",
       "       [ 157.97894737],\n",
       "       [ 154.90526316],\n",
       "       [ 151.83157895],\n",
       "       [ 148.75789474],\n",
       "       [ 145.68421053],\n",
       "       [ 142.61052632],\n",
       "       [ 139.53684211],\n",
       "       [ 134.42105263],\n",
       "       [ 127.26315789],\n",
       "       [ 120.10526316],\n",
       "       [ 112.94736842],\n",
       "       [ 105.78947368],\n",
       "       [  98.63157895],\n",
       "       [  91.47368421],\n",
       "       [  84.31578947],\n",
       "       [  77.15789474],\n",
       "       [  70.        ]])"
      ]
     },
     "execution_count": 47,
     "metadata": {},
     "output_type": "execute_result"
    }
   ],
   "source": [
    "#tabelas com erros"
   ]
  },
  {
   "cell_type": "code",
   "execution_count": null,
   "metadata": {
    "collapsed": true
   },
   "outputs": [],
   "source": []
  }
 ],
 "metadata": {
  "anaconda-cloud": {},
  "kernelspec": {
   "display_name": "Python [default]",
   "language": "python",
   "name": "python3"
  },
  "language_info": {
   "codemirror_mode": {
    "name": "ipython",
    "version": 3
   },
   "file_extension": ".py",
   "mimetype": "text/x-python",
   "name": "python",
   "nbconvert_exporter": "python",
   "pygments_lexer": "ipython3",
   "version": "3.5.2"
  }
 },
 "nbformat": 4,
 "nbformat_minor": 2
}
