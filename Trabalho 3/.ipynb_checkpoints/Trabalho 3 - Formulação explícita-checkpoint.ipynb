{
 "cells": [
  {
   "cell_type": "code",
   "execution_count": 1,
   "metadata": {
    "collapsed": false
   },
   "outputs": [],
   "source": [
    "from math import *\n",
    "import numpy as np\n",
    "import matplotlib.pyplot as plt\n",
    "import pandas as pd\n",
    "from pandas import DataFrame,Series"
   ]
  },
  {
   "cell_type": "code",
   "execution_count": 2,
   "metadata": {
    "collapsed": false
   },
   "outputs": [],
   "source": [
    "L = 0.4 #m\n",
    "k =0.7\n",
    "cp = 700\n",
    "rho = 2000\n",
    "Ti = 20\n",
    "T_infinito = 100\n",
    "Bi = 0.8\n",
    "A = 1\n",
    "\n",
    "h = Bi *k/L"
   ]
  },
  {
   "cell_type": "code",
   "execution_count": 3,
   "metadata": {
    "collapsed": true
   },
   "outputs": [],
   "source": [
    "#função que retorna n valores de ksi\n",
    "def f(ksi):\n",
    "    y = ksi *tan(ksi) - Bi\n",
    "    \n",
    "    return y\n",
    "\n",
    "        "
   ]
  },
  {
   "cell_type": "code",
   "execution_count": 12,
   "metadata": {
    "collapsed": false
   },
   "outputs": [
    {
     "data": {
      "text/plain": [
       "array([-0.8])"
      ]
     },
     "execution_count": 12,
     "metadata": {},
     "output_type": "execute_result"
    },
    {
     "data": {
      "image/png": "[encoded data removed]",
      "text/plain": [
       "<matplotlib.figure.Figure at 0x9c5da20>"
      ]
     },
     "metadata": {},
     "output_type": "display_data"
    }
   ],
   "source": [
    "%matplotlib inline\n",
    "fig = plt.figure(figsize=(8,6))\n",
    "axis = fig.add_subplot(111)    \n",
    "#tentar ver função dps\n",
    "y=[]\n",
    "x = np.linspace(0,5,10)\n",
    "for i in range(x)\n",
    "y\n",
    "\n",
    "#axis.plot(x,f(x))"
   ]
  },
  {
   "cell_type": "code",
   "execution_count": 11,
   "metadata": {
    "collapsed": true
   },
   "outputs": [],
   "source": [
    "#tentativa falsa posição\n",
    "def ksi(n):\n",
    "    ksi_vector = []\n",
    "    \n",
    "    ksi = 0.5\n",
    "    eps = 1e-4\n",
    "    b=0\n",
    "    \n",
    "    for i in range(n):\n",
    "        while (abs(ksi * tan(ksi) - Bi) > eps):\n",
    "            a = ksi +b\n",
    "            \n",
    "            \n",
    "            \n",
    "            b=a/2\n",
    "            \n",
    "            \n",
    "        ksi_vector.append(ksi)\n",
    "        ksi = ksi + 2.3\n",
    "        \n",
    "    return ksi_vector\n",
    "\n",
    "    "
   ]
  },
  {
   "cell_type": "code",
   "execution_count": null,
   "metadata": {
    "collapsed": true
   },
   "outputs": [],
   "source": [
    "mesh = 5\n",
    "deltax = L/(mesh-1)\n",
    "\n",
    "time = 20\n",
    "deltat = 6000"
   ]
  },
  {
   "cell_type": "code",
   "execution_count": null,
   "metadata": {
    "collapsed": false
   },
   "outputs": [],
   "source": [
    "#método numérica\n",
    "\n",
    "T = np.zeros((time,mesh))\n",
    "M = rho * A * deltax\n",
    "x_plot = np.zeros(mesh)\n",
    "\n",
    "for volume in range(mesh):\n",
    "    T[0,volume] = 20\n",
    "    if volume>0:\n",
    "        x_plot[volume] = x_plot[volume-1] +deltax\n",
    "\n",
    "for t in range(1,time):\n",
    "    for volume in range(mesh):        \n",
    "    \n",
    "        if volume == 0:\n",
    "            ae = k*A/(deltax)\n",
    "            ap = M/2*cp/deltat\n",
    "            \n",
    "            T[t,volume] = (ae*T[t-1,volume+1] + (ap-ae)*T[t-1,volume])/ap\n",
    "            \n",
    "        if (volume > 0) and (volume < mesh-1):\n",
    "            ae = k*A/deltax\n",
    "            aw = ae\n",
    "            ap = M*cp/deltat\n",
    "            \n",
    "            T[t,volume] = (aw*T[t-1,volume-1] + ae*T[t-1,volume+1] +(ap-ae-aw)*T[t-1,volume])/ap\n",
    "            \n",
    "        if (volume == mesh-1):\n",
    "            aw =k*A/deltax\n",
    "            ap = M/2*cp/deltat\n",
    "            b = h*A*T_infinito\n",
    "            \n",
    "            T[t,volume] = (aw*T[t-1,volume-1] +(ap-aw-h*A)*T[t-1,volume] + b)/ap\n",
    "            \n",
    "        "
   ]
  },
  {
   "cell_type": "code",
   "execution_count": null,
   "metadata": {
    "collapsed": false
   },
   "outputs": [],
   "source": [
    "x_plot"
   ]
  },
  {
   "cell_type": "code",
   "execution_count": null,
   "metadata": {
    "collapsed": false
   },
   "outputs": [],
   "source": [
    "%matplotlib inline\n",
    "fig = plt.figure(figsize=(8,6))\n",
    "axis = fig.add_subplot(111)    \n",
    "\n",
    "for t in range(time):\n",
    "    axis.plot(x_plot, T[t],label='time = '+str(t*deltat)+'s')\n",
    "    #axis.scatter(x_plot, T_interpolacao, color ='blue',label='Interpolação')\n",
    "\n",
    "\n",
    "\n",
    "axis.set_ylabel('T [°C]')\n",
    "axis.set_xlabel('x [m]')\n",
    "axis.set_title('')\n",
    "axis.legend(bbox_to_anchor=(1.05, 1), loc=2, borderaxespad=0.)\n",
    "#axis.set_ylim(70,180)\n",
    "#axis.set_xlim(0,90)\n"
   ]
  },
  {
   "cell_type": "code",
   "execution_count": null,
   "metadata": {
    "collapsed": false
   },
   "outputs": [],
   "source": [
    "T"
   ]
  },
  {
   "cell_type": "code",
   "execution_count": null,
   "metadata": {
    "collapsed": true
   },
   "outputs": [],
   "source": []
  }
 ],
 "metadata": {
  "anaconda-cloud": {},
  "kernelspec": {
   "display_name": "Python [default]",
   "language": "python",
   "name": "python3"
  },
  "language_info": {
   "codemirror_mode": {
    "name": "ipython",
    "version": 3
   },
   "file_extension": ".py",
   "mimetype": "text/x-python",
   "name": "python",
   "nbconvert_exporter": "python",
   "pygments_lexer": "ipython3",
   "version": "3.5.2"
  }
 },
 "nbformat": 4,
 "nbformat_minor": 2
}
