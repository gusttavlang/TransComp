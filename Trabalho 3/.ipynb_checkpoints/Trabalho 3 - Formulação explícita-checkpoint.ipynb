{
 "cells": [
  {
   "cell_type": "code",
   "execution_count": 1,
   "metadata": {
    "collapsed": false
   },
   "outputs": [],
   "source": [
    "from math import *\n",
    "import numpy as np"
   ]
  },
  {
   "cell_type": "code",
   "execution_count": 2,
   "metadata": {
    "collapsed": false
   },
   "outputs": [],
   "source": [
    "L = 0.4 #m\n",
    "k =0.7\n",
    "cp = 700\n",
    "rho = 2000\n",
    "Ti = 20\n",
    "T_infinito = 100\n",
    "Bi = 0.8\n",
    "A = 1\n",
    "\n",
    "h = Bi *k/L"
   ]
  },
  {
   "cell_type": "code",
   "execution_count": 3,
   "metadata": {
    "collapsed": true
   },
   "outputs": [],
   "source": [
    "#função que retorna n valores de ksi\n",
    "def ksi(n):\n",
    "    ksi_vector = []\n",
    "    \n",
    "    ksi = 1\n",
    "    eps = 1e-8\n",
    "    \n",
    "    for i in range(n):\n",
    "        while ((ksi * tan(ksi) - Bi) > eps):\n",
    "            ksi = ksi - 1.1*eps\n",
    "        \n",
    "        ksi_vector.append(ksi)\n",
    "        ksi = ksi - 200* eps\n",
    "        \n",
    "    return ksi_vector\n",
    "        "
   ]
  },
  {
   "cell_type": "code",
   "execution_count": 4,
   "metadata": {
    "collapsed": false
   },
   "outputs": [
    {
     "data": {
      "text/plain": [
       "[0.7910336485827196,\n",
       " 0.7910316485827197,\n",
       " 0.7910296485827197,\n",
       " 0.7910276485827198,\n",
       " 0.7910256485827198]"
      ]
     },
     "execution_count": 4,
     "metadata": {},
     "output_type": "execute_result"
    }
   ],
   "source": [
    "n = ksi(5)\n",
    "n"
   ]
  },
  {
   "cell_type": "code",
   "execution_count": 5,
   "metadata": {
    "collapsed": true
   },
   "outputs": [],
   "source": [
    "mesh = 5\n",
    "deltax = L/(mesh-1)\n",
    "\n",
    "time = 10\n",
    "deltat = 5000"
   ]
  },
  {
   "cell_type": "code",
   "execution_count": 10,
   "metadata": {
    "collapsed": false
   },
   "outputs": [
    {
     "ename": "IndexError",
     "evalue": "index 10 is out of bounds for axis 0 with size 10",
     "output_type": "error",
     "traceback": [
      "\u001b[0;31m---------------------------------------------------------------------------\u001b[0m",
      "\u001b[0;31mIndexError\u001b[0m                                Traceback (most recent call last)",
      "\u001b[0;32m<ipython-input-10-64e3b3379992>\u001b[0m in \u001b[0;36m<module>\u001b[0;34m()\u001b[0m\n\u001b[1;32m     14\u001b[0m             \u001b[0map\u001b[0m \u001b[1;33m=\u001b[0m \u001b[0mM\u001b[0m\u001b[1;33m/\u001b[0m\u001b[1;36m2\u001b[0m\u001b[1;33m*\u001b[0m\u001b[0mcp\u001b[0m\u001b[1;33m/\u001b[0m\u001b[0mdeltat\u001b[0m\u001b[1;33m\u001b[0m\u001b[0m\n\u001b[1;32m     15\u001b[0m \u001b[1;33m\u001b[0m\u001b[0m\n\u001b[0;32m---> 16\u001b[0;31m             \u001b[0mT\u001b[0m\u001b[1;33m[\u001b[0m\u001b[0mtime\u001b[0m\u001b[1;33m,\u001b[0m\u001b[0mvolume\u001b[0m\u001b[1;33m]\u001b[0m \u001b[1;33m=\u001b[0m \u001b[1;33m(\u001b[0m\u001b[0mae\u001b[0m\u001b[1;33m*\u001b[0m\u001b[0mT\u001b[0m\u001b[1;33m[\u001b[0m\u001b[0mtime\u001b[0m\u001b[1;33m-\u001b[0m\u001b[1;36m1\u001b[0m\u001b[1;33m,\u001b[0m\u001b[0mvolume\u001b[0m\u001b[1;33m+\u001b[0m\u001b[1;36m1\u001b[0m\u001b[1;33m]\u001b[0m \u001b[1;33m+\u001b[0m \u001b[1;33m(\u001b[0m\u001b[0map\u001b[0m\u001b[1;33m-\u001b[0m\u001b[0mae\u001b[0m\u001b[1;33m)\u001b[0m\u001b[1;33m*\u001b[0m\u001b[0mT\u001b[0m\u001b[1;33m[\u001b[0m\u001b[0mtime\u001b[0m\u001b[1;33m-\u001b[0m\u001b[1;36m1\u001b[0m\u001b[1;33m,\u001b[0m\u001b[0mvolume\u001b[0m\u001b[1;33m]\u001b[0m\u001b[1;33m)\u001b[0m\u001b[1;33m/\u001b[0m\u001b[0map\u001b[0m\u001b[1;33m\u001b[0m\u001b[0m\n\u001b[0m\u001b[1;32m     17\u001b[0m \u001b[1;33m\u001b[0m\u001b[0m\n\u001b[1;32m     18\u001b[0m         \u001b[1;32mif\u001b[0m \u001b[1;33m(\u001b[0m\u001b[0mvolume\u001b[0m \u001b[1;33m>\u001b[0m \u001b[1;36m0\u001b[0m\u001b[1;33m)\u001b[0m \u001b[1;32mand\u001b[0m \u001b[1;33m(\u001b[0m\u001b[0mvolume\u001b[0m \u001b[1;33m<\u001b[0m \u001b[0mmesh\u001b[0m\u001b[1;33m-\u001b[0m\u001b[1;36m1\u001b[0m\u001b[1;33m)\u001b[0m\u001b[1;33m:\u001b[0m\u001b[1;33m\u001b[0m\u001b[0m\n",
      "\u001b[0;31mIndexError\u001b[0m: index 10 is out of bounds for axis 0 with size 10"
     ]
    }
   ],
   "source": [
    "#método numérica\n",
    "\n",
    "T = np.zeros((time,mesh))\n",
    "M = rho * A * deltax\n",
    "\n",
    "for volume in range(mesh):\n",
    "    T[0,volume] = 20\n",
    "\n",
    "for t in range(1,time-1):\n",
    "    for volume in range(mesh):        \n",
    "    \n",
    "        if volume == 0:\n",
    "            ae = k*A/(deltax)\n",
    "            ap = M/2*cp/deltat\n",
    "            \n",
    "            T[time,volume] = (ae*T[time-1,volume+1] + (ap-ae)*T[time-1,volume])/ap\n",
    "            \n",
    "        if (volume > 0) and (volume < mesh-1):\n",
    "            ae = k*A/deltax\n",
    "            aw = ae\n",
    "            ap = M*cp/deltat\n",
    "            \n",
    "            T[time,volume] = (aw*T[time-1,volume-1] + ae*T[time-1,volume+1] +(ap-ae-aw)*T[time-1,volume])/ap\n",
    "            \n",
    "        if (volume == mesh-1):\n",
    "            aw =k*A/deltax\n",
    "            ap = M/2*cp/deltat\n",
    "            b = h*A*T_infinito\n",
    "            \n",
    "            T[time,volume] = (aw*T[time-1,volume-1] +(ap-aw-h*A)*T[time-1,volume] + b)/ap\n",
    "            \n",
    "        "
   ]
  },
  {
   "cell_type": "code",
   "execution_count": 9,
   "metadata": {
    "collapsed": false
   },
   "outputs": [
    {
     "name": "stdout",
     "output_type": "stream",
     "text": [
      "1\n",
      "2\n",
      "3\n",
      "4\n",
      "5\n",
      "6\n",
      "7\n",
      "8\n"
     ]
    }
   ],
   "source": [
    "for i in range(1,time-1):\n",
    "    print(i)"
   ]
  },
  {
   "cell_type": "code",
   "execution_count": null,
   "metadata": {
    "collapsed": true
   },
   "outputs": [],
   "source": []
  }
 ],
 "metadata": {
  "kernelspec": {
   "display_name": "Python 3",
   "language": "python",
   "name": "python3"
  },
  "language_info": {
   "codemirror_mode": {
    "name": "ipython",
    "version": 3
   },
   "file_extension": ".py",
   "mimetype": "text/x-python",
   "name": "python",
   "nbconvert_exporter": "python",
   "pygments_lexer": "ipython3",
   "version": "3.6.0"
  }
 },
 "nbformat": 4,
 "nbformat_minor": 2
}
