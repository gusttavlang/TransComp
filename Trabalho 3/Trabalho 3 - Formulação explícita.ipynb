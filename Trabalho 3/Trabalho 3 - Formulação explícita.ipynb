{
 "cells": [
  {
   "cell_type": "code",
   "execution_count": 1,
   "metadata": {
    "collapsed": false
   },
   "outputs": [],
   "source": [
    "from math import *\n",
    "import numpy as np\n",
    "import matplotlib.pyplot as plt\n",
    "import pandas as pd\n",
    "from pandas import DataFrame,Series\n",
    "import math"
   ]
  },
  {
   "cell_type": "code",
   "execution_count": 2,
   "metadata": {
    "collapsed": false
   },
   "outputs": [],
   "source": [
    "L = 0.4 #m\n",
    "k =0.7 #W/m°C\n",
    "cp = 700 #J/kg.°C\n",
    "rho = 2000 #kg/m³\n",
    "Ti = 20 #°C\n",
    "T_infinito = 100 #°C\n",
    "Bi = 0.8\n",
    "A = 1 #m²\n",
    "pi = math.pi\n",
    "\n",
    "h = Bi *k/L\n",
    "alpha = k/(rho*cp)\n"
   ]
  },
  {
   "cell_type": "code",
   "execution_count": null,
   "metadata": {
    "collapsed": true
   },
   "outputs": [],
   "source": [
    "#função que retorna n valores de ksi\n",
    "def f(ksi):\n",
    "    y = ksi *tan(ksi) - Bi\n",
    "    \n",
    "    return y\n",
    "\n",
    "        "
   ]
  },
  {
   "cell_type": "code",
   "execution_count": null,
   "metadata": {
    "collapsed": false
   },
   "outputs": [],
   "source": [
    "#visualização da função\n",
    "%matplotlib inline\n",
    "fig = plt.figure(figsize=(8,6))\n",
    "axis = fig.add_subplot(111)    \n",
    "\n",
    "x = np.linspace(0,15,1000)\n",
    "\n",
    "f2 =np.vectorize(f)\n",
    "#y= f(x)\n",
    "axis.set_ylim(-3,3)\n",
    "axis.scatter(x,f2(x))\n",
    "'''\n",
    "axis.scatter(0.791+pi,0,color ='red', marker='s')\n",
    "axis.scatter(0.791+pi-1,0,color ='red', marker='s')\n",
    "\n",
    "axis.scatter(3.37+pi,0,color ='red', marker='s')\n",
    "axis.scatter(3.37+pi-1,0,color ='red', marker='s')\n",
    "\n",
    "axis.scatter(6.4+pi,0,color ='red', marker='s')\n",
    "axis.scatter(6.4+pi-1,0,color ='red', marker='s')\n",
    "'''"
   ]
  },
  {
   "cell_type": "code",
   "execution_count": null,
   "metadata": {
    "collapsed": false
   },
   "outputs": [],
   "source": [
    "#função que entra com n raízes desejadas e retorna o valor dessas raízes\n",
    "def ksi(n):\n",
    "    ksi_vector = []\n",
    "    eps = 1e-7\n",
    "    \n",
    "    a = 0.6\n",
    "    b = 0.8\n",
    "    xm = (a+b)/2\n",
    "    \n",
    "    for i in range(n):\n",
    "        while (abs(f(xm)) > eps):            \n",
    "            if (f(a)*f(xm) > 0):\n",
    "                a = xm\n",
    "                        \n",
    "            if (f(a)*f(xm) < 0):\n",
    "                b = xm\n",
    "                \n",
    "            xm = (a+b)/2\n",
    "            \n",
    "            \n",
    "        ksi_vector.append(xm)\n",
    "        b = xm+pi\n",
    "        a = xm+pi -1\n",
    "        xm = (a+b)/2\n",
    "    return ksi_vector\n",
    "\n",
    "    "
   ]
  },
  {
   "cell_type": "code",
   "execution_count": 3,
   "metadata": {
    "collapsed": true
   },
   "outputs": [],
   "source": [
    "mesh = 5\n",
    "deltax = L/(mesh-1)\n",
    "\n",
    "time = 1000\n",
    "deltat = 2000"
   ]
  },
  {
   "cell_type": "code",
   "execution_count": 4,
   "metadata": {
    "collapsed": false
   },
   "outputs": [
    {
     "data": {
      "text/plain": [
       "8333.333333333336"
      ]
     },
     "execution_count": 4,
     "metadata": {},
     "output_type": "execute_result"
    }
   ],
   "source": [
    "#definição de delta t max\n",
    "\n",
    "deltat_max = deltax**2/(2*alpha*(1+h*deltax/k))\n",
    "deltat_max"
   ]
  },
  {
   "cell_type": "code",
   "execution_count": null,
   "metadata": {
    "collapsed": false
   },
   "outputs": [],
   "source": [
    "#solução numérica\n",
    "\n",
    "T = np.zeros((time,mesh))\n",
    "q = np.zeros((time,mesh))\n",
    "M = rho * A * deltax\n",
    "x_plot = np.zeros(mesh)\n",
    "t_plot = np.zeros(time)\n",
    "\n",
    "for volume in range(mesh):\n",
    "    T[0,volume] = 20\n",
    "    if volume>0:\n",
    "        x_plot[volume] = x_plot[volume-1] +deltax\n",
    "        \n",
    "for t in range(1,time):\n",
    "    for volume in range(mesh):        \n",
    "    \n",
    "        if volume == 0:\n",
    "            ae = k*A/(deltax)\n",
    "            ap = M/2*cp/deltat\n",
    "            \n",
    "            T[t,volume] = (ae*T[t-1,volume+1] + (ap-ae)*T[t-1,volume])/ap\n",
    "            \n",
    "        if (volume > 0) and (volume < mesh-1):\n",
    "            ae = k*A/deltax\n",
    "            aw = ae\n",
    "            ap = M*cp/deltat\n",
    "            \n",
    "            T[t,volume] = (aw*T[t-1,volume-1] + ae*T[t-1,volume+1] +(ap-ae-aw)*T[t-1,volume])/ap\n",
    "            \n",
    "        if (volume == mesh-1):\n",
    "            aw =k*A/deltax\n",
    "            ap = M/2*cp/deltat\n",
    "            b = h*A*T_infinito\n",
    "            \n",
    "            T[t,volume] = (aw*T[t-1,volume-1] +(ap-aw-h*A)*T[t-1,volume] + b)/ap   \n",
    "        \n",
    "        \n",
    "for t in range(1,time):\n",
    "    for volume in range(1,mesh):\n",
    "        if (volume < mesh-1):\n",
    "            q[t,volume] = k/deltax*(T[t,volume]-T[t,volume-1])\n",
    "        if (volume == mesh-1):\n",
    "            q[t,volume] = h*(T_infinito-T[t,volume])\n",
    "        "
   ]
  },
  {
   "cell_type": "code",
   "execution_count": null,
   "metadata": {
    "collapsed": false
   },
   "outputs": [],
   "source": [
    "#solução analítica\n",
    "T_analitico = np.zeros((time,mesh))\n",
    "\n",
    "#for volume in range(mesh):\n",
    "    #T_analitico[0,volume] = 20\n",
    "\n",
    "N = 100\n",
    "\n",
    "ksi_n = ksi(N)\n",
    "\n",
    "    \n",
    "for t in range(time):\n",
    "    for x in range(mesh):\n",
    "        x_ad = x_plot[x]/L\n",
    "        Fo = alpha*deltat*(t)/L**2\n",
    "        soma =0\n",
    "        \n",
    "        #somatório\n",
    "        for n in range(N):\n",
    "            Cn = 4*sin(ksi_n[n])/(2*ksi_n[n] + sin(2*ksi_n[n]))\n",
    "            soma = soma + Cn*exp(-(ksi_n[n]**2*Fo)) * cos(ksi_n[n]*x_ad)\n",
    "            \n",
    "        T_analitico[t,x] = soma*(Ti-T_infinito) +T_infinito\n",
    "        \n",
    "\n",
    "        \n",
    "mesh_analitico = 100    \n",
    "x_plot_analitico = np.zeros(mesh_analitico)\n",
    "deltax_analitico = L/(mesh_analitico-1)\n",
    "T_analitico_plot = np.zeros((time,mesh_analitico))\n",
    "\n",
    "for volume in range(mesh_analitico):\n",
    "    if volume>0:\n",
    "        x_plot_analitico[volume] = x_plot_analitico[volume-1] +deltax_analitico\n",
    "        \n",
    "\n",
    "for t in range(time):\n",
    "    for x in range(mesh_analitico):\n",
    "        x_ad = x_plot_analitico[x]/L\n",
    "        Fo = alpha*deltat*(t)/L**2\n",
    "        soma =0\n",
    "        \n",
    "        #somatório\n",
    "        for n in range(N):\n",
    "            Cn = 4*sin(ksi_n[n])/(2*ksi_n[n] + sin(2*ksi_n[n]))\n",
    "            soma = soma + Cn*exp(-(ksi_n[n]**2*Fo)) * cos(ksi_n[n]*x_ad)\n",
    "            \n",
    "        T_analitico_plot[t,x] = soma*(Ti-T_infinito) +T_infinito\n",
    "        \n",
    "        "
   ]
  },
  {
   "cell_type": "code",
   "execution_count": null,
   "metadata": {
    "collapsed": false
   },
   "outputs": [],
   "source": [
    "%matplotlib inline\n",
    "fig = plt.figure(figsize=(8,6))\n",
    "axis = fig.add_subplot(111)    \n",
    "\n",
    "colors = [ 'green','red','blue','purple','yellow', 'black',  'orange', 'lime', \n",
    "          'magenta','lightcoral','darkblue', 'gray','darkorange','springgreen','blueviolet']\n",
    "i=0\n",
    "timelist = [1,5,35,80,100]\n",
    "timelist_nova = [64,96,140,200,320,400,480,560,720,960]\n",
    "#timelist = [0,1,2,3,4,5,6,7]\n",
    "for t in timelist_nova:       \n",
    "    #axis.plot(x_plot, T[t],label='Numérico ('+str(t*deltat)+'s)',ls='--',marker='o',color = colors[i])\n",
    "    \n",
    "    axis.scatter(x_plot, T[t],label='Numérico ('+str(t*deltat)+'s)',marker='o',color = colors[i])\n",
    "    axis.plot(x_plot_analitico,T_analitico_plot[t],color = colors[i],label='Analítico ('+str(t*deltat)+'s)')\n",
    "    i+=1\n",
    "    #axis.plot(x_plot, q[t],label='Numérico ('+str(t*deltat)+'s)',color = colors[i],marker='o')\n",
    "\n",
    "\n",
    "axis.set_ylabel('T[°C]')\n",
    "axis.set_xlabel('x [m]')\n",
    "axis.set_title('')\n",
    "axis.legend(bbox_to_anchor=(1.05, 1), loc=2, borderaxespad=0.)\n",
    "#axis.set_ylim(30,100)\n",
    "#axis.set_xlim(-0.05,0.45)\n"
   ]
  },
  {
   "cell_type": "code",
   "execution_count": null,
   "metadata": {
    "collapsed": false
   },
   "outputs": [],
   "source": [
    "#tabelas com erros\n",
    "tabela_Temp = DataFrame()\n",
    "\n",
    "t=960\n",
    "    \n",
    "tabela_Temp['Posição [m]'] = x_plot.round(6)\n",
    "tabela_Temp['Temp. analítica[°C]'] = T_analitico[t].round(6).tolist()   \n",
    "\n",
    "tabela_Temp['Temp. numérica[°C]'] = T[t].round(6).tolist()\n",
    "tabela_Temp['Diferença de Temp.[°C]'] = np.absolute(T[t]-T_analitico[t]).round(6).tolist()\n",
    "    \n",
    "\n",
    "tabela_Temp"
   ]
  }
 ],
 "metadata": {
  "anaconda-cloud": {},
  "kernelspec": {
   "display_name": "Python [default]",
   "language": "python",
   "name": "python3"
  },
  "language_info": {
   "codemirror_mode": {
    "name": "ipython",
    "version": 3
   },
   "file_extension": ".py",
   "mimetype": "text/x-python",
   "name": "python",
   "nbconvert_exporter": "python",
   "pygments_lexer": "ipython3",
   "version": "3.5.2"
  }
 },
 "nbformat": 4,
 "nbformat_minor": 2
}
