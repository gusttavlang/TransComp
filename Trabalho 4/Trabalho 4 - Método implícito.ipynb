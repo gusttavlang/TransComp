{
 "cells": [
  {
   "cell_type": "code",
   "execution_count": 28,
   "metadata": {
    "collapsed": true
   },
   "outputs": [],
   "source": [
    "import math\n",
    "import numpy as np"
   ]
  },
  {
   "cell_type": "code",
   "execution_count": 39,
   "metadata": {
    "collapsed": true
   },
   "outputs": [],
   "source": [
    "rho = 2700 #kg/m³\n",
    "cp = 900 #J/kg.°C\n",
    "k = 230 #W/m°C\n",
    "ri = 50 #mm\n",
    "re = 56 #mm\n",
    "T_infinito = 80 #°C\n",
    "h = 20000 #W/m².°C\n",
    "Ti = 80 #°C\n",
    "H = 1 #m²\n",
    "\n",
    "pi = math.pi"
   ]
  },
  {
   "cell_type": "code",
   "execution_count": 30,
   "metadata": {
    "collapsed": true
   },
   "outputs": [],
   "source": [
    "def T_sup(t):\n",
    "    T_sup = 150 + 50 * math.cos(50 * pi * t)\n",
    "    return T_sup"
   ]
  },
  {
   "cell_type": "code",
   "execution_count": 31,
   "metadata": {
    "collapsed": false
   },
   "outputs": [],
   "source": [
    "mesh = 5\n",
    "deltar = (re-ri)/(mesh-1)\n",
    "\n",
    "time = 1000\n",
    "deltat = 0.004"
   ]
  },
  {
   "cell_type": "code",
   "execution_count": 40,
   "metadata": {
    "collapsed": false
   },
   "outputs": [],
   "source": [
    "#método numérico\n",
    "T = np.zeros((time,mesh))\n",
    "q = np.zeros((time,mesh))\n",
    "#M = rho * H * deltar\n",
    "x_plot = np.zeros(mesh)\n",
    "\n",
    "Matrix_coef_a = np.zeros((mesh,mesh))\n",
    "Matrix_coef_b = np.zeros((mesh,1))\n",
    "\n",
    "for volume in range(mesh):\n",
    "    T[0,volume] = Ti \n",
    "    if volume>0:\n",
    "        x_plot[volume] = x_plot[volume-1] +deltar\n",
    "        \n",
    "for t in range(1,time):\n",
    "    for r in range(mesh): \n",
    "        if (r == 0):\n",
    "            ap = 1\n",
    "            b = T_sup(t*deltat)\n",
    "            \n",
    "            Matrix_coef_a[0,0] = ap\n",
    "            Matrix_coef_b[0,0] = b    # verificar\n",
    "            \n",
    "        if (r > 0) and (r < mesh-1):\n",
    "            ae = k*H/deltar\n",
    "            aw = ae\n",
    "            ap0 = rho*cp*2*pi*H*(ri+r*deltar)"
   ]
  },
  {
   "cell_type": "code",
   "execution_count": null,
   "metadata": {
    "collapsed": true
   },
   "outputs": [],
   "source": []
  }
 ],
 "metadata": {
  "kernelspec": {
   "display_name": "Python 3",
   "language": "python",
   "name": "python3"
  },
  "language_info": {
   "codemirror_mode": {
    "name": "ipython",
    "version": 3
   },
   "file_extension": ".py",
   "mimetype": "text/x-python",
   "name": "python",
   "nbconvert_exporter": "python",
   "pygments_lexer": "ipython3",
   "version": "3.6.0"
  }
 },
 "nbformat": 4,
 "nbformat_minor": 2
}
