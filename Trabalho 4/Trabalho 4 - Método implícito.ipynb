{
 "cells": [
  {
   "cell_type": "code",
   "execution_count": 1,
   "metadata": {
    "collapsed": true
   },
   "outputs": [],
   "source": [
    "import math\n",
    "import numpy as np\n",
    "from scipy.linalg import *"
   ]
  },
  {
   "cell_type": "code",
   "execution_count": 2,
   "metadata": {
    "collapsed": true
   },
   "outputs": [],
   "source": [
    "rho = 2700 #kg/m³\n",
    "cp = 900 #J/kg.°C\n",
    "k = 230 #W/m°C\n",
    "ri = 0.050 #m\n",
    "re = 0.056 #m\n",
    "T_infinito = 80 #°C\n",
    "h = 20000 #W/m².°C\n",
    "Ti = 80 #°C\n",
    "H = 1 #m²\n",
    "\n",
    "pi = math.pi"
   ]
  },
  {
   "cell_type": "code",
   "execution_count": 3,
   "metadata": {
    "collapsed": true
   },
   "outputs": [],
   "source": [
    "def T_sup(t):\n",
    "    T_sup = 150 + 50 * math.cos(50 * pi * t)\n",
    "    return T_sup"
   ]
  },
  {
   "cell_type": "code",
   "execution_count": 45,
   "metadata": {
    "collapsed": false
   },
   "outputs": [],
   "source": [
    "mesh = 5\n",
    "deltar = (re-ri)/(mesh-1)\n",
    "\n",
    "time = 5\n",
    "deltat = 0.004"
   ]
  },
  {
   "cell_type": "code",
   "execution_count": 49,
   "metadata": {
    "collapsed": false
   },
   "outputs": [],
   "source": [
    "def TDMA(A,B):   \n",
    "# a matriz de coeficientes P poderia ser definida\n",
    "#no procedimento principal, mas para fazer um método \n",
    "#genérico de resolução TDMA ela é definida aqui\n",
    "    P = np.zeros(mesh)\n",
    "    Q = np.zeros(mesh)\n",
    "    #T = np.zeros((mesh,1))  \n",
    "    T = np.zeros(mesh)\n",
    "    Matrix_P = np.zeros((mesh,mesh))\n",
    "    Matrix_Q = np.zeros((mesh,1))\n",
    "    \n",
    "    #print(B)\n",
    "    \n",
    "  \n",
    "    P[0] = A[0,1]/A[0,0]\n",
    "    Q[0] = B[0]/A[0,0]\n",
    "\n",
    "    for i in range(1,mesh-1):\n",
    "        P[i] = A[i,i+1]/(A[i,i] - A[i,i-1]*P[i-1])\n",
    "        Q[i] = (B[i] + A[i,i-1]*Q[i-1])/(A[i,i] - A[i,i-1]*P[i-1])\n",
    "        \n",
    "    '''\n",
    "    for i in range(mesh):\n",
    "        Matrix_P[i,i] = 1            \n",
    "        Matrix_Q[i,0] = Q[i]\n",
    "        \n",
    "        if (i< mesh-1):\n",
    "            Matrix_P[i,i+1] = -P[i]\n",
    "    T = solve(Matrix_P,Matrix_Q)  \n",
    "    '''\n",
    "    T[mesh-1] = Q[mesh-1]\n",
    "    for i in range(mesh-2,-1,-1):\n",
    "        T[i] = P[i] *T[i+1] + Q[i]\n",
    "        \n",
    "       \n",
    "    \n",
    "    \n",
    "    #print(Matrix_Q)\n",
    "    #return T.transpose()\n",
    "    return T\n"
   ]
  },
  {
   "cell_type": "code",
   "execution_count": 50,
   "metadata": {
    "collapsed": false
   },
   "outputs": [],
   "source": [
    "#método numérico\n",
    "T = np.zeros((time,mesh))\n",
    "q = np.zeros((time,mesh))\n",
    "#M = rho * H * deltar\n",
    "x_plot = np.zeros(mesh)\n",
    "\n",
    "Matrix_coef_a = np.zeros((mesh,mesh))\n",
    "Matrix_coef_b = np.zeros((mesh,1))\n",
    "\n",
    "x_plot[0] = ri\n",
    "for volume in range(mesh):\n",
    "    T[0,volume] = Ti \n",
    "    if volume>0:\n",
    "        x_plot[volume] = x_plot[volume-1] +deltar\n",
    "        \n",
    "\n",
    "#Definição da matriz de coeficientes        \n",
    "for r in range(mesh): \n",
    "    if (r == 0):\n",
    "        ap = 1                \n",
    "        Matrix_coef_a[0,0] = ap\n",
    "                    \n",
    "    if (r > 0) and (r < mesh-1):\n",
    "        ae = k*H*2*pi*(x_plot[r]+deltar/2)/deltar #malha igualmente espaçada\n",
    "        aw = k*H*2*pi*(x_plot[r]-deltar/2)/deltar\n",
    "        ap0 = rho*cp*pi*H*((x_plot[r]+deltar/2)**2 - (x_plot[r]-deltar/2)**2)/deltat\n",
    "        ap = ap0 + ae + aw\n",
    "            \n",
    "        Matrix_coef_a[r,r-1] = aw #coloquei como positivo para utilizar no TDMA\n",
    "        Matrix_coef_a[r,r+1] = ae\n",
    "        Matrix_coef_a[r,r] = ap\n",
    "        #Matrix_coef_b[r,0] = b\n",
    "            \n",
    "            \n",
    "    if (r == mesh-1):\n",
    "        aw = k*H*2*pi*(x_plot[r]-deltar/2)/deltar\n",
    "        ap0 = rho*cp*pi*H*(x_plot[r]**2 - (x_plot[r]-deltar/2)**2)/deltat\n",
    "        ap = ap0 + aw + 2*pi*H*h*x_plot[r]\n",
    "        #b = 2*pi*re*H*h*T_infinito\n",
    "            \n",
    "        Matrix_coef_a[r,r-1] = aw\n",
    "        Matrix_coef_a[r,r] = ap\n",
    "        \n",
    "            \n",
    "for t in range(1,time):\n",
    "    for r in range(mesh):\n",
    "        if (r==0):            \n",
    "            b = T_sup(t*deltat)            \n",
    "            \n",
    "            Matrix_coef_b[0,0] = b \n",
    "            \n",
    "        if (r > 0) and (r < mesh-1):\n",
    "            ap0 = rho*cp*pi*H*((x_plot[r]+deltar/2)**2 - (x_plot[r]-deltar/2)**2)/deltat\n",
    "            \n",
    "            Matrix_coef_b[r,0] = ap0*T[t-1,r]\n",
    "            \n",
    "        if (r == mesh-1):\n",
    "            ap0 = rho*cp*pi*H*(x_plot[r]**2 - (x_plot[r]-deltar/2)**2)/deltat\n",
    "            b = 2*pi*re*H*h*T_infinito\n",
    "            Matrix_coef_b[r,0] = b + ap0*T[t-1,r]\n",
    "        \n",
    "    T[t,:] = TDMA(Matrix_coef_a,Matrix_coef_b)\n",
    "            \n",
    "#print(Matrix_coef_a)\n",
    "#print(b)\n",
    "            \n",
    "                "
   ]
  },
  {
   "cell_type": "code",
   "execution_count": 51,
   "metadata": {
    "collapsed": false
   },
   "outputs": [
    {
     "data": {
      "text/plain": [
       "array([[  80.        ,   80.        ,   80.        ,   80.        ,   80.        ],\n",
       "       [ 190.45084972,   93.75542262,   80.41011009,   69.84047417,    0.        ],\n",
       "       [ 165.45084972,  100.97584167,   80.6463304 ,   62.26840774,    0.        ],\n",
       "       [ 134.54915028,  102.49795505,   80.28286607,   56.55782837,    0.        ],\n",
       "       [ 109.54915028,  100.39521881,   79.18702979,   52.14908555,    0.        ]])"
      ]
     },
     "execution_count": 51,
     "metadata": {},
     "output_type": "execute_result"
    }
   ],
   "source": [
    "T"
   ]
  },
  {
   "cell_type": "code",
   "execution_count": 52,
   "metadata": {
    "collapsed": false
   },
   "outputs": [
    {
     "data": {
      "text/plain": [
       "array([[  1.09549150e+02],\n",
       "       [  3.02231579e+07],\n",
       "       [  2.43621800e+07],\n",
       "       [  1.76484528e+07],\n",
       "       [  5.62973404e+05]])"
      ]
     },
     "execution_count": 52,
     "metadata": {},
     "output_type": "execute_result"
    }
   ],
   "source": [
    "Matrix_coef_b"
   ]
  },
  {
   "cell_type": "code",
   "execution_count": 53,
   "metadata": {
    "collapsed": false
   },
   "outputs": [
    {
     "data": {
      "text/plain": [
       "array([[  1.00000000e+00,   0.00000000e+00,   0.00000000e+00,\n",
       "          0.00000000e+00,   0.00000000e+00],\n",
       "       [  4.88936537e+04,   3.94098399e+05,   5.03387863e+04,\n",
       "          0.00000000e+00,   0.00000000e+00],\n",
       "       [  0.00000000e+00,   5.03387863e+04,   4.05576994e+05,\n",
       "          5.17839189e+04,   0.00000000e+00],\n",
       "       [  0.00000000e+00,   0.00000000e+00,   5.17839189e+04,\n",
       "          4.17055588e+05,   5.32290515e+04],\n",
       "       [  0.00000000e+00,   0.00000000e+00,   0.00000000e+00,\n",
       "          5.32290515e+04,   2.19508151e+05]])"
      ]
     },
     "execution_count": 53,
     "metadata": {},
     "output_type": "execute_result"
    }
   ],
   "source": [
    "Matrix_coef_a"
   ]
  },
  {
   "cell_type": "code",
   "execution_count": 34,
   "metadata": {
    "collapsed": false
   },
   "outputs": [
    {
     "name": "stdout",
     "output_type": "stream",
     "text": [
      "3\n",
      "2\n",
      "1\n",
      "0\n"
     ]
    }
   ],
   "source": [
    "for i in range(mesh-2,-1,-1):\n",
    "    print(i)"
   ]
  },
  {
   "cell_type": "code",
   "execution_count": null,
   "metadata": {
    "collapsed": true
   },
   "outputs": [],
   "source": []
  }
 ],
 "metadata": {
  "kernelspec": {
   "display_name": "Python [default]",
   "language": "python",
   "name": "python3"
  },
  "language_info": {
   "codemirror_mode": {
    "name": "ipython",
    "version": 3
   },
   "file_extension": ".py",
   "mimetype": "text/x-python",
   "name": "python",
   "nbconvert_exporter": "python",
   "pygments_lexer": "ipython3",
   "version": "3.5.2"
  }
 },
 "nbformat": 4,
 "nbformat_minor": 2
}
