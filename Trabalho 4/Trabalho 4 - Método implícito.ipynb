{
 "cells": [
  {
   "cell_type": "code",
   "execution_count": null,
   "metadata": {
    "collapsed": true
   },
   "outputs": [],
   "source": [
    "import math\n",
    "import numpy as np"
   ]
  },
  {
   "cell_type": "code",
   "execution_count": null,
   "metadata": {
    "collapsed": true
   },
   "outputs": [],
   "source": [
    "rho = 2700 #kg/m³\n",
    "cp = 900 #J/kg.°C\n",
    "k = 230 #W/m°C\n",
    "ri = 50 #mm\n",
    "re = 56 #mm\n",
    "T_infinito = 80 #°C\n",
    "h = 20000 #W/m².°C\n",
    "Ti = 80 #°C\n",
    "H = 1 #m²\n",
    "\n",
    "pi = math.pi"
   ]
  },
  {
   "cell_type": "code",
   "execution_count": null,
   "metadata": {
    "collapsed": true
   },
   "outputs": [],
   "source": [
    "def T_sup(t):\n",
    "    T_sup = 150 + 50 * math.cos(50 * pi * t)\n",
    "    return T_sup"
   ]
  },
  {
   "cell_type": "code",
   "execution_count": null,
   "metadata": {
    "collapsed": false
   },
   "outputs": [],
   "source": [
    "#def TDMA(A,B):   \n",
    "# a matriz de coeficientes P poderia ser definida\n",
    "#no procedimento principal, mas para fazer um método \n",
    "#genérico de resolução TDMA ela é definida aqui"
   ]
  },
  {
   "cell_type": "code",
   "execution_count": null,
   "metadata": {
    "collapsed": false
   },
   "outputs": [],
   "source": [
    "mesh = 5\n",
    "deltar = (re-ri)/(mesh-1)\n",
    "\n",
    "time = 1000\n",
    "deltat = 0.004"
   ]
  },
  {
   "cell_type": "code",
   "execution_count": null,
   "metadata": {
    "collapsed": false
   },
   "outputs": [],
   "source": [
    "#método numérico\n",
    "T = np.zeros((time,mesh))\n",
    "q = np.zeros((time,mesh))\n",
    "#M = rho * H * deltar\n",
    "x_plot = np.zeros(mesh)\n",
    "\n",
    "Matrix_coef_a = np.zeros((mesh,mesh))\n",
    "Matrix_coef_b = np.zeros((mesh,1))\n",
    "\n",
    "x_plot[0] = ri\n",
    "for volume in range(mesh):\n",
    "    T[0,volume] = Ti \n",
    "    if volume>0:\n",
    "        x_plot[volume] = x_plot[volume-1] +deltar\n",
    "        \n",
    "\n",
    "#Definição da matriz de coeficientes        \n",
    "for r in range(mesh): \n",
    "    if (r == 0):\n",
    "        ap = 1                \n",
    "        Matrix_coef_a[0,0] = ap\n",
    "                    \n",
    "    if (r > 0) and (r < mesh-1):\n",
    "        ae = k*H*2*pi*(x_plot[r]+deltar/2)/deltar #malha igualmente espaçada\n",
    "        aw = k*H*2*pi*(x_plot[r]-deltar/2)/deltar\n",
    "        ap0 = rho*cp*pi*H*((x_plot[r]+deltar/2)**2 - (x_plot[r]-deltar/2)**2)/deltat\n",
    "        ap = ap0 + ae + aw\n",
    "            \n",
    "        Matrix_coef_a[r,r-1] = -aw\n",
    "        Matrix_coef_a[r,r+1] = -ae\n",
    "        Matrix_coef_a[r,r] = ap\n",
    "        #Matrix_coef_b[r,0] = b\n",
    "            \n",
    "            \n",
    "    if (r == mesh-1):\n",
    "        aw = k*H*2*pi*(x_plot[r]-deltar/2)/deltar\n",
    "        ap0 = rho*cp*pi*H*(x_plot[r]**2 - (x_plot[r]-deltar/2)**2)/deltat\n",
    "        ap = ap0 + aw + 2*pi*H*h\n",
    "        #b = 2*pi*re*H*h*T_infinito\n",
    "            \n",
    "        Matrix_coef_a[r,r-1] = -aw\n",
    "        Matrix_coef_a[r,r] = ap\n",
    "        \n",
    "            \n",
    "for t in range(1,time):\n",
    "    for r in range(mesh):\n",
    "        if (r==0):            \n",
    "            b = T_sup(t*deltat)            \n",
    "            \n",
    "            Matrix_coef_b[0,0] = b \n",
    "            \n",
    "        if (r > 0) and (r < mesh-1):\n",
    "            ap0 = rho*cp*pi*H*((x_plot[r]+deltar/2)**2 - (x_plot[r]-deltar/2)**2)/deltat\n",
    "            \n",
    "            Matrix_coef_b[r,0] = ap0*T[t-1,r]\n",
    "            \n",
    "        if (r == mesh-1):\n",
    "            ap0 = rho*cp*pi*H*(x_plot[r]**2 - (x_plot[r]-deltar/2)**2)/deltat\n",
    "            b = 2*pi*re*H*h*T_infinito\n",
    "            Matrix_coef_b[r,0] = b + ap0*T[t-1,r]\n",
    "            \n",
    "    \n",
    "            \n",
    "                "
   ]
  },
  {
   "cell_type": "code",
   "execution_count": null,
   "metadata": {
    "collapsed": true
   },
   "outputs": [],
   "source": []
  }
 ],
 "metadata": {
  "kernelspec": {
   "display_name": "Python 3",
   "language": "python",
   "name": "python3"
  }
 },
 "nbformat": 4,
 "nbformat_minor": 2
}
