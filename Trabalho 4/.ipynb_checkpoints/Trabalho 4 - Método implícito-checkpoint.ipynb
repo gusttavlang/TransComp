{
 "cells": [
  {
   "cell_type": "code",
   "execution_count": 15,
   "metadata": {
    "collapsed": true
   },
   "outputs": [],
   "source": [
    "import math\n",
    "import numpy as np\n",
    "from scipy.linalg import *"
   ]
  },
  {
   "cell_type": "code",
   "execution_count": 49,
   "metadata": {
    "collapsed": true
   },
   "outputs": [],
   "source": [
    "rho = 2700 #kg/m³\n",
    "cp = 900 #J/kg.°C\n",
    "k = 230 #W/m°C\n",
    "ri = 0.050 #m\n",
    "re = 0.056 #m\n",
    "T_infinito = 80 #°C\n",
    "h = 20000 #W/m².°C\n",
    "Ti = 80 #°C\n",
    "H = 1 #m²\n",
    "\n",
    "pi = math.pi"
   ]
  },
  {
   "cell_type": "code",
   "execution_count": 50,
   "metadata": {
    "collapsed": true
   },
   "outputs": [],
   "source": [
    "def T_sup(t):\n",
    "    T_sup = 150 + 50 * math.cos(50 * pi * t)\n",
    "    return T_sup"
   ]
  },
  {
   "cell_type": "code",
   "execution_count": 55,
   "metadata": {
    "collapsed": false
   },
   "outputs": [],
   "source": [
    "mesh = 5\n",
    "deltar = (re-ri)/(mesh-1)\n",
    "\n",
    "time = 2\n",
    "deltat = 0.004"
   ]
  },
  {
   "cell_type": "code",
   "execution_count": 56,
   "metadata": {
    "collapsed": false
   },
   "outputs": [],
   "source": [
    "def TDMA(A,B):   \n",
    "# a matriz de coeficientes P poderia ser definida\n",
    "#no procedimento principal, mas para fazer um método \n",
    "#genérico de resolução TDMA ela é definida aqui\n",
    "    P = np.zeros(mesh)\n",
    "    Q = np.zeros(mesh)\n",
    "    T = np.zeros((mesh,1))    \n",
    "    Matrix_P = np.zeros((mesh,mesh))\n",
    "    Matrix_Q = np.zeros((mesh,1))\n",
    "    \n",
    "    P[0] = A[0,0]/A[0,1]\n",
    "    Q[0] = B[0]/A[0,0]\n",
    "\n",
    "    for i in range(1,mesh-1):\n",
    "        P[i] = A[i,i+1]/(A[i,i] - A[i,i-1]*P[i-1])\n",
    "        Q[i] = (B[i] + A[i,i-1]*P[i-1])/(A[i,i] - A[i,i-1]*P[i-1])\n",
    "        \n",
    "    for i in range(mesh):\n",
    "        if (i< mesh-1):\n",
    "            Matrix_P[i,i] = 1\n",
    "            Matrix_P[i,i+1] = -P[i]\n",
    "            Matrix_Q[i,0] = Q[i]\n",
    "        if (i==mesh-1):\n",
    "            Matrix_P[i,i] = 1\n",
    "            Matrix_Q[i,0] = Q[i]\n",
    "            \n",
    "    \n",
    "    #T = solve(Matrix_P,Matrix_Q)   \n",
    "    #return T\n",
    "    print(Matrix_P)"
   ]
  },
  {
   "cell_type": "code",
   "execution_count": 61,
   "metadata": {
    "collapsed": false
   },
   "outputs": [
    {
     "name": "stdout",
     "output_type": "stream",
     "text": [
      "[[ 1.                -inf  0.          0.          0.        ]\n",
      " [ 0.          1.          0.          0.          0.        ]\n",
      " [ 0.          0.          1.          0.12767963  0.        ]\n",
      " [ 0.          0.          0.          1.          0.12968657]\n",
      " [ 0.          0.          0.          0.          1.        ]]\n"
     ]
    },
    {
     "name": "stderr",
     "output_type": "stream",
     "text": [
      "C:\\Users\\Gusttav\\Anaconda3\\lib\\site-packages\\ipykernel\\__main__.py:11: RuntimeWarning: divide by zero encountered in double_scalars\n",
      "C:\\Users\\Gusttav\\Anaconda3\\lib\\site-packages\\ipykernel\\__main__.py:16: RuntimeWarning: invalid value encountered in true_divide\n"
     ]
    }
   ],
   "source": [
    "#método numérico\n",
    "T = np.zeros((time,mesh))\n",
    "q = np.zeros((time,mesh))\n",
    "#M = rho * H * deltar\n",
    "x_plot = np.zeros(mesh)\n",
    "\n",
    "Matrix_coef_a = np.zeros((mesh,mesh))\n",
    "Matrix_coef_b = np.zeros((mesh,1))\n",
    "\n",
    "x_plot[0] = ri\n",
    "for volume in range(mesh):\n",
    "    T[0,volume] = Ti \n",
    "    if volume>0:\n",
    "        x_plot[volume] = x_plot[volume-1] +deltar\n",
    "        \n",
    "\n",
    "#Definição da matriz de coeficientes        \n",
    "for r in range(mesh): \n",
    "    if (r == 0):\n",
    "        ap = 1                \n",
    "        Matrix_coef_a[0,0] = ap\n",
    "                    \n",
    "    if (r > 0) and (r < mesh-1):\n",
    "        ae = k*H*2*pi*(x_plot[r]+deltar/2)/deltar #malha igualmente espaçada\n",
    "        aw = k*H*2*pi*(x_plot[r]-deltar/2)/deltar\n",
    "        ap0 = rho*cp*pi*H*((x_plot[r]+deltar/2)**2 - (x_plot[r]-deltar/2)**2)/deltat\n",
    "        ap = ap0 + ae + aw\n",
    "            \n",
    "        Matrix_coef_a[r,r-1] = -aw\n",
    "        Matrix_coef_a[r,r+1] = -ae\n",
    "        Matrix_coef_a[r,r] = ap\n",
    "        #Matrix_coef_b[r,0] = b\n",
    "            \n",
    "            \n",
    "    if (r == mesh-1):\n",
    "        aw = k*H*2*pi*(x_plot[r]-deltar/2)/deltar\n",
    "        ap0 = rho*cp*pi*H*(x_plot[r]**2 - (x_plot[r]-deltar/2)**2)/deltat\n",
    "        ap = ap0 + aw + 2*pi*H*h\n",
    "        #b = 2*pi*re*H*h*T_infinito\n",
    "            \n",
    "        Matrix_coef_a[r,r-1] = -aw\n",
    "        Matrix_coef_a[r,r] = ap\n",
    "        \n",
    "            \n",
    "for t in range(1,time):\n",
    "    for r in range(mesh):\n",
    "        if (r==0):            \n",
    "            b = T_sup(t*deltat)            \n",
    "            \n",
    "            Matrix_coef_b[0,0] = b \n",
    "            \n",
    "        if (r > 0) and (r < mesh-1):\n",
    "            ap0 = rho*cp*pi*H*((x_plot[r]+deltar/2)**2 - (x_plot[r]-deltar/2)**2)/deltat\n",
    "            \n",
    "            Matrix_coef_b[r,0] = ap0*T[t-1,r]\n",
    "            \n",
    "        if (r == mesh-1):\n",
    "            ap0 = rho*cp*pi*H*(x_plot[r]**2 - (x_plot[r]-deltar/2)**2)/deltat\n",
    "            b = 2*pi*re*H*h*T_infinito\n",
    "            Matrix_coef_b[r,0] = b + ap0*T[t-1,r]\n",
    "        \n",
    "    T[t,:] = TDMA(Matrix_coef_a,Matrix_coef_b)\n",
    "            \n",
    "#print(Matrix_coef_b)    \n",
    "            \n",
    "                "
   ]
  },
  {
   "cell_type": "code",
   "execution_count": 59,
   "metadata": {
    "collapsed": false
   },
   "outputs": [
    {
     "data": {
      "text/plain": [
       "array([ 0.05  ,  0.0515,  0.053 ,  0.0545,  0.056 ])"
      ]
     },
     "execution_count": 59,
     "metadata": {},
     "output_type": "execute_result"
    }
   ],
   "source": [
    "x_plot"
   ]
  },
  {
   "cell_type": "code",
   "execution_count": 60,
   "metadata": {
    "collapsed": false
   },
   "outputs": [
    {
     "data": {
      "text/plain": [
       "0.0014999999999999996"
      ]
     },
     "execution_count": 60,
     "metadata": {},
     "output_type": "execute_result"
    }
   ],
   "source": [
    "deltar"
   ]
  },
  {
   "cell_type": "code",
   "execution_count": null,
   "metadata": {
    "collapsed": true
   },
   "outputs": [],
   "source": []
  }
 ],
 "metadata": {
  "kernelspec": {
   "display_name": "Python 3",
   "language": "python",
   "name": "python3"
  },
  "language_info": {
   "codemirror_mode": {
    "name": "ipython",
    "version": 3
   },
   "file_extension": ".py",
   "mimetype": "text/x-python",
   "name": "python",
   "nbconvert_exporter": "python",
   "pygments_lexer": "ipython3",
   "version": "3.6.0"
  }
 },
 "nbformat": 4,
 "nbformat_minor": 2
}
