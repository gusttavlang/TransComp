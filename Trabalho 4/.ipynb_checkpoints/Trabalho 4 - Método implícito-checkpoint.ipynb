{
 "cells": [
  {
   "cell_type": "code",
   "execution_count": 2,
   "metadata": {
    "collapsed": true
   },
   "outputs": [],
   "source": [
    "import math\n",
    "import numpy as np\n",
    "from scipy.linalg import *\n",
    "import matplotlib.pyplot as plt\n",
    "import pandas as pd\n",
    "from pandas import DataFrame,Series"
   ]
  },
  {
   "cell_type": "code",
   "execution_count": 3,
   "metadata": {
    "collapsed": true
   },
   "outputs": [],
   "source": [
    "rho = 2700 #kg/m³\n",
    "cp = 900 #J/kg.°C\n",
    "k = 230 #W/m°C\n",
    "ri = 0.050 #m\n",
    "re = 0.056 #m\n",
    "T_infinito = 80 #°C\n",
    "h = 20000 #W/m².°C\n",
    "Ti = 80 #°C\n",
    "H = 1 #m²\n",
    "\n",
    "pi = math.pi"
   ]
  },
  {
   "cell_type": "code",
   "execution_count": 4,
   "metadata": {
    "collapsed": true
   },
   "outputs": [],
   "source": [
    "def T_sup(t):\n",
    "    T_sup = 150 + 50 * math.cos(50 * pi * t)\n",
    "    return T_sup"
   ]
  },
  {
   "cell_type": "code",
   "execution_count": 87,
   "metadata": {
    "collapsed": false
   },
   "outputs": [],
   "source": [
    "mesh = 21\n",
    "deltar = (re-ri)/(mesh-1)\n",
    "\n",
    "time = 650\n",
    "deltat = 0.002"
   ]
  },
  {
   "cell_type": "code",
   "execution_count": 88,
   "metadata": {
    "collapsed": false
   },
   "outputs": [],
   "source": [
    "def TDMA(A,B):   \n",
    "# o vetor de coeficientes P poderia ser definida\n",
    "#no procedimento principal, mas para fazer um método \n",
    "#genérico de resolução TDMA ela é definida aqui\n",
    "    P = np.zeros(mesh)\n",
    "    Q = np.zeros(mesh)\n",
    "    #T = np.zeros((mesh,1))  \n",
    "    T = np.zeros(mesh)\n",
    "    Matrix_P = np.zeros((mesh,mesh))\n",
    "    Matrix_Q = np.zeros((mesh,1))\n",
    "    \n",
    "    #print(B)\n",
    "    \n",
    "    Q[0] = B[0]/A[0,0]  \n",
    "    P[0] = A[0,1]/A[0,0]\n",
    "    \n",
    "\n",
    "    for i in range(1,mesh):        \n",
    "        Q[i] = (B[i] + A[i,i-1]*Q[i-1])/(A[i,i] - A[i,i-1]*P[i-1])\n",
    "        if (i<mesh-1):\n",
    "            P[i] = A[i,i+1]/(A[i,i] - A[i,i-1]*P[i-1])\n",
    "        \n",
    "        \n",
    "    '''\n",
    "    for i in range(mesh):\n",
    "        Matrix_P[i,i] = 1            \n",
    "        Matrix_Q[i,0] = Q[i]\n",
    "        \n",
    "        if (i< mesh-1):\n",
    "            Matrix_P[i,i+1] = -P[i]\n",
    "    T = solve(Matrix_P,Matrix_Q)  \n",
    "    '''\n",
    "    T[mesh-1] = Q[mesh-1]\n",
    "    for i in range(mesh-2,-1,-1):\n",
    "        T[i] = P[i] *T[i+1] + Q[i]\n",
    "        \n",
    "       \n",
    "    \n",
    "    \n",
    "    #print(Matrix_Q)\n",
    "    #return T.transpose()\n",
    "    return T\n"
   ]
  },
  {
   "cell_type": "code",
   "execution_count": 89,
   "metadata": {
    "collapsed": false
   },
   "outputs": [
    {
     "name": "stderr",
     "output_type": "stream",
     "text": [
      "C:\\Users\\Gusttav\\Anaconda3\\lib\\site-packages\\ipykernel\\__main__.py:75: VisibleDeprecationWarning: using a non-integer number instead of an integer will result in an error in the future\n"
     ]
    },
    {
     "ename": "IndexError",
     "evalue": "index 650 is out of bounds for axis 0 with size 650",
     "output_type": "error",
     "traceback": [
      "\u001b[0;31m---------------------------------------------------------------------------\u001b[0m",
      "\u001b[0;31mIndexError\u001b[0m                                Traceback (most recent call last)",
      "\u001b[0;32m<ipython-input-89-c334c01b0ba3>\u001b[0m in \u001b[0;36m<module>\u001b[0;34m()\u001b[0m\n\u001b[1;32m     70\u001b[0m \u001b[1;33m\u001b[0m\u001b[0m\n\u001b[1;32m     71\u001b[0m \u001b[1;33m\u001b[0m\u001b[0m\n\u001b[0;32m---> 72\u001b[0;31m     \u001b[0mT\u001b[0m\u001b[1;33m[\u001b[0m\u001b[0mt\u001b[0m\u001b[1;33m,\u001b[0m\u001b[1;33m:\u001b[0m\u001b[1;33m]\u001b[0m \u001b[1;33m=\u001b[0m \u001b[0mTDMA\u001b[0m\u001b[1;33m(\u001b[0m\u001b[0mMatrix_coef_a\u001b[0m\u001b[1;33m,\u001b[0m\u001b[0mMatrix_coef_b\u001b[0m\u001b[1;33m)\u001b[0m\u001b[1;33m\u001b[0m\u001b[0m\n\u001b[0m\u001b[1;32m     73\u001b[0m \u001b[1;33m\u001b[0m\u001b[0m\n\u001b[1;32m     74\u001b[0m     \u001b[1;31m#if (t_plot[t] > 0.04):\u001b[0m\u001b[1;33m\u001b[0m\u001b[1;33m\u001b[0m\u001b[0m\n",
      "\u001b[0;31mIndexError\u001b[0m: index 650 is out of bounds for axis 0 with size 650"
     ]
    }
   ],
   "source": [
    "#método numérico\n",
    "T = np.zeros((time,mesh))\n",
    "q = np.zeros((time,mesh))\n",
    "q_A = np.zeros((time,mesh))\n",
    "#M = rho * H * deltar\n",
    "x_plot = np.zeros(mesh)\n",
    "t_plot = np.zeros(time)\n",
    "\n",
    "Matrix_coef_a = np.zeros((mesh,mesh))\n",
    "Matrix_coef_b = np.zeros((mesh,1))\n",
    "\n",
    "x_plot[0] = ri\n",
    "t_plot[0] = 0\n",
    "for volume in range(mesh):\n",
    "    T[0,volume] = Ti \n",
    "    if volume>0:\n",
    "        x_plot[volume] = x_plot[volume-1] +deltar\n",
    "\n",
    "T[0,0] = T_sup(0)\n",
    "'''\n",
    "for t in range (time):\n",
    "    if t>0:\n",
    "        t_plot[t] = t_plot[t-1] + deltat\n",
    "'''\n",
    "#Definição da matriz de coeficientes        \n",
    "for r in range(mesh): \n",
    "    if (r == 0):\n",
    "        ap = 1                \n",
    "        Matrix_coef_a[0,0] = ap\n",
    "                    \n",
    "    if (r > 0) and (r < mesh-1):\n",
    "        ae = k*H*2*pi*(x_plot[r]+deltar/2)/deltar #malha igualmente espaçada\n",
    "        aw = k*H*2*pi*(x_plot[r]-deltar/2)/deltar\n",
    "        ap0 = rho*cp*pi*H*((x_plot[r]+deltar/2)**2 - (x_plot[r]-deltar/2)**2)/deltat\n",
    "        ap = ap0 + ae + aw\n",
    "            \n",
    "        Matrix_coef_a[r,r-1] = aw #coloquei como positivo para utilizar no TDMA\n",
    "        Matrix_coef_a[r,r+1] =ae #não precisaria definir matrizes de coef A e B,\n",
    "        Matrix_coef_a[r,r] = ap #porém fiz essa opção para obter um método\n",
    "        #Matrix_coef_b[r,0] = b #genérico de TDMA\n",
    "            \n",
    "            \n",
    "    if (r == mesh-1):\n",
    "        aw = k*H*2*pi*(x_plot[r]-deltar/2)/deltar\n",
    "        ap0 = rho*cp*pi*H*(x_plot[r]**2 - (x_plot[r]-deltar/2)**2)/deltat\n",
    "        ap = ap0 + aw + 2*pi*H*h*x_plot[r]\n",
    "        #b = 2*pi*re*H*h*T_infinito\n",
    "            \n",
    "        Matrix_coef_a[r,r-1] = aw\n",
    "        Matrix_coef_a[r,r] = ap\n",
    "t = 1 \n",
    "eps = 1\n",
    "while (eps > 1e-4):            \n",
    "#for t in range(1,time):\n",
    "    for r in range(mesh):\n",
    "        if (r==0):            \n",
    "            b = T_sup(t*deltat)            \n",
    "            \n",
    "            Matrix_coef_b[0,0] = b \n",
    "            \n",
    "        if (r > 0) and (r < mesh-1):\n",
    "            ap0 = rho*cp*pi*H*((x_plot[r]+deltar/2)**2 - (x_plot[r]-deltar/2)**2)/deltat\n",
    "            \n",
    "            Matrix_coef_b[r,0] = ap0*T[t-1,r]\n",
    "            \n",
    "        if (r == mesh-1):\n",
    "            ap0 = rho*cp*pi*H*(x_plot[r]**2 - (x_plot[r]-deltar/2)**2)/deltat\n",
    "            b = 2*pi*re*H*h*T_infinito\n",
    "            Matrix_coef_b[r,0] = b + ap0*T[t-1,r]\n",
    "        \n",
    "        \n",
    "    T[t,:] = TDMA(Matrix_coef_a,Matrix_coef_b)\n",
    "       \n",
    "    #if (t_plot[t] > 0.04):\n",
    "    eps = abs(T[t,mesh-1] - T[(t-(0.04/deltat)),mesh-1])\n",
    "    t_plot[t] = t_plot[t-1] + deltat\n",
    "    t += 1\n",
    "    \n",
    "for t in range(time):\n",
    "    for r in range(mesh-1):\n",
    "        q[t,r] = k*2*pi*(x_plot[r]-deltar/2)*H*(T[t,r]-T[t,r+1])/deltar\n",
    "        q_A[t,r] = k*(T[t,r]-T[t,r+1])/deltar\n",
    "    q[t,mesh-1] = h*2*pi*re*H*(T[t,mesh-1] - T_infinito)\n",
    "    q_A[t,mesh-1] = h*(T[t,mesh-1] - T_infinito)        \n",
    "                "
   ]
  },
  {
   "cell_type": "code",
   "execution_count": 99,
   "metadata": {
    "collapsed": false
   },
   "outputs": [
    {
     "data": {
      "text/plain": [
       "<matplotlib.legend.Legend at 0xc7c0ba8>"
      ]
     },
     "execution_count": 99,
     "metadata": {},
     "output_type": "execute_result"
    },
    {
     "data": {
      "image/png": "[encoded data removed]",
      "text/plain": [
       "<matplotlib.figure.Figure at 0xc6aa160>"
      ]
     },
     "metadata": {},
     "output_type": "display_data"
    }
   ],
   "source": [
    "%matplotlib inline\n",
    "fig = plt.figure(figsize=(8,6))\n",
    "axis = fig.add_subplot(111)  \n",
    "\n",
    "#for x in range(mesh):    \n",
    "    #axis.plot(t_plot,T[:,x],label='x = '+str(x_plot[x]) + ' m')\n",
    "    #axis.plot(t_plot,q[:,x],label='x = '+str(x_plot[x]) + ' m')\n",
    "    \n",
    "#T_max = [T[580,0], T[583,1], T[586,2], T[590,3], T[593,4]]\n",
    "#T_min = [T[590,0], T[593,1], T[596,2], T[580,3], T[583,4]]\n",
    "T_max = np.zeros(mesh)\n",
    "T_min = np.ones(mesh)*300\n",
    "for x in range(mesh):\n",
    "    for i in range(580,600):\n",
    "        if (T[i,x] > T_max[x]):\n",
    "            T_max[x] = T[i,x]\n",
    "        if (T[i,x] < T_min[x]):\n",
    "            T_min[x] = T[i,x]       \n",
    "        \n",
    "    \n",
    "axis.plot(x_plot,T_max,label = 'Temperatura máxima',marker ='o')    \n",
    "axis.plot(x_plot,T_min,label = 'Temperatura mínima',marker ='s')\n",
    "#axis.set_ylabel('q [W]')    \n",
    "axis.set_ylabel('T[°C]')\n",
    "axis.set_xlabel('t [s]')\n",
    "axis.set_title('')\n",
    "\n",
    "axis.ticklabel_format(style = 'plain')\n",
    "\n",
    "axis.legend(loc=\"best\")\n",
    "#axis.legend(bbox_to_anchor=(1.05, 1), loc=2, borderaxespad=0.)\n",
    "#axis.set_ylim(124.5,125.5)\n",
    "#axis.set_xlim(1.15,1.2)\n"
   ]
  },
  {
   "cell_type": "code",
   "execution_count": 98,
   "metadata": {
    "collapsed": false
   },
   "outputs": [
    {
     "data": {
      "text/plain": [
       "1.2000000000000008"
      ]
     },
     "execution_count": 98,
     "metadata": {},
     "output_type": "execute_result"
    }
   ],
   "source": [
    "t_plot[600]"
   ]
  },
  {
   "cell_type": "code",
   "execution_count": 94,
   "metadata": {
    "collapsed": false
   },
   "outputs": [
    {
     "data": {
      "text/plain": [
       "129.595"
      ]
     },
     "execution_count": 94,
     "metadata": {},
     "output_type": "execute_result"
    }
   ],
   "source": [
    "T[593,4].round(3)"
   ]
  },
  {
   "cell_type": "code",
   "execution_count": null,
   "metadata": {
    "collapsed": true
   },
   "outputs": [],
   "source": []
  }
 ],
 "metadata": {
  "kernelspec": {
   "display_name": "Python 3",
   "language": "python",
   "name": "python3"
  },
  "language_info": {
   "codemirror_mode": {
    "name": "ipython",
    "version": 3
   },
   "file_extension": ".py",
   "mimetype": "text/x-python",
   "name": "python",
   "nbconvert_exporter": "python",
   "pygments_lexer": "ipython3",
   "version": "3.6.0"
  }
 },
 "nbformat": 4,
 "nbformat_minor": 2
}
