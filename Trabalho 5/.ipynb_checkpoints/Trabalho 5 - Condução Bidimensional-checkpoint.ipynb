{
 "cells": [
  {
   "cell_type": "code",
   "execution_count": 1,
   "metadata": {
    "collapsed": true
   },
   "outputs": [],
   "source": [
    "import numpy as np\n",
    "from scipy.linalg import *\n",
    "import matplotlib.pyplot as plt\n",
    "import pandas as pd\n",
    "from pandas import DataFrame,Series\n",
    "import math"
   ]
  },
  {
   "cell_type": "code",
   "execution_count": 2,
   "metadata": {
    "collapsed": true
   },
   "outputs": [],
   "source": [
    "k = 230 #W/m°C \n",
    "L = 0.050 #m\n",
    "t = 0.002 #m\n",
    "h = 210 #W/m²°C Convecção Forçada\n",
    "T0 = 80 #°C\n",
    "T_infinito = 25 #°C\n",
    "w = 1 #m"
   ]
  },
  {
   "cell_type": "code",
   "execution_count": 3,
   "metadata": {
    "collapsed": false
   },
   "outputs": [],
   "source": [
    "meshx = 5\n",
    "deltax = L/(meshx-0.5)"
   ]
  },
  {
   "cell_type": "code",
   "execution_count": 4,
   "metadata": {
    "collapsed": false
   },
   "outputs": [],
   "source": [
    "#Solução exata 1D\n",
    "\n",
    "x_plot = np.zeros(meshx)\n",
    "T_exato = np.zeros(meshx)\n",
    "\n",
    "\n",
    "x_plot[0] = deltax/2\n",
    "for x in range(1,meshx):\n",
    "    x_plot[x] = x_plot[x-1] + deltax\n",
    "    \n",
    "\n",
    "m= (2*h/(k*t))**0.5\n",
    "\n",
    "eta = math.tanh(m*L)/(m*L)\n",
    "\n",
    "for x in range(meshx):\n",
    "    T_exato[x] = math.cosh(m*(L-x_plot[x]))/math.cosh(m*L) * (T0-T_infinito) + T_infinito\n",
    "    \n",
    "q_exato = (h*2*L*k*t*L)**0.5*(T0-T_infinito)*math.tanh(m*L)\n",
    "\n"
   ]
  },
  {
   "cell_type": "code",
   "execution_count": 5,
   "metadata": {
    "collapsed": false
   },
   "outputs": [
    {
     "data": {
      "text/plain": [
       "0.6003892140188192"
      ]
     },
     "execution_count": 5,
     "metadata": {},
     "output_type": "execute_result"
    }
   ],
   "source": [
    "eta"
   ]
  },
  {
   "cell_type": "code",
   "execution_count": 7,
   "metadata": {
    "collapsed": true
   },
   "outputs": [],
   "source": [
    "#Numérico 2D\n",
    "\n",
    "\n"
   ]
  }
 ],
 "metadata": {
  "kernelspec": {
   "display_name": "Python [default]",
   "language": "python",
   "name": "python3"
  },
  "language_info": {
   "codemirror_mode": {
    "name": "ipython",
    "version": 3
   },
   "file_extension": ".py",
   "mimetype": "text/x-python",
   "name": "python",
   "nbconvert_exporter": "python",
   "pygments_lexer": "ipython3",
   "version": "3.5.2"
  }
 },
 "nbformat": 4,
 "nbformat_minor": 2
}
