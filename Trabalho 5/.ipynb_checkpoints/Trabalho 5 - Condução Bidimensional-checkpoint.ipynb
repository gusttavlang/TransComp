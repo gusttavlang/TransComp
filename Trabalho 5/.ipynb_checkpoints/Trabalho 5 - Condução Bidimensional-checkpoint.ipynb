{
 "cells": [
  {
   "cell_type": "code",
   "execution_count": 1,
   "metadata": {
    "collapsed": true
   },
   "outputs": [],
   "source": [
    "import numpy as np\n",
    "from scipy.linalg import *\n",
    "import matplotlib.pyplot as plt\n",
    "import pandas as pd\n",
    "from pandas import DataFrame,Series\n",
    "import math\n",
    "import time"
   ]
  },
  {
   "cell_type": "code",
   "execution_count": 2,
   "metadata": {
    "collapsed": true
   },
   "outputs": [],
   "source": [
    "k = 230 #W/m°C \n",
    "L = 0.050 #m\n",
    "t = 0.002 #m\n",
    "h = 210 #W/m²°C Convecção Forçada\n",
    "T0 = 80 #°C\n",
    "T_infinito = 25 #°C\n",
    "w = 1 #m"
   ]
  },
  {
   "cell_type": "code",
   "execution_count": 3,
   "metadata": {
    "collapsed": false
   },
   "outputs": [],
   "source": [
    "meshx = 10\n",
    "deltax = L/(meshx-0.5)\n",
    "\n",
    "meshy = 10\n",
    "deltay = (t/2)/(meshy-1)"
   ]
  },
  {
   "cell_type": "code",
   "execution_count": 4,
   "metadata": {
    "collapsed": false
   },
   "outputs": [],
   "source": [
    "#Solução exata 1D\n",
    "\n",
    "x_plot = np.zeros(meshx)\n",
    "y_plot = np.zeros(meshy)\n",
    "T_exato = np.zeros(meshx)\n",
    "\n",
    "\n",
    "x_plot[0] = deltax/2\n",
    "for x in range(1,meshx):\n",
    "    x_plot[x] = x_plot[x-1] + deltax\n",
    "    \n",
    "y_plot[0] = 0\n",
    "for y in range(1,meshy):\n",
    "    y_plot[y] = y_plot[y-1] + deltay\n",
    "    \n",
    "\n",
    "m= (2*h/(k*t))**0.5\n",
    "\n",
    "eta = math.tanh(m*L)/(m*L)\n",
    "\n",
    "for x in range(meshx):\n",
    "    T_exato[x] = math.cosh(m*(L-x_plot[x]))/math.cosh(m*L) * (T0-T_infinito) + T_infinito\n",
    "    \n",
    "q_exato = (h*2*w*k*t*w)**0.5*(T0-T_infinito)*math.tanh(m*L)\n",
    "\n"
   ]
  },
  {
   "cell_type": "code",
   "execution_count": 5,
   "metadata": {
    "collapsed": false
   },
   "outputs": [
    {
     "data": {
      "text/plain": [
       "0.6003892140188192"
      ]
     },
     "execution_count": 5,
     "metadata": {},
     "output_type": "execute_result"
    }
   ],
   "source": [
    "eta"
   ]
  },
  {
   "cell_type": "code",
   "execution_count": 6,
   "metadata": {
    "collapsed": false
   },
   "outputs": [
    {
     "data": {
      "text/plain": [
       "693.4495421917362"
      ]
     },
     "execution_count": 6,
     "metadata": {},
     "output_type": "execute_result"
    }
   ],
   "source": [
    "q_exato"
   ]
  },
  {
   "cell_type": "code",
   "execution_count": 7,
   "metadata": {
    "collapsed": false
   },
   "outputs": [],
   "source": [
    "#Numérico 2D\n",
    "tempo_inicial = time.time()\n",
    "Matrix_coef_a = np.zeros((meshx*meshy,meshx*meshy))\n",
    "Matrix_coef_b = np.zeros((meshx*meshy,1))\n",
    "T=np.zeros((meshx*meshy,1))\n",
    "ae = np.zeros((meshx,meshy))\n",
    "aw = np.zeros((meshx,meshy))\n",
    "an = np.zeros((meshx,meshy))\n",
    "aS = np.zeros((meshx,meshy))\n",
    "ap = np.zeros((meshx,meshy))\n",
    "b = np.zeros((meshx,meshy))\n",
    " \n",
    "for x in range(meshx):\n",
    "    for y in range(meshy):\n",
    "        #volume inferior esquerdo\n",
    "        if (x == 0) and (y==0):\n",
    "            aw[x,y] = 0\n",
    "            ae[x,y] = k*(deltay/2)*w/deltax\n",
    "            an[x,y] = k*deltax*w/deltay\n",
    "            aS[x,y] = 0\n",
    "            aw_f = k*(deltay/2)*w/(deltax/2)\n",
    "            ap[x,y] = aw[x,y] + ae[x,y] + an[x,y] + aS[x,y] +aw_f\n",
    "            b[x,y] = aw_f*T0\n",
    "            \n",
    "        #volume inferior direito\n",
    "        if (x == 0) and (y==meshy-1):\n",
    "            aw[x,y] = k*(deltay/2)*w/deltax\n",
    "            ae[x,y] = 0\n",
    "            an[x,y] = k*(deltax/2)*w/deltay\n",
    "            aS[x,y] = 0            \n",
    "            ap[x,y] = aw[x,y] + ae[x,y] + an[x,y] + aS[x,y] \n",
    "            b[x,y] = 0\n",
    "        \n",
    "        #volume superior esquerdo\n",
    "        if (x == meshx-1) and (y==0):\n",
    "            aw[x,y] = 0\n",
    "            ae[x,y] = k*(deltay/2)*w/deltax\n",
    "            an[x,y] = 0\n",
    "            aS[x,y] = k*deltax*w/deltay\n",
    "            an_f = h*deltax*w\n",
    "            aw_f = k*(deltay/2)*w/(deltax/2)\n",
    "            ap[x,y] = aw[x,y] + ae[x,y] + an[x,y] + aS[x,y] +aw_f + an_f\n",
    "            b[x,y] = aw_f*T0 + an_f*T_infinito\n",
    "            \n",
    "        #volume superior direito\n",
    "        if (x == meshx-1) and (y==meshy-1):\n",
    "            aw[x,y] = k*(deltay/2)*w/deltax\n",
    "            ae[x,y] = 0\n",
    "            an[x,y] = 0\n",
    "            aS[x,y] = k*(deltax/2)*w/(deltay) \n",
    "            an_f = h*(deltax/2)*w\n",
    "            ap[x,y] = aw[x,y] + ae[x,y] + an[x,y] + aS[x,y] +an_f\n",
    "            b[x,y] = an_f*T_infinito\n",
    "            \n",
    "        #volumes na face esquerda\n",
    "        if (y == 0) and (x>0) and (x<meshx-1):\n",
    "            aw[x,y] = 0\n",
    "            ae[x,y] = k*deltay*w/deltax\n",
    "            an[x,y] = k*deltax*w/deltay\n",
    "            aS[x,y] = k*deltax*w/deltay\n",
    "            aw_f = k*deltay*w/(deltax/2)\n",
    "            ap[x,y] = aw[x,y] + ae[x,y] + an[x,y] + aS[x,y] +aw_f\n",
    "            b[x,y] = aw_f*T0\n",
    "            \n",
    "        #volumes na face direita\n",
    "        if (y == meshy-1) and (x>0) and (x<meshx-1):\n",
    "            aw[x,y] = k*deltay*w/deltax\n",
    "            ae[x,y] = 0\n",
    "            an[x,y] = k*(deltax/2)*w/deltay\n",
    "            aS[x,y] = k*(deltax/2)*w/deltay            \n",
    "            ap[x,y] = aw[x,y] + ae[x,y] + an[x,y] + aS[x,y] \n",
    "            b[x,y] = 0  \n",
    "            \n",
    "        #volumes no norte\n",
    "        if (x == meshx-1) and (y>0) and (y<meshy-1):\n",
    "            aw[x,y] = k*(deltay/2)*w/deltax\n",
    "            ae[x,y] = k*(deltay/2)*w/deltax\n",
    "            an[x,y] = 0\n",
    "            aS[x,y] = k*deltax*w/deltay \n",
    "            an_f = h*deltax*w\n",
    "            ap[x,y] = aw[x,y] + ae[x,y] + an[x,y] + aS[x,y] +an_f\n",
    "            b[x,y] = an_f*T_infinito\n",
    "            \n",
    "        #volumes no sul\n",
    "        if (x == 0) and (y>0) and (y<meshy-1):\n",
    "            aw[x,y] = k*(deltay/2)*w/deltax\n",
    "            ae[x,y] = k*(deltay/2)*w/deltax\n",
    "            an[x,y] = k*deltax*w/deltay\n",
    "            aS[x,y] = 0            \n",
    "            ap[x,y] = aw[x,y] + ae[x,y] + an[x,y] + aS[x,y] \n",
    "            b[x,y] = 0\n",
    "            \n",
    "        #volumes internos\n",
    "        if (x>0) and (x < meshx-1) and (y>0) and (y<meshy-1):\n",
    "            aw[x,y] = k*deltay*w/deltax\n",
    "            ae[x,y] = aw[x,y]\n",
    "            an[x,y] = k*deltax*w/deltay\n",
    "            aS[x,y] = an[x,y]            \n",
    "            ap[x,y] = aw[x,y] + ae[x,y] + an[x,y] + aS[x,y] \n",
    "            b[x,y] = 0\n",
    "        \n",
    "                     \n",
    "#montando a matriz de coeficientes:\n",
    "cont = 0\n",
    "for x in range(meshx):\n",
    "    for y in range(meshy):\n",
    "        Matrix_coef_a[cont,cont] = ap[x,y]\n",
    "        Matrix_coef_a[cont,cont-1] = -aw[x,y]\n",
    "        \n",
    "        if cont < meshx*meshy-1:\n",
    "            Matrix_coef_a[cont,cont+1] = -ae[x,y]\n",
    "        if cont < meshx*meshy-meshy:   \n",
    "            Matrix_coef_a[cont,cont+meshy] = -an[x,y]\n",
    "        if cont >meshy-1:\n",
    "            Matrix_coef_a[cont,cont-meshy] = -aS[x,y]\n",
    "        \n",
    "        \n",
    "        Matrix_coef_b[cont,0] = b[x,y]\n",
    "        cont += 1\n",
    "        \n",
    "    \n",
    "T = solve(Matrix_coef_a,Matrix_coef_b)\n",
    "\n",
    "T_plot = np.zeros((meshx,meshy))\n",
    "\n",
    "#transformando o vetor Temperatura em Matriz\n",
    "\n",
    "cont = 0\n",
    "for x in range(meshx):\n",
    "    for y in range(meshy):\n",
    "        T_plot[x,y] = T[cont]\n",
    "        cont += 1\n",
    "\n",
    "q_cond =np.zeros(meshx)\n",
    "q_cond[0] = (T0 - T_plot[0,0]) * k *(deltay/2)*w/(deltax/2)\n",
    "for x in range(1,meshx-1):\n",
    "    q_cond[x] = (T0 - T_plot[x,0]) * k *deltay*w/(deltax/2)\n",
    "q_cond[meshx-1] = (T0 - T_plot[meshx-1,0]) * k *(deltay/2)*w/(deltax/2)\n",
    "\n",
    "q_conv = np.zeros(meshy)\n",
    "for y in range(meshy-1):\n",
    "    q_conv[y] = (T_plot[meshx-1,y] - T_infinito) * h * deltax*w\n",
    "q_conv[meshy-1] = (T_plot[meshx-1,meshy-1] - T_infinito) * h * (deltax/2)*w\n",
    "\n",
    "q_cond_total = sum(q_cond) *2\n",
    "q_conv_total = sum(q_conv) *2\n",
    "\n",
    "tempo_final = time.time()\n",
    "\n",
    "tempo = tempo_final-tempo_inicial\n"
   ]
  },
  {
   "cell_type": "code",
   "execution_count": 8,
   "metadata": {
    "collapsed": false
   },
   "outputs": [
    {
     "data": {
      "text/plain": [
       "690.91791053807322"
      ]
     },
     "execution_count": 8,
     "metadata": {},
     "output_type": "execute_result"
    }
   ],
   "source": [
    "q_cond_total"
   ]
  },
  {
   "cell_type": "code",
   "execution_count": 9,
   "metadata": {
    "collapsed": false
   },
   "outputs": [
    {
     "data": {
      "text/plain": [
       "690.91791053231316"
      ]
     },
     "execution_count": 9,
     "metadata": {},
     "output_type": "execute_result"
    }
   ],
   "source": [
    "q_conv_total"
   ]
  },
  {
   "cell_type": "code",
   "execution_count": null,
   "metadata": {
    "collapsed": false
   },
   "outputs": [],
   "source": [
    "#Grafico 2D\n",
    "%matplotlib inline\n",
    "        \n",
    "X,Y = np.meshgrid(x_plot,y_plot)\n",
    "\n",
    "fig, ax = plt.subplots()\n",
    "\n",
    "#ax.contourf(X,Y,T_plot,200,'linestyle')\n",
    "p = ax.pcolor(X, Y, T_plot, cmap='jet', vmin=abs(T_plot).min(), vmax=abs(T_plot).max())\n",
    "cb = fig.colorbar(p, ax=ax)\n",
    "\n",
    "cb.set_label('T[°C]')\n",
    "\n",
    "ax.set_ylabel('y [m]')\n",
    "ax.set_xlabel('x [m]')\n",
    "\n",
    "\n"
   ]
  },
  {
   "cell_type": "code",
   "execution_count": null,
   "metadata": {
    "collapsed": false
   },
   "outputs": [],
   "source": [
    "#Tentativa numérico 1D\n",
    "\n",
    "T_1D = np.zeros(meshx)\n",
    "T_anterior = np.zeros(meshx)\n",
    "A=t*w\n",
    "\n",
    "a_w = np.zeros(meshx)\n",
    "a_e = np.zeros(meshx)\n",
    "a_p = np.zeros(meshx)\n",
    "a_w = np.zeros(meshx)\n",
    "b = np.zeros(meshx)\n",
    "A1D = np.zeros((meshx,meshx))\n",
    "B1D = np.zeros((meshx,1))\n",
    "erro = np.zeros(meshx)\n",
    "\n",
    "eps = 1\n",
    "\n",
    "#chute inicial de temperatura\n",
    "T_1D[0] = T0\n",
    "for x in range(meshx):\n",
    "    T_1D[x] = -75*x_plot[x] + 87.5\n",
    "    \n",
    "cont2 = 0\n",
    "while eps > 1e-12:\n",
    "    cont2 +=1\n",
    "    T_anterior = T_1D\n",
    "    \n",
    "    a_w[0] = 0\n",
    "    a_e[0] = k*A/deltax    \n",
    "    aw_f = k*A/(deltax/2)\n",
    "    q_ponto = 2*h*deltax*w\n",
    "    a_p[0] = a_w[0] + a_e[0] +aw_f + q_ponto\n",
    "    b[0] = aw_f*T0 + q_ponto*T_infinito\n",
    "    \n",
    "    for x in range(1,meshx-1):\n",
    "        a_w[x] = k*A/deltax \n",
    "        a_e[x] = k*A/deltax\n",
    "        q_ponto = 2*h*deltax*w\n",
    "        a_p[x] = a_w[x] + a_e[x] +q_ponto\n",
    "        b[x] = q_ponto*T_infinito        \n",
    "\n",
    "    \n",
    "    a_w[meshx-1] = k*A/deltax\n",
    "    a_e[meshx-1] = 0\n",
    "    q_ponto = h*deltax*w\n",
    "    a_p[meshx-1] = a_w[meshx-1] + a_e[meshx-1] + q_ponto\n",
    "    b[meshx-1] = q_ponto*T_infinito  \n",
    "    \n",
    "    for x in range(meshx):\n",
    "        A1D[x,x] = a_p[x]\n",
    "        if x < meshx-1:\n",
    "            A1D[x,x+1] = -a_e[x]\n",
    "        if x > 0:\n",
    "            A1D[x,x-1] = -a_w[x]\n",
    "        B1D[x,0] = b[x]\n",
    "        \n",
    "    T_1D = solve(A1D,B1D)\n",
    "    \n",
    "    for x in range (meshx):\n",
    "        erro[x] =T_1D[x] - T_anterior[x]\n",
    "        \n",
    "    \n",
    "    eps = abs(erro.max())\n",
    "    \n",
    "    "
   ]
  },
  {
   "cell_type": "code",
   "execution_count": null,
   "metadata": {
    "collapsed": false
   },
   "outputs": [],
   "source": [
    "cont2"
   ]
  },
  {
   "cell_type": "code",
   "execution_count": null,
   "metadata": {
    "collapsed": false
   },
   "outputs": [],
   "source": [
    "#Grafico 1D\n",
    "%matplotlib inline\n",
    "\n",
    "fig = plt.figure(figsize=(8,6))\n",
    "axis = fig.add_subplot(111)    \n",
    "\n",
    "\n",
    "axis.plot(x_plot,T_exato,label='Solução 1D exata')\n",
    "axis.scatter(x_plot,T_1D, label ='Numérico 1D',color ='red')\n",
    "\n",
    "axis.set_ylabel('T [°C]')\n",
    "axis.set_xlabel('x [m]')\n",
    "axis.set_title('')\n",
    "axis.legend(loc='best')"
   ]
  }
 ],
 "metadata": {
  "kernelspec": {
   "display_name": "Python [default]",
   "language": "python",
   "name": "python3"
  },
  "language_info": {
   "codemirror_mode": {
    "name": "ipython",
    "version": 3
   },
   "file_extension": ".py",
   "mimetype": "text/x-python",
   "name": "python",
   "nbconvert_exporter": "python",
   "pygments_lexer": "ipython3",
   "version": "3.5.2"
  }
 },
 "nbformat": 4,
 "nbformat_minor": 2
}
