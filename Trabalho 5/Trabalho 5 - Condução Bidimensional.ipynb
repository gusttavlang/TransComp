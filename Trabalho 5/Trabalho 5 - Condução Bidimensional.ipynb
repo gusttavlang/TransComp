{
 "cells": [
  {
   "cell_type": "code",
   "execution_count": 1,
   "metadata": {
    "collapsed": true
   },
   "outputs": [],
   "source": [
    "import numpy as np\n",
    "from scipy.linalg import *\n",
    "import matplotlib.pyplot as plt\n",
    "import pandas as pd\n",
    "from pandas import DataFrame,Series\n",
    "import math"
   ]
  },
  {
   "cell_type": "code",
   "execution_count": 2,
   "metadata": {
    "collapsed": true
   },
   "outputs": [],
   "source": [
    "k = 230 #W/m°C \n",
    "L = 0.050 #m\n",
    "t = 0.002 #m\n",
    "h = 210 #W/m²°C Convecção Forçada\n",
    "T0 = 80 #°C\n",
    "T_infinito = 25 #°C\n",
    "w = 1 #m"
   ]
  },
  {
   "cell_type": "code",
   "execution_count": 55,
   "metadata": {
    "collapsed": false
   },
   "outputs": [],
   "source": [
    "meshx = 3\n",
    "deltax = L/(meshx-0.5)\n",
    "\n",
    "meshy = 3\n",
    "deltay = t/(meshy-1)"
   ]
  },
  {
   "cell_type": "code",
   "execution_count": 56,
   "metadata": {
    "collapsed": false
   },
   "outputs": [],
   "source": [
    "#Solução exata 1D\n",
    "\n",
    "x_plot = np.zeros(meshx)\n",
    "T_exato = np.zeros(meshx)\n",
    "\n",
    "\n",
    "x_plot[0] = deltax/2\n",
    "for x in range(1,meshx):\n",
    "    x_plot[x] = x_plot[x-1] + deltax\n",
    "    \n",
    "\n",
    "m= (2*h/(k*t))**0.5\n",
    "\n",
    "eta = math.tanh(m*L)/(m*L)\n",
    "\n",
    "for x in range(meshx):\n",
    "    T_exato[x] = math.cosh(m*(L-x_plot[x]))/math.cosh(m*L) * (T0-T_infinito) + T_infinito\n",
    "    \n",
    "q_exato = (h*2*L*k*t*L)**0.5*(T0-T_infinito)*math.tanh(m*L)\n",
    "\n"
   ]
  },
  {
   "cell_type": "code",
   "execution_count": 57,
   "metadata": {
    "collapsed": false
   },
   "outputs": [
    {
     "data": {
      "text/plain": [
       "0.6003892140188192"
      ]
     },
     "execution_count": 57,
     "metadata": {},
     "output_type": "execute_result"
    }
   ],
   "source": [
    "eta"
   ]
  },
  {
   "cell_type": "code",
   "execution_count": 79,
   "metadata": {
    "collapsed": false
   },
   "outputs": [
    {
     "data": {
      "text/plain": [
       "array([[  920. ],\n",
       "       [  105. ],\n",
       "       [    0. ],\n",
       "       [ 1840. ],\n",
       "       [    0. ],\n",
       "       [    0. ],\n",
       "       [ 1025. ],\n",
       "       [    0. ],\n",
       "       [   52.5]])"
      ]
     },
     "execution_count": 79,
     "metadata": {},
     "output_type": "execute_result"
    }
   ],
   "source": [
    "#Numérico 2D\n",
    "Matrix_coef_a = np.zeros((meshx*meshy,meshx*meshy))\n",
    "Matrix_coef_b = np.zeros((meshx*meshy,1))\n",
    "T=np.zeros((meshx*meshy,1))\n",
    "ae = np.zeros((meshx,meshy))\n",
    "aw = np.zeros((meshx,meshy))\n",
    "an = np.zeros((meshx,meshy))\n",
    "aS = np.zeros((meshx,meshy))\n",
    "ap = np.zeros((meshx,meshy))\n",
    "b = np.zeros((meshx,meshy))\n",
    " \n",
    "for x in range(meshx):\n",
    "    for y in range(meshy):\n",
    "        #volume inferior esquerdo\n",
    "        if (x == 0) and (y==0):\n",
    "            aw[x,y] = 0\n",
    "            ae[x,y] = k*(deltay/2)*w/deltax\n",
    "            an[x,y] = k*deltax*w/deltay\n",
    "            aS[x,y] = 0\n",
    "            aw_f = k*(deltay/2)*w/(deltax/2)\n",
    "            ap[x,y] = aw[x,y] + ae[x,y] + an[x,y] + aS[x,y] +aw_f\n",
    "            b[x,y] = aw_f*T0\n",
    "            \n",
    "        #volume inferior direito\n",
    "        if (x == 0) and (y==meshy-1):\n",
    "            aw[x,y] = k*(deltay/2)*w/deltax\n",
    "            ae[x,y] = 0\n",
    "            an[x,y] = k*(deltax/2)*w/deltay\n",
    "            aS[x,y] = 0            \n",
    "            ap[x,y] = aw[x,y] + ae[x,y] + an[x,y] + aS[x,y] \n",
    "            b[x,y] = 0\n",
    "        \n",
    "        #volume superior esquerdo\n",
    "        if (x == meshx-1) and (y==0):\n",
    "            aw[x,y] = 0\n",
    "            ae[x,y] = k*(deltay/2)*w/deltax\n",
    "            an[x,y] = 0\n",
    "            aS[x,y] = k*deltax*w/deltay\n",
    "            an_f = h*deltax*w\n",
    "            aw_f = k*(deltay/2)*w/(deltax/2)\n",
    "            ap[x,y] = aw[x,y] + ae[x,y] + an[x,y] + aS[x,y] +aw_f + an_f\n",
    "            b[x,y] = aw_f*T0 + an_f*T_infinito\n",
    "            \n",
    "        #volume superior direito\n",
    "        if (x == meshx-1) and (y==meshy-1):\n",
    "            aw[x,y] = k*(deltay/2)*w/deltax\n",
    "            ae[x,y] = 0\n",
    "            an[x,y] = 0\n",
    "            aS[x,y] = k*(deltax/2)*w/(deltay) \n",
    "            an_f = h*(deltax/2)*w\n",
    "            ap[x,y] = aw[x,y] + ae[x,y] + an[x,y] + aS[x,y] +an_f\n",
    "            b[x,y] = an_f*T_infinito\n",
    "            \n",
    "        #volumes na face esquerda\n",
    "        if (y == 0) and (x>0) and (x<meshx-1):\n",
    "            aw[x,y] = 0\n",
    "            ae[x,y] = k*deltay*w/deltax\n",
    "            an[x,y] = k*deltax*w/deltay\n",
    "            aS[x,y] = k*deltax*w/deltay\n",
    "            aw_f = k*deltay*w/(deltax/2)\n",
    "            ap[x,y] = aw[x,y] + ae[x,y] + an[x,y] + aS[x,y] +aw_f\n",
    "            b[x,y] = aw_f*T0\n",
    "            \n",
    "        #volumes na face direita\n",
    "        if (y == meshy-1) and (x>0) and (x<meshx-1):\n",
    "            aw[x,y] = k*deltay*w/deltax\n",
    "            ae[x,y] = 0\n",
    "            an[x,y] = k*(deltax/2)*w/deltay\n",
    "            aS[x,y] = k*(deltax/2)*w/deltay            \n",
    "            ap[x,y] = aw[x,y] + ae[x,y] + an[x,y] + aS[x,y] \n",
    "            b[x,y] = 0  \n",
    "            \n",
    "        #volumes no norte\n",
    "        if (x == 0) and (y>0) and (y<meshy-1):\n",
    "            aw[x,y] = k*(deltay/2)*w/deltax\n",
    "            ae[x,y] = k*(deltay/2)*w/deltax\n",
    "            an[x,y] = 0\n",
    "            aS[x,y] = k*deltax*w/deltay \n",
    "            an_f = h*deltax*w\n",
    "            ap[x,y] = aw[x,y] + ae[x,y] + an[x,y] + aS[x,y] +an_f\n",
    "            b[x,y] = an_f*T_infinito\n",
    "            \n",
    "        #volumes no sul\n",
    "        if (x == meshx-1) and (y>0) and (y<meshy-1):\n",
    "            aw[x,y] = k*(deltay/2)*w/deltax\n",
    "            ae[x,y] = k*(deltay/2)*w/deltax\n",
    "            an[x,y] = k*deltax*w/deltay\n",
    "            aS[x,y] = 0            \n",
    "            ap[x,y] = aw[x,y] + ae[x,y] + an[x,y] + aS[x,y] \n",
    "            b[x,y] = 0\n",
    "            \n",
    "        #volumes internos\n",
    "        if (x>0) and (x < meshx-1) and (y>0) and (y<meshy-1):\n",
    "            aw[x,y] = k*deltay*w/deltax\n",
    "            ae[x,y] = aw[x,y]\n",
    "            an[x,y] = k*deltax*w/deltay\n",
    "            aS[x,y] = an[x,y]            \n",
    "            ap[x,y] = aw[x,y] + ae[x,y] + an[x,y] + aS[x,y] \n",
    "            b[x,y] = 0\n",
    "        \n",
    "                     \n",
    "#montando a matriz de coeficientes:\n",
    "cont = 0\n",
    "for x in range(meshx):\n",
    "    for y in range(meshy):\n",
    "        Matrix_coef_a[cont,cont] = ap[x,y]\n",
    "        Matrix_coef_a[cont,cont-1] = aw[x,y]\n",
    "        try:\n",
    "            Matrix_coef_a[cont,cont+1] = ae[x,y]\n",
    "            Matrix_coef_a[cont,cont+meshy] = an[x,y]\n",
    "            Matrix_coef_a[cont,cont-meshy] = aS[x,y]\n",
    "        except:\n",
    "            cont = cont\n",
    "        Matrix_coef_b[cont,0] = b[x,y]\n",
    "        cont += 1\n",
    "        \n",
    "    \n",
    "Matrix_coef_b\n"
   ]
  },
  {
   "cell_type": "code",
   "execution_count": 80,
   "metadata": {
    "collapsed": false
   },
   "outputs": [
    {
     "data": {
      "text/plain": [
       "array([[  920. ,   105. ,     0. ],\n",
       "       [ 1840. ,     0. ,     0. ],\n",
       "       [ 1025. ,     0. ,    52.5]])"
      ]
     },
     "execution_count": 80,
     "metadata": {},
     "output_type": "execute_result"
    }
   ],
   "source": [
    "b"
   ]
  },
  {
   "cell_type": "code",
   "execution_count": null,
   "metadata": {
    "collapsed": true
   },
   "outputs": [],
   "source": []
  }
 ],
 "metadata": {
  "kernelspec": {
   "display_name": "Python [default]",
   "language": "python",
   "name": "python3"
  },
  "language_info": {
   "codemirror_mode": {
    "name": "ipython",
    "version": 3
   },
   "file_extension": ".py",
   "mimetype": "text/x-python",
   "name": "python",
   "nbconvert_exporter": "python",
   "pygments_lexer": "ipython3",
   "version": "3.5.2"
  }
 },
 "nbformat": 4,
 "nbformat_minor": 2
}
